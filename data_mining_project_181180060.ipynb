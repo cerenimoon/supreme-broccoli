{
 "cells": [
  {
   "cell_type": "code",
   "execution_count": 3,
   "id": "cea3c094",
   "metadata": {},
   "outputs": [],
   "source": [
    "import pandas as pd\n",
    "import numpy as np\n",
    "import seaborn as sns\n",
    "import matplotlib.pyplot as plt\n",
    "from scipy.stats import entropy\n",
    "from sklearn.tree import DecisionTreeClassifier\n",
    "from sklearn.ensemble import RandomForestClassifier \n",
    "from sklearn.linear_model import LogisticRegression\n",
    "from sklearn.naive_bayes import GaussianNB\n",
    "from sklearn.model_selection import train_test_split\n",
    "from sklearn.metrics import classification_report, confusion_matrix\n",
    "from sklearn.metrics import recall_score\n",
    "from sklearn.metrics import precision_score\n",
    "from sklearn.metrics import f1_score\n",
    "from sklearn.metrics import accuracy_score\n",
    "from sklearn.metrics import confusion_matrix\n",
    "from sklearn import preprocessing\n",
    "from sklearn.model_selection import GridSearchCV \n",
    "from sklearn.preprocessing import MinMaxScaler, StandardScaler\n",
    "import math"
   ]
  },
  {
   "cell_type": "code",
   "execution_count": 4,
   "id": "840b48aa",
   "metadata": {},
   "outputs": [],
   "source": [
    "#df = pd.read_csv(\"C:/Users/user/Desktop/OnlineRetailCSV.csv\") #https\n",
    "df = pd.read_csv('C:/Users/user/Desktop/train.csv') #we need data frame of csv data "
   ]
  },
  {
   "cell_type": "code",
   "execution_count": 5,
   "id": "38645049",
   "metadata": {},
   "outputs": [
    {
     "data": {
      "text/plain": [
       "Index(['Unnamed: 0', 'id', 'Gender', 'Customer Type', 'Age', 'Type of Travel',\n",
       "       'Class', 'Flight Distance', 'Inflight wifi service',\n",
       "       'Departure/Arrival time convenient', 'Ease of Online booking',\n",
       "       'Gate location', 'Food and drink', 'Online boarding', 'Seat comfort',\n",
       "       'Inflight entertainment', 'On-board service', 'Leg room service',\n",
       "       'Baggage handling', 'Checkin service', 'Inflight service',\n",
       "       'Cleanliness', 'Departure Delay in Minutes', 'Arrival Delay in Minutes',\n",
       "       'satisfaction'],\n",
       "      dtype='object')"
      ]
     },
     "execution_count": 5,
     "metadata": {},
     "output_type": "execute_result"
    }
   ],
   "source": [
    "df.keys()"
   ]
  },
  {
   "cell_type": "code",
   "execution_count": 6,
   "id": "4bbf22ed",
   "metadata": {},
   "outputs": [
    {
     "data": {
      "text/plain": [
       "(103904, 25)"
      ]
     },
     "execution_count": 6,
     "metadata": {},
     "output_type": "execute_result"
    }
   ],
   "source": [
    "#df.rename(columns={'24':'wife_age'}, inplace=True)\n",
    "df.shape"
   ]
  },
  {
   "cell_type": "code",
   "execution_count": 7,
   "id": "aca15a45",
   "metadata": {},
   "outputs": [
    {
     "data": {
      "text/html": [
       "<div>\n",
       "<style scoped>\n",
       "    .dataframe tbody tr th:only-of-type {\n",
       "        vertical-align: middle;\n",
       "    }\n",
       "\n",
       "    .dataframe tbody tr th {\n",
       "        vertical-align: top;\n",
       "    }\n",
       "\n",
       "    .dataframe thead th {\n",
       "        text-align: right;\n",
       "    }\n",
       "</style>\n",
       "<table border=\"1\" class=\"dataframe\">\n",
       "  <thead>\n",
       "    <tr style=\"text-align: right;\">\n",
       "      <th></th>\n",
       "      <th>Unnamed: 0</th>\n",
       "      <th>id</th>\n",
       "      <th>Gender</th>\n",
       "      <th>Customer Type</th>\n",
       "      <th>Age</th>\n",
       "      <th>Type of Travel</th>\n",
       "      <th>Class</th>\n",
       "      <th>Flight Distance</th>\n",
       "      <th>Inflight wifi service</th>\n",
       "      <th>Departure/Arrival time convenient</th>\n",
       "      <th>...</th>\n",
       "      <th>Inflight entertainment</th>\n",
       "      <th>On-board service</th>\n",
       "      <th>Leg room service</th>\n",
       "      <th>Baggage handling</th>\n",
       "      <th>Checkin service</th>\n",
       "      <th>Inflight service</th>\n",
       "      <th>Cleanliness</th>\n",
       "      <th>Departure Delay in Minutes</th>\n",
       "      <th>Arrival Delay in Minutes</th>\n",
       "      <th>satisfaction</th>\n",
       "    </tr>\n",
       "  </thead>\n",
       "  <tbody>\n",
       "    <tr>\n",
       "      <th>0</th>\n",
       "      <td>False</td>\n",
       "      <td>False</td>\n",
       "      <td>False</td>\n",
       "      <td>False</td>\n",
       "      <td>False</td>\n",
       "      <td>False</td>\n",
       "      <td>False</td>\n",
       "      <td>False</td>\n",
       "      <td>False</td>\n",
       "      <td>False</td>\n",
       "      <td>...</td>\n",
       "      <td>False</td>\n",
       "      <td>False</td>\n",
       "      <td>False</td>\n",
       "      <td>False</td>\n",
       "      <td>False</td>\n",
       "      <td>False</td>\n",
       "      <td>False</td>\n",
       "      <td>False</td>\n",
       "      <td>False</td>\n",
       "      <td>False</td>\n",
       "    </tr>\n",
       "    <tr>\n",
       "      <th>1</th>\n",
       "      <td>False</td>\n",
       "      <td>False</td>\n",
       "      <td>False</td>\n",
       "      <td>False</td>\n",
       "      <td>False</td>\n",
       "      <td>False</td>\n",
       "      <td>False</td>\n",
       "      <td>False</td>\n",
       "      <td>False</td>\n",
       "      <td>False</td>\n",
       "      <td>...</td>\n",
       "      <td>False</td>\n",
       "      <td>False</td>\n",
       "      <td>False</td>\n",
       "      <td>False</td>\n",
       "      <td>False</td>\n",
       "      <td>False</td>\n",
       "      <td>False</td>\n",
       "      <td>False</td>\n",
       "      <td>False</td>\n",
       "      <td>False</td>\n",
       "    </tr>\n",
       "    <tr>\n",
       "      <th>2</th>\n",
       "      <td>False</td>\n",
       "      <td>False</td>\n",
       "      <td>False</td>\n",
       "      <td>False</td>\n",
       "      <td>False</td>\n",
       "      <td>False</td>\n",
       "      <td>False</td>\n",
       "      <td>False</td>\n",
       "      <td>False</td>\n",
       "      <td>False</td>\n",
       "      <td>...</td>\n",
       "      <td>False</td>\n",
       "      <td>False</td>\n",
       "      <td>False</td>\n",
       "      <td>False</td>\n",
       "      <td>False</td>\n",
       "      <td>False</td>\n",
       "      <td>False</td>\n",
       "      <td>False</td>\n",
       "      <td>False</td>\n",
       "      <td>False</td>\n",
       "    </tr>\n",
       "    <tr>\n",
       "      <th>3</th>\n",
       "      <td>False</td>\n",
       "      <td>False</td>\n",
       "      <td>False</td>\n",
       "      <td>False</td>\n",
       "      <td>False</td>\n",
       "      <td>False</td>\n",
       "      <td>False</td>\n",
       "      <td>False</td>\n",
       "      <td>False</td>\n",
       "      <td>False</td>\n",
       "      <td>...</td>\n",
       "      <td>False</td>\n",
       "      <td>False</td>\n",
       "      <td>False</td>\n",
       "      <td>False</td>\n",
       "      <td>False</td>\n",
       "      <td>False</td>\n",
       "      <td>False</td>\n",
       "      <td>False</td>\n",
       "      <td>False</td>\n",
       "      <td>False</td>\n",
       "    </tr>\n",
       "    <tr>\n",
       "      <th>4</th>\n",
       "      <td>False</td>\n",
       "      <td>False</td>\n",
       "      <td>False</td>\n",
       "      <td>False</td>\n",
       "      <td>False</td>\n",
       "      <td>False</td>\n",
       "      <td>False</td>\n",
       "      <td>False</td>\n",
       "      <td>False</td>\n",
       "      <td>False</td>\n",
       "      <td>...</td>\n",
       "      <td>False</td>\n",
       "      <td>False</td>\n",
       "      <td>False</td>\n",
       "      <td>False</td>\n",
       "      <td>False</td>\n",
       "      <td>False</td>\n",
       "      <td>False</td>\n",
       "      <td>False</td>\n",
       "      <td>False</td>\n",
       "      <td>False</td>\n",
       "    </tr>\n",
       "    <tr>\n",
       "      <th>...</th>\n",
       "      <td>...</td>\n",
       "      <td>...</td>\n",
       "      <td>...</td>\n",
       "      <td>...</td>\n",
       "      <td>...</td>\n",
       "      <td>...</td>\n",
       "      <td>...</td>\n",
       "      <td>...</td>\n",
       "      <td>...</td>\n",
       "      <td>...</td>\n",
       "      <td>...</td>\n",
       "      <td>...</td>\n",
       "      <td>...</td>\n",
       "      <td>...</td>\n",
       "      <td>...</td>\n",
       "      <td>...</td>\n",
       "      <td>...</td>\n",
       "      <td>...</td>\n",
       "      <td>...</td>\n",
       "      <td>...</td>\n",
       "      <td>...</td>\n",
       "    </tr>\n",
       "    <tr>\n",
       "      <th>103899</th>\n",
       "      <td>False</td>\n",
       "      <td>False</td>\n",
       "      <td>False</td>\n",
       "      <td>False</td>\n",
       "      <td>False</td>\n",
       "      <td>False</td>\n",
       "      <td>False</td>\n",
       "      <td>False</td>\n",
       "      <td>False</td>\n",
       "      <td>False</td>\n",
       "      <td>...</td>\n",
       "      <td>False</td>\n",
       "      <td>False</td>\n",
       "      <td>False</td>\n",
       "      <td>False</td>\n",
       "      <td>False</td>\n",
       "      <td>False</td>\n",
       "      <td>False</td>\n",
       "      <td>False</td>\n",
       "      <td>False</td>\n",
       "      <td>False</td>\n",
       "    </tr>\n",
       "    <tr>\n",
       "      <th>103900</th>\n",
       "      <td>False</td>\n",
       "      <td>False</td>\n",
       "      <td>False</td>\n",
       "      <td>False</td>\n",
       "      <td>False</td>\n",
       "      <td>False</td>\n",
       "      <td>False</td>\n",
       "      <td>False</td>\n",
       "      <td>False</td>\n",
       "      <td>False</td>\n",
       "      <td>...</td>\n",
       "      <td>False</td>\n",
       "      <td>False</td>\n",
       "      <td>False</td>\n",
       "      <td>False</td>\n",
       "      <td>False</td>\n",
       "      <td>False</td>\n",
       "      <td>False</td>\n",
       "      <td>False</td>\n",
       "      <td>False</td>\n",
       "      <td>False</td>\n",
       "    </tr>\n",
       "    <tr>\n",
       "      <th>103901</th>\n",
       "      <td>False</td>\n",
       "      <td>False</td>\n",
       "      <td>False</td>\n",
       "      <td>False</td>\n",
       "      <td>False</td>\n",
       "      <td>False</td>\n",
       "      <td>False</td>\n",
       "      <td>False</td>\n",
       "      <td>False</td>\n",
       "      <td>False</td>\n",
       "      <td>...</td>\n",
       "      <td>False</td>\n",
       "      <td>False</td>\n",
       "      <td>False</td>\n",
       "      <td>False</td>\n",
       "      <td>False</td>\n",
       "      <td>False</td>\n",
       "      <td>False</td>\n",
       "      <td>False</td>\n",
       "      <td>False</td>\n",
       "      <td>False</td>\n",
       "    </tr>\n",
       "    <tr>\n",
       "      <th>103902</th>\n",
       "      <td>False</td>\n",
       "      <td>False</td>\n",
       "      <td>False</td>\n",
       "      <td>False</td>\n",
       "      <td>False</td>\n",
       "      <td>False</td>\n",
       "      <td>False</td>\n",
       "      <td>False</td>\n",
       "      <td>False</td>\n",
       "      <td>False</td>\n",
       "      <td>...</td>\n",
       "      <td>False</td>\n",
       "      <td>False</td>\n",
       "      <td>False</td>\n",
       "      <td>False</td>\n",
       "      <td>False</td>\n",
       "      <td>False</td>\n",
       "      <td>False</td>\n",
       "      <td>False</td>\n",
       "      <td>False</td>\n",
       "      <td>False</td>\n",
       "    </tr>\n",
       "    <tr>\n",
       "      <th>103903</th>\n",
       "      <td>False</td>\n",
       "      <td>False</td>\n",
       "      <td>False</td>\n",
       "      <td>False</td>\n",
       "      <td>False</td>\n",
       "      <td>False</td>\n",
       "      <td>False</td>\n",
       "      <td>False</td>\n",
       "      <td>False</td>\n",
       "      <td>False</td>\n",
       "      <td>...</td>\n",
       "      <td>False</td>\n",
       "      <td>False</td>\n",
       "      <td>False</td>\n",
       "      <td>False</td>\n",
       "      <td>False</td>\n",
       "      <td>False</td>\n",
       "      <td>False</td>\n",
       "      <td>False</td>\n",
       "      <td>False</td>\n",
       "      <td>False</td>\n",
       "    </tr>\n",
       "  </tbody>\n",
       "</table>\n",
       "<p>103904 rows × 25 columns</p>\n",
       "</div>"
      ],
      "text/plain": [
       "        Unnamed: 0     id  Gender  Customer Type    Age  Type of Travel  \\\n",
       "0            False  False   False          False  False           False   \n",
       "1            False  False   False          False  False           False   \n",
       "2            False  False   False          False  False           False   \n",
       "3            False  False   False          False  False           False   \n",
       "4            False  False   False          False  False           False   \n",
       "...            ...    ...     ...            ...    ...             ...   \n",
       "103899       False  False   False          False  False           False   \n",
       "103900       False  False   False          False  False           False   \n",
       "103901       False  False   False          False  False           False   \n",
       "103902       False  False   False          False  False           False   \n",
       "103903       False  False   False          False  False           False   \n",
       "\n",
       "        Class  Flight Distance  Inflight wifi service  \\\n",
       "0       False            False                  False   \n",
       "1       False            False                  False   \n",
       "2       False            False                  False   \n",
       "3       False            False                  False   \n",
       "4       False            False                  False   \n",
       "...       ...              ...                    ...   \n",
       "103899  False            False                  False   \n",
       "103900  False            False                  False   \n",
       "103901  False            False                  False   \n",
       "103902  False            False                  False   \n",
       "103903  False            False                  False   \n",
       "\n",
       "        Departure/Arrival time convenient  ...  Inflight entertainment  \\\n",
       "0                                   False  ...                   False   \n",
       "1                                   False  ...                   False   \n",
       "2                                   False  ...                   False   \n",
       "3                                   False  ...                   False   \n",
       "4                                   False  ...                   False   \n",
       "...                                   ...  ...                     ...   \n",
       "103899                              False  ...                   False   \n",
       "103900                              False  ...                   False   \n",
       "103901                              False  ...                   False   \n",
       "103902                              False  ...                   False   \n",
       "103903                              False  ...                   False   \n",
       "\n",
       "        On-board service  Leg room service  Baggage handling  Checkin service  \\\n",
       "0                  False             False             False            False   \n",
       "1                  False             False             False            False   \n",
       "2                  False             False             False            False   \n",
       "3                  False             False             False            False   \n",
       "4                  False             False             False            False   \n",
       "...                  ...               ...               ...              ...   \n",
       "103899             False             False             False            False   \n",
       "103900             False             False             False            False   \n",
       "103901             False             False             False            False   \n",
       "103902             False             False             False            False   \n",
       "103903             False             False             False            False   \n",
       "\n",
       "        Inflight service  Cleanliness  Departure Delay in Minutes  \\\n",
       "0                  False        False                       False   \n",
       "1                  False        False                       False   \n",
       "2                  False        False                       False   \n",
       "3                  False        False                       False   \n",
       "4                  False        False                       False   \n",
       "...                  ...          ...                         ...   \n",
       "103899             False        False                       False   \n",
       "103900             False        False                       False   \n",
       "103901             False        False                       False   \n",
       "103902             False        False                       False   \n",
       "103903             False        False                       False   \n",
       "\n",
       "        Arrival Delay in Minutes  satisfaction  \n",
       "0                          False         False  \n",
       "1                          False         False  \n",
       "2                          False         False  \n",
       "3                          False         False  \n",
       "4                          False         False  \n",
       "...                          ...           ...  \n",
       "103899                     False         False  \n",
       "103900                     False         False  \n",
       "103901                     False         False  \n",
       "103902                     False         False  \n",
       "103903                     False         False  \n",
       "\n",
       "[103904 rows x 25 columns]"
      ]
     },
     "execution_count": 7,
     "metadata": {},
     "output_type": "execute_result"
    }
   ],
   "source": [
    "df.isnull()"
   ]
  },
  {
   "cell_type": "code",
   "execution_count": 8,
   "id": "8eefa841",
   "metadata": {},
   "outputs": [],
   "source": [
    "df = df.drop(\"Unnamed: 0\", axis=1)"
   ]
  },
  {
   "cell_type": "code",
   "execution_count": 9,
   "id": "1bf0e848",
   "metadata": {},
   "outputs": [],
   "source": [
    "df = df.drop(\"id\", axis=1)"
   ]
  },
  {
   "cell_type": "code",
   "execution_count": 10,
   "id": "704bdffe",
   "metadata": {},
   "outputs": [
    {
     "name": "stdout",
     "output_type": "stream",
     "text": [
      "<class 'pandas.core.frame.DataFrame'>\n",
      "RangeIndex: 103904 entries, 0 to 103903\n",
      "Data columns (total 23 columns):\n",
      " #   Column                             Non-Null Count   Dtype  \n",
      "---  ------                             --------------   -----  \n",
      " 0   Gender                             103904 non-null  object \n",
      " 1   Customer Type                      103904 non-null  object \n",
      " 2   Age                                103904 non-null  int64  \n",
      " 3   Type of Travel                     103904 non-null  object \n",
      " 4   Class                              103904 non-null  object \n",
      " 5   Flight Distance                    103904 non-null  int64  \n",
      " 6   Inflight wifi service              103904 non-null  int64  \n",
      " 7   Departure/Arrival time convenient  103904 non-null  int64  \n",
      " 8   Ease of Online booking             103904 non-null  int64  \n",
      " 9   Gate location                      103904 non-null  int64  \n",
      " 10  Food and drink                     103904 non-null  int64  \n",
      " 11  Online boarding                    103904 non-null  int64  \n",
      " 12  Seat comfort                       103904 non-null  int64  \n",
      " 13  Inflight entertainment             103904 non-null  int64  \n",
      " 14  On-board service                   103904 non-null  int64  \n",
      " 15  Leg room service                   103904 non-null  int64  \n",
      " 16  Baggage handling                   103904 non-null  int64  \n",
      " 17  Checkin service                    103904 non-null  int64  \n",
      " 18  Inflight service                   103904 non-null  int64  \n",
      " 19  Cleanliness                        103904 non-null  int64  \n",
      " 20  Departure Delay in Minutes         103904 non-null  int64  \n",
      " 21  Arrival Delay in Minutes           103594 non-null  float64\n",
      " 22  satisfaction                       103904 non-null  object \n",
      "dtypes: float64(1), int64(17), object(5)\n",
      "memory usage: 18.2+ MB\n"
     ]
    }
   ],
   "source": [
    "df.info()"
   ]
  },
  {
   "cell_type": "code",
   "execution_count": 11,
   "id": "9bfc8421",
   "metadata": {},
   "outputs": [
    {
     "data": {
      "text/plain": [
       "Gender                                 0\n",
       "Customer Type                          0\n",
       "Age                                    0\n",
       "Type of Travel                         0\n",
       "Class                                  0\n",
       "Flight Distance                        0\n",
       "Inflight wifi service                  0\n",
       "Departure/Arrival time convenient      0\n",
       "Ease of Online booking                 0\n",
       "Gate location                          0\n",
       "Food and drink                         0\n",
       "Online boarding                        0\n",
       "Seat comfort                           0\n",
       "Inflight entertainment                 0\n",
       "On-board service                       0\n",
       "Leg room service                       0\n",
       "Baggage handling                       0\n",
       "Checkin service                        0\n",
       "Inflight service                       0\n",
       "Cleanliness                            0\n",
       "Departure Delay in Minutes             0\n",
       "Arrival Delay in Minutes             310\n",
       "satisfaction                           0\n",
       "dtype: int64"
      ]
     },
     "execution_count": 11,
     "metadata": {},
     "output_type": "execute_result"
    }
   ],
   "source": [
    "df.isnull().sum()"
   ]
  },
  {
   "cell_type": "code",
   "execution_count": 12,
   "id": "a5d3656e",
   "metadata": {},
   "outputs": [],
   "source": [
    "df = df.dropna().copy()"
   ]
  },
  {
   "cell_type": "code",
   "execution_count": 13,
   "id": "9290e349",
   "metadata": {},
   "outputs": [
    {
     "data": {
      "text/plain": [
       "(103594, 23)"
      ]
     },
     "execution_count": 13,
     "metadata": {},
     "output_type": "execute_result"
    }
   ],
   "source": [
    "df.shape"
   ]
  },
  {
   "cell_type": "code",
   "execution_count": 14,
   "id": "fceb4737",
   "metadata": {},
   "outputs": [
    {
     "data": {
      "image/png": "[encoded data removed]",
      "text/plain": [
       "<Figure size 432x288 with 1 Axes>"
      ]
     },
     "metadata": {
      "needs_background": "light"
     },
     "output_type": "display_data"
    }
   ],
   "source": [
    "pltforarrival = sns.boxplot(x=df[\"Arrival Delay in Minutes\"])\n",
    "fig = pltforarrival.get_figure()\n",
    "fig.savefig(\"arrival delay boxplot\")"
   ]
  },
  {
   "cell_type": "code",
   "execution_count": 15,
   "id": "1e140855",
   "metadata": {},
   "outputs": [
    {
     "data": {
      "image/png": "[encoded data removed]",
      "text/plain": [
       "<Figure size 432x288 with 1 Axes>"
      ]
     },
     "metadata": {
      "needs_background": "light"
     },
     "output_type": "display_data"
    }
   ],
   "source": [
    "pltfordeparture = sns.boxplot(x=df[\"Departure Delay in Minutes\"])\n",
    "fig = pltfordeparture.get_figure()\n",
    "fig.savefig(\"departure delay boxplot.png\")"
   ]
  },
  {
   "cell_type": "code",
   "execution_count": 16,
   "id": "016c390f",
   "metadata": {},
   "outputs": [
    {
     "data": {
      "image/png": "[encoded data removed]",
      "text/plain": [
       "<Figure size 432x288 with 1 Axes>"
      ]
     },
     "metadata": {
      "needs_background": "light"
     },
     "output_type": "display_data"
    }
   ],
   "source": [
    "hisforarrival = sns.histplot(x=df[\"Arrival Delay in Minutes\"], binwidth=120)\n",
    "fig = hisforarrival.get_figure()\n",
    "fig.savefig(\"his for arrival.png\")"
   ]
  },
  {
   "cell_type": "code",
   "execution_count": 17,
   "id": "76aefd73",
   "metadata": {},
   "outputs": [
    {
     "data": {
      "image/png": "[encoded data removed]",
      "text/plain": [
       "<Figure size 432x288 with 1 Axes>"
      ]
     },
     "metadata": {
      "needs_background": "light"
     },
     "output_type": "display_data"
    }
   ],
   "source": [
    "histfordeparture = sns.histplot(x=df[\"Departure Delay in Minutes\"], binwidth=120)\n",
    "fig = histfordeparture.get_figure()\n",
    "fig.savefig(\"is for departure.png\")"
   ]
  },
  {
   "cell_type": "code",
   "execution_count": 18,
   "id": "9bd54437",
   "metadata": {},
   "outputs": [
    {
     "data": {
      "text/html": [
       "<div>\n",
       "<style scoped>\n",
       "    .dataframe tbody tr th:only-of-type {\n",
       "        vertical-align: middle;\n",
       "    }\n",
       "\n",
       "    .dataframe tbody tr th {\n",
       "        vertical-align: top;\n",
       "    }\n",
       "\n",
       "    .dataframe thead th {\n",
       "        text-align: right;\n",
       "    }\n",
       "</style>\n",
       "<table border=\"1\" class=\"dataframe\">\n",
       "  <thead>\n",
       "    <tr style=\"text-align: right;\">\n",
       "      <th></th>\n",
       "      <th>Gender</th>\n",
       "      <th>Customer Type</th>\n",
       "      <th>Age</th>\n",
       "      <th>Type of Travel</th>\n",
       "      <th>Class</th>\n",
       "      <th>Flight Distance</th>\n",
       "      <th>Inflight wifi service</th>\n",
       "      <th>Departure/Arrival time convenient</th>\n",
       "      <th>Ease of Online booking</th>\n",
       "      <th>Gate location</th>\n",
       "      <th>...</th>\n",
       "      <th>Inflight entertainment</th>\n",
       "      <th>On-board service</th>\n",
       "      <th>Leg room service</th>\n",
       "      <th>Baggage handling</th>\n",
       "      <th>Checkin service</th>\n",
       "      <th>Inflight service</th>\n",
       "      <th>Cleanliness</th>\n",
       "      <th>Departure Delay in Minutes</th>\n",
       "      <th>Arrival Delay in Minutes</th>\n",
       "      <th>satisfaction</th>\n",
       "    </tr>\n",
       "  </thead>\n",
       "  <tbody>\n",
       "    <tr>\n",
       "      <th>6744</th>\n",
       "      <td>Male</td>\n",
       "      <td>Loyal Customer</td>\n",
       "      <td>32</td>\n",
       "      <td>Business travel</td>\n",
       "      <td>Business</td>\n",
       "      <td>2916</td>\n",
       "      <td>2</td>\n",
       "      <td>2</td>\n",
       "      <td>2</td>\n",
       "      <td>2</td>\n",
       "      <td>...</td>\n",
       "      <td>3</td>\n",
       "      <td>4</td>\n",
       "      <td>5</td>\n",
       "      <td>4</td>\n",
       "      <td>5</td>\n",
       "      <td>3</td>\n",
       "      <td>5</td>\n",
       "      <td>1305</td>\n",
       "      <td>1280.0</td>\n",
       "      <td>satisfied</td>\n",
       "    </tr>\n",
       "    <tr>\n",
       "      <th>83741</th>\n",
       "      <td>Female</td>\n",
       "      <td>Loyal Customer</td>\n",
       "      <td>47</td>\n",
       "      <td>Personal Travel</td>\n",
       "      <td>Eco</td>\n",
       "      <td>1120</td>\n",
       "      <td>2</td>\n",
       "      <td>2</td>\n",
       "      <td>2</td>\n",
       "      <td>3</td>\n",
       "      <td>...</td>\n",
       "      <td>2</td>\n",
       "      <td>4</td>\n",
       "      <td>4</td>\n",
       "      <td>4</td>\n",
       "      <td>2</td>\n",
       "      <td>3</td>\n",
       "      <td>2</td>\n",
       "      <td>1592</td>\n",
       "      <td>1584.0</td>\n",
       "      <td>neutral or dissatisfied</td>\n",
       "    </tr>\n",
       "  </tbody>\n",
       "</table>\n",
       "<p>2 rows × 23 columns</p>\n",
       "</div>"
      ],
      "text/plain": [
       "       Gender   Customer Type  Age   Type of Travel     Class  \\\n",
       "6744     Male  Loyal Customer   32  Business travel  Business   \n",
       "83741  Female  Loyal Customer   47  Personal Travel       Eco   \n",
       "\n",
       "       Flight Distance  Inflight wifi service  \\\n",
       "6744              2916                      2   \n",
       "83741             1120                      2   \n",
       "\n",
       "       Departure/Arrival time convenient  Ease of Online booking  \\\n",
       "6744                                   2                       2   \n",
       "83741                                  2                       2   \n",
       "\n",
       "       Gate location  ...  Inflight entertainment  On-board service  \\\n",
       "6744               2  ...                       3                 4   \n",
       "83741              3  ...                       2                 4   \n",
       "\n",
       "       Leg room service  Baggage handling  Checkin service  Inflight service  \\\n",
       "6744                  5                 4                5                 3   \n",
       "83741                 4                 4                2                 3   \n",
       "\n",
       "       Cleanliness  Departure Delay in Minutes  Arrival Delay in Minutes  \\\n",
       "6744             5                        1305                    1280.0   \n",
       "83741            2                        1592                    1584.0   \n",
       "\n",
       "                  satisfaction  \n",
       "6744                 satisfied  \n",
       "83741  neutral or dissatisfied  \n",
       "\n",
       "[2 rows x 23 columns]"
      ]
     },
     "execution_count": 18,
     "metadata": {},
     "output_type": "execute_result"
    }
   ],
   "source": [
    "df.loc[df[\"Departure Delay in Minutes\"] > 1300]\n",
    "df.loc[df[\"Arrival Delay in Minutes\"] > 1250]"
   ]
  },
  {
   "cell_type": "code",
   "execution_count": 19,
   "id": "015fa7aa",
   "metadata": {},
   "outputs": [
    {
     "data": {
      "text/plain": [
       "(103592, 23)"
      ]
     },
     "execution_count": 19,
     "metadata": {},
     "output_type": "execute_result"
    }
   ],
   "source": [
    "outliers = df[df['Arrival Delay in Minutes'] > 1250].index\n",
    "df.drop(outliers, inplace=True)\n",
    "df.shape"
   ]
  },
  {
   "cell_type": "code",
   "execution_count": 20,
   "id": "d84f530e",
   "metadata": {},
   "outputs": [
    {
     "data": {
      "image/png": "[encoded data removed]",
      "text/plain": [
       "<Figure size 432x288 with 1 Axes>"
      ]
     },
     "metadata": {},
     "output_type": "display_data"
    }
   ],
   "source": [
    "female_satis = df[(df[\"Gender\"] == \"Female\") & (df[\"satisfaction\"] == \"satisfied\")].shape[0]\n",
    "male_satis = df[(df[\"Gender\"] == \"Male\") & (df[\"satisfaction\"] == \"satisfied\")].shape[0]\n",
    "female_not = df[(df[\"Gender\"] == \"Female\") & (df[\"satisfaction\"] == \"neutral or dissatisfied\")].shape[0]\n",
    "male_not = df[(df[\"Gender\"] == \"Male\") & (df[\"satisfaction\"] == \"neutral or dissatisfied\")].shape[0]\n",
    "data = [female_satis, male_satis, female_not, male_not]\n",
    "labels = [\"female satisfied\", \"male satisfied\", \"female neutral or dissatisfied\", \"male neutral or dissatisfied\"]\n",
    "\n",
    "colors = sns.color_palette('pastel')[0:5]\n",
    "\n",
    "#create pie chart\n",
    "plt.pie(data, labels = labels, colors = colors, autopct='%.0f%%')\n",
    "plt.savefig(\"satisfied.png\")\n",
    "plt.show()"
   ]
  },
  {
   "cell_type": "code",
   "execution_count": 21,
   "id": "a93b1821",
   "metadata": {},
   "outputs": [
    {
     "data": {
      "image/png": "[encoded data removed]",
      "text/plain": [
       "<Figure size 432x288 with 1 Axes>"
      ]
     },
     "metadata": {
      "needs_background": "light"
     },
     "output_type": "display_data"
    }
   ],
   "source": [
    "loyal_satisfied = df[(df[\"Customer Type\"] == \"Loyal Customer\") & (df[\"satisfaction\"] == \"satisfied\")].shape[0]\n",
    "disloyal_satisfied = df[(df[\"Customer Type\"] == \"disloyal Customer\") & (df[\"satisfaction\"] == \"satisfied\")].shape[0]\n",
    "loyal_dis = df[(df[\"Customer Type\"] == \"Loyal Customer\") & (df[\"satisfaction\"] == \"neutral or dissatisfied\")].shape[0]\n",
    "disloyal_dis = df[(df[\"Customer Type\"] == \"disloyal Customer\") & (df[\"satisfaction\"] == \"neutral or dissatisfied\")].shape[0]\n",
    "\n",
    "data = [loyal_satisfied, disloyal_satisfied, loyal_dis, disloyal_dis]\n",
    "labels = [\"loyal satisfied\", \"disloyal satisfied\", \"loyal neutral or dissatisfied\", \"disloyal neutral or dissatisfied\"]\n",
    "\n",
    "colors = sns.color_palette('pastel')[0:5]\n",
    "\n",
    "plt.barh(labels,data, color=colors)\n",
    "plt.title('satisfaction distributions Customer Type', fontsize=14)\n",
    "plt.xlabel('Counts', fontsize=14)\n",
    "plt.grid(True)\n",
    "plt.savefig('customer_type.png', bbox_inches=\"tight\")\n",
    "plt.show()"
   ]
  },
  {
   "cell_type": "code",
   "execution_count": 22,
   "id": "b802e198",
   "metadata": {},
   "outputs": [
    {
     "data": {
      "image/png": "[encoded data removed]",
      "text/plain": [
       "<Figure size 432x288 with 1 Axes>"
      ]
     },
     "metadata": {
      "needs_background": "light"
     },
     "output_type": "display_data"
    }
   ],
   "source": [
    "personel_satisfied = df[(df[\"Type of Travel\"] == \"Personal Travel\") & (df[\"satisfaction\"] == \"satisfied\")].shape[0]\n",
    "business_satisfied = df[(df[\"Type of Travel\"] == \"Business travel\") & (df[\"satisfaction\"] == \"satisfied\")].shape[0]\n",
    "personel_dis = df[(df[\"Type of Travel\"] == \"Personal Travel\") & (df[\"satisfaction\"] == \"neutral or dissatisfied\")].shape[0]\n",
    "business_dis = df[(df[\"Type of Travel\"] == \"Business travel\") & (df[\"satisfaction\"] == \"neutral or dissatisfied\")].shape[0]\n",
    "\n",
    "data = [personel_satisfied, business_satisfied, personel_dis, business_dis]\n",
    "labels = [\"personal satisfied\", \"business satisfied\", \"personal neutral or dissatisfied\", \"business neutral or dissatisfied\"]\n",
    "\n",
    "colors = sns.color_palette('pastel')[0:5]\n",
    "\n",
    "plt.barh(labels,data, color=colors)\n",
    "plt.title('satisfaction distributions Travel Type', fontsize=14)\n",
    "plt.xlabel('Counts', fontsize=14)\n",
    "plt.grid(True)\n",
    "plt.savefig('customer_type.png', bbox_inches=\"tight\")\n",
    "plt.show()"
   ]
  },
  {
   "cell_type": "code",
   "execution_count": 23,
   "id": "e3d2ba26",
   "metadata": {},
   "outputs": [
    {
     "data": {
      "image/png": "[encoded data removed]",
      "text/plain": [
       "<Figure size 432x288 with 1 Axes>"
      ]
     },
     "metadata": {
      "needs_background": "light"
     },
     "output_type": "display_data"
    }
   ],
   "source": [
    "plt.hist(df[\"Age\"])\n",
    "plt.xlabel(\"age distributions\")\n",
    "plt.ylabel(\"Counts\")\n",
    "plt.savefig(\"age.png\")"
   ]
  },
  {
   "cell_type": "code",
   "execution_count": 24,
   "id": "1dfe9f85",
   "metadata": {},
   "outputs": [
    {
     "data": {
      "text/plain": [
       "(array([ 3096.,     0., 17781.,     0., 25753.,     0., 25789.,     0.,\n",
       "        19737., 11436.]),\n",
       " array([0. , 0.5, 1. , 1.5, 2. , 2.5, 3. , 3.5, 4. , 4.5, 5. ]),\n",
       " <BarContainer object of 10 artists>)"
      ]
     },
     "execution_count": 24,
     "metadata": {},
     "output_type": "execute_result"
    },
    {
     "data": {
      "image/png": "[encoded data removed]",
      "text/plain": [
       "<Figure size 432x288 with 1 Axes>"
      ]
     },
     "metadata": {
      "needs_background": "light"
     },
     "output_type": "display_data"
    }
   ],
   "source": [
    "plt.hist(df[\"Inflight wifi service\"])"
   ]
  },
  {
   "cell_type": "code",
   "execution_count": 25,
   "id": "92e75a9e",
   "metadata": {},
   "outputs": [],
   "source": [
    "df_cross = df.copy()"
   ]
  },
  {
   "cell_type": "code",
   "execution_count": 26,
   "id": "2ee40781",
   "metadata": {},
   "outputs": [
    {
     "data": {
      "text/plain": [
       "(103592, 23)"
      ]
     },
     "execution_count": 26,
     "metadata": {},
     "output_type": "execute_result"
    }
   ],
   "source": [
    "df_cross.shape"
   ]
  },
  {
   "cell_type": "code",
   "execution_count": 27,
   "id": "5ae5764d",
   "metadata": {},
   "outputs": [
    {
     "data": {
      "text/plain": [
       "0         1\n",
       "1         1\n",
       "2         0\n",
       "3         1\n",
       "4         0\n",
       "         ..\n",
       "103899    1\n",
       "103900    0\n",
       "103901    1\n",
       "103902    1\n",
       "103903    1\n",
       "Name: satisfaction, Length: 103592, dtype: uint8"
      ]
     },
     "execution_count": 27,
     "metadata": {},
     "output_type": "execute_result"
    }
   ],
   "source": [
    "df_cross[\"satisfaction\"] = pd.get_dummies(df_cross[\"satisfaction\"]) #THIS LINE EXECUTED AGAIN !!! THEN TRY \n",
    "df_cross[\"satisfaction\"]                                            #CLASSIFIERS DECISION TREE RANDOM FOREST NAIVE BAYES"
   ]
  },
  {
   "cell_type": "code",
   "execution_count": 28,
   "id": "3c3070f6",
   "metadata": {},
   "outputs": [
    {
     "data": {
      "text/plain": [
       "Gender                                 uint8\n",
       "Customer Type                          uint8\n",
       "Age                                    int64\n",
       "Type of Travel                         uint8\n",
       "Class                                  uint8\n",
       "Flight Distance                        int64\n",
       "Inflight wifi service                  int64\n",
       "Departure/Arrival time convenient      int64\n",
       "Ease of Online booking                 int64\n",
       "Gate location                          int64\n",
       "Food and drink                         int64\n",
       "Online boarding                        int64\n",
       "Seat comfort                           int64\n",
       "Inflight entertainment                 int64\n",
       "On-board service                       int64\n",
       "Leg room service                       int64\n",
       "Baggage handling                       int64\n",
       "Checkin service                        int64\n",
       "Inflight service                       int64\n",
       "Cleanliness                            int64\n",
       "Departure Delay in Minutes             int64\n",
       "Arrival Delay in Minutes             float64\n",
       "satisfaction                           uint8\n",
       "dtype: object"
      ]
     },
     "execution_count": 28,
     "metadata": {},
     "output_type": "execute_result"
    }
   ],
   "source": [
    "df_cross[\"Gender\"] = pd.get_dummies(df_cross[\"Gender\"])\n",
    "df_cross[\"Customer Type\"] = pd.get_dummies(df_cross[\"Customer Type\"])\n",
    "df_cross[\"Type of Travel\"] = pd.get_dummies(df_cross[\"Type of Travel\"])\n",
    "df_cross[\"Class\"] = pd.get_dummies(df_cross[\"Class\"])\n",
    "df_cross.dtypes"
   ]
  },
  {
   "cell_type": "code",
   "execution_count": 29,
   "id": "6b22fc69",
   "metadata": {},
   "outputs": [
    {
     "data": {
      "text/html": [
       "<div>\n",
       "<style scoped>\n",
       "    .dataframe tbody tr th:only-of-type {\n",
       "        vertical-align: middle;\n",
       "    }\n",
       "\n",
       "    .dataframe tbody tr th {\n",
       "        vertical-align: top;\n",
       "    }\n",
       "\n",
       "    .dataframe thead th {\n",
       "        text-align: right;\n",
       "    }\n",
       "</style>\n",
       "<table border=\"1\" class=\"dataframe\">\n",
       "  <thead>\n",
       "    <tr style=\"text-align: right;\">\n",
       "      <th></th>\n",
       "      <th>Gender</th>\n",
       "      <th>Customer Type</th>\n",
       "      <th>Age</th>\n",
       "      <th>Type of Travel</th>\n",
       "      <th>Class</th>\n",
       "      <th>Flight Distance</th>\n",
       "      <th>Inflight wifi service</th>\n",
       "      <th>Departure/Arrival time convenient</th>\n",
       "      <th>Ease of Online booking</th>\n",
       "      <th>Gate location</th>\n",
       "      <th>...</th>\n",
       "      <th>Inflight entertainment</th>\n",
       "      <th>On-board service</th>\n",
       "      <th>Leg room service</th>\n",
       "      <th>Baggage handling</th>\n",
       "      <th>Checkin service</th>\n",
       "      <th>Inflight service</th>\n",
       "      <th>Cleanliness</th>\n",
       "      <th>Departure Delay in Minutes</th>\n",
       "      <th>Arrival Delay in Minutes</th>\n",
       "      <th>satisfaction</th>\n",
       "    </tr>\n",
       "  </thead>\n",
       "  <tbody>\n",
       "    <tr>\n",
       "      <th>Gender</th>\n",
       "      <td>NaN</td>\n",
       "      <td>-0.031558</td>\n",
       "      <td>-0.008930</td>\n",
       "      <td>0.006829</td>\n",
       "      <td>-0.010455</td>\n",
       "      <td>-0.006062</td>\n",
       "      <td>-0.008964</td>\n",
       "      <td>-0.008847</td>\n",
       "      <td>-0.007166</td>\n",
       "      <td>-0.000221</td>\n",
       "      <td>...</td>\n",
       "      <td>-0.006064</td>\n",
       "      <td>-0.008019</td>\n",
       "      <td>-0.031835</td>\n",
       "      <td>-0.037333</td>\n",
       "      <td>-0.010415</td>\n",
       "      <td>-0.038937</td>\n",
       "      <td>-0.006417</td>\n",
       "      <td>-0.002632</td>\n",
       "      <td>-0.000467</td>\n",
       "      <td>0.012337</td>\n",
       "    </tr>\n",
       "    <tr>\n",
       "      <th>Customer Type</th>\n",
       "      <td>-0.031558</td>\n",
       "      <td>NaN</td>\n",
       "      <td>0.281822</td>\n",
       "      <td>-0.308269</td>\n",
       "      <td>0.085520</td>\n",
       "      <td>0.225359</td>\n",
       "      <td>0.007711</td>\n",
       "      <td>0.207015</td>\n",
       "      <td>0.019632</td>\n",
       "      <td>-0.006290</td>\n",
       "      <td>...</td>\n",
       "      <td>0.110112</td>\n",
       "      <td>0.056369</td>\n",
       "      <td>0.047801</td>\n",
       "      <td>-0.024893</td>\n",
       "      <td>0.032064</td>\n",
       "      <td>-0.023051</td>\n",
       "      <td>0.083757</td>\n",
       "      <td>-0.004738</td>\n",
       "      <td>-0.005150</td>\n",
       "      <td>-0.187559</td>\n",
       "    </tr>\n",
       "    <tr>\n",
       "      <th>Age</th>\n",
       "      <td>-0.008930</td>\n",
       "      <td>0.281822</td>\n",
       "      <td>NaN</td>\n",
       "      <td>0.048604</td>\n",
       "      <td>0.139029</td>\n",
       "      <td>0.099848</td>\n",
       "      <td>0.017470</td>\n",
       "      <td>0.038038</td>\n",
       "      <td>0.024462</td>\n",
       "      <td>-0.001562</td>\n",
       "      <td>...</td>\n",
       "      <td>0.076384</td>\n",
       "      <td>0.057123</td>\n",
       "      <td>0.040502</td>\n",
       "      <td>-0.047619</td>\n",
       "      <td>0.035015</td>\n",
       "      <td>-0.049900</td>\n",
       "      <td>0.053505</td>\n",
       "      <td>-0.010336</td>\n",
       "      <td>-0.012353</td>\n",
       "      <td>-0.137051</td>\n",
       "    </tr>\n",
       "    <tr>\n",
       "      <th>Type of Travel</th>\n",
       "      <td>0.006829</td>\n",
       "      <td>-0.308269</td>\n",
       "      <td>0.048604</td>\n",
       "      <td>NaN</td>\n",
       "      <td>0.552022</td>\n",
       "      <td>0.267638</td>\n",
       "      <td>0.104876</td>\n",
       "      <td>-0.259839</td>\n",
       "      <td>0.133396</td>\n",
       "      <td>0.030808</td>\n",
       "      <td>...</td>\n",
       "      <td>0.147968</td>\n",
       "      <td>0.056473</td>\n",
       "      <td>0.138682</td>\n",
       "      <td>0.031358</td>\n",
       "      <td>-0.017067</td>\n",
       "      <td>0.022488</td>\n",
       "      <td>0.078747</td>\n",
       "      <td>0.006514</td>\n",
       "      <td>0.006136</td>\n",
       "      <td>-0.448985</td>\n",
       "    </tr>\n",
       "    <tr>\n",
       "      <th>Class</th>\n",
       "      <td>-0.010455</td>\n",
       "      <td>0.085520</td>\n",
       "      <td>0.139029</td>\n",
       "      <td>0.552022</td>\n",
       "      <td>NaN</td>\n",
       "      <td>0.467181</td>\n",
       "      <td>0.032777</td>\n",
       "      <td>-0.096812</td>\n",
       "      <td>0.107492</td>\n",
       "      <td>0.004515</td>\n",
       "      <td>...</td>\n",
       "      <td>0.198940</td>\n",
       "      <td>0.220676</td>\n",
       "      <td>0.213399</td>\n",
       "      <td>0.171112</td>\n",
       "      <td>0.162364</td>\n",
       "      <td>0.165850</td>\n",
       "      <td>0.139341</td>\n",
       "      <td>-0.010460</td>\n",
       "      <td>-0.015029</td>\n",
       "      <td>-0.503934</td>\n",
       "    </tr>\n",
       "    <tr>\n",
       "      <th>Flight Distance</th>\n",
       "      <td>-0.006062</td>\n",
       "      <td>0.225359</td>\n",
       "      <td>0.099848</td>\n",
       "      <td>0.267638</td>\n",
       "      <td>0.467181</td>\n",
       "      <td>NaN</td>\n",
       "      <td>0.007059</td>\n",
       "      <td>-0.019898</td>\n",
       "      <td>0.065707</td>\n",
       "      <td>0.004745</td>\n",
       "      <td>...</td>\n",
       "      <td>0.128651</td>\n",
       "      <td>0.109534</td>\n",
       "      <td>0.133822</td>\n",
       "      <td>0.063218</td>\n",
       "      <td>0.073203</td>\n",
       "      <td>0.057440</td>\n",
       "      <td>0.093101</td>\n",
       "      <td>0.001387</td>\n",
       "      <td>-0.002984</td>\n",
       "      <td>-0.298903</td>\n",
       "    </tr>\n",
       "    <tr>\n",
       "      <th>Inflight wifi service</th>\n",
       "      <td>-0.008964</td>\n",
       "      <td>0.007711</td>\n",
       "      <td>0.017470</td>\n",
       "      <td>0.104876</td>\n",
       "      <td>0.032777</td>\n",
       "      <td>0.007059</td>\n",
       "      <td>NaN</td>\n",
       "      <td>0.343753</td>\n",
       "      <td>0.715846</td>\n",
       "      <td>0.336125</td>\n",
       "      <td>...</td>\n",
       "      <td>0.209508</td>\n",
       "      <td>0.121489</td>\n",
       "      <td>0.160496</td>\n",
       "      <td>0.121064</td>\n",
       "      <td>0.043181</td>\n",
       "      <td>0.110621</td>\n",
       "      <td>0.132656</td>\n",
       "      <td>-0.017292</td>\n",
       "      <td>-0.018956</td>\n",
       "      <td>-0.284168</td>\n",
       "    </tr>\n",
       "    <tr>\n",
       "      <th>Departure/Arrival time convenient</th>\n",
       "      <td>-0.008847</td>\n",
       "      <td>0.207015</td>\n",
       "      <td>0.038038</td>\n",
       "      <td>-0.259839</td>\n",
       "      <td>-0.096812</td>\n",
       "      <td>-0.019898</td>\n",
       "      <td>0.343753</td>\n",
       "      <td>NaN</td>\n",
       "      <td>0.437017</td>\n",
       "      <td>0.444599</td>\n",
       "      <td>...</td>\n",
       "      <td>-0.004692</td>\n",
       "      <td>0.068611</td>\n",
       "      <td>0.012473</td>\n",
       "      <td>0.071905</td>\n",
       "      <td>0.093333</td>\n",
       "      <td>0.073220</td>\n",
       "      <td>0.014339</td>\n",
       "      <td>0.001314</td>\n",
       "      <td>-0.000378</td>\n",
       "      <td>0.051717</td>\n",
       "    </tr>\n",
       "    <tr>\n",
       "      <th>Ease of Online booking</th>\n",
       "      <td>-0.007166</td>\n",
       "      <td>0.019632</td>\n",
       "      <td>0.024462</td>\n",
       "      <td>0.133396</td>\n",
       "      <td>0.107492</td>\n",
       "      <td>0.065707</td>\n",
       "      <td>0.715846</td>\n",
       "      <td>0.437017</td>\n",
       "      <td>NaN</td>\n",
       "      <td>0.458744</td>\n",
       "      <td>...</td>\n",
       "      <td>0.047178</td>\n",
       "      <td>0.038764</td>\n",
       "      <td>0.107442</td>\n",
       "      <td>0.038855</td>\n",
       "      <td>0.010959</td>\n",
       "      <td>0.035325</td>\n",
       "      <td>0.016194</td>\n",
       "      <td>-0.005982</td>\n",
       "      <td>-0.007703</td>\n",
       "      <td>-0.171511</td>\n",
       "    </tr>\n",
       "    <tr>\n",
       "      <th>Gate location</th>\n",
       "      <td>-0.000221</td>\n",
       "      <td>-0.006290</td>\n",
       "      <td>-0.001562</td>\n",
       "      <td>0.030808</td>\n",
       "      <td>0.004515</td>\n",
       "      <td>0.004745</td>\n",
       "      <td>0.336125</td>\n",
       "      <td>0.444599</td>\n",
       "      <td>0.458744</td>\n",
       "      <td>NaN</td>\n",
       "      <td>...</td>\n",
       "      <td>0.003562</td>\n",
       "      <td>-0.028529</td>\n",
       "      <td>-0.005859</td>\n",
       "      <td>0.002423</td>\n",
       "      <td>-0.035441</td>\n",
       "      <td>0.001738</td>\n",
       "      <td>-0.004005</td>\n",
       "      <td>0.005857</td>\n",
       "      <td>0.005449</td>\n",
       "      <td>-0.000458</td>\n",
       "    </tr>\n",
       "    <tr>\n",
       "      <th>Food and drink</th>\n",
       "      <td>-0.005686</td>\n",
       "      <td>0.059553</td>\n",
       "      <td>0.022931</td>\n",
       "      <td>0.063104</td>\n",
       "      <td>0.086895</td>\n",
       "      <td>0.056935</td>\n",
       "      <td>0.134607</td>\n",
       "      <td>0.005192</td>\n",
       "      <td>0.031943</td>\n",
       "      <td>-0.001160</td>\n",
       "      <td>...</td>\n",
       "      <td>0.622380</td>\n",
       "      <td>0.058998</td>\n",
       "      <td>0.032403</td>\n",
       "      <td>0.034811</td>\n",
       "      <td>0.087031</td>\n",
       "      <td>0.034080</td>\n",
       "      <td>0.657639</td>\n",
       "      <td>-0.030487</td>\n",
       "      <td>-0.033033</td>\n",
       "      <td>-0.209641</td>\n",
       "    </tr>\n",
       "    <tr>\n",
       "      <th>Online boarding</th>\n",
       "      <td>0.042159</td>\n",
       "      <td>0.189471</td>\n",
       "      <td>0.208687</td>\n",
       "      <td>0.224625</td>\n",
       "      <td>0.330491</td>\n",
       "      <td>0.215174</td>\n",
       "      <td>0.457018</td>\n",
       "      <td>0.070003</td>\n",
       "      <td>0.404108</td>\n",
       "      <td>0.001461</td>\n",
       "      <td>...</td>\n",
       "      <td>0.285208</td>\n",
       "      <td>0.155338</td>\n",
       "      <td>0.123764</td>\n",
       "      <td>0.083294</td>\n",
       "      <td>0.204202</td>\n",
       "      <td>0.074401</td>\n",
       "      <td>0.331494</td>\n",
       "      <td>-0.019431</td>\n",
       "      <td>-0.022877</td>\n",
       "      <td>-0.503447</td>\n",
       "    </tr>\n",
       "    <tr>\n",
       "      <th>Seat comfort</th>\n",
       "      <td>0.026666</td>\n",
       "      <td>0.159723</td>\n",
       "      <td>0.160315</td>\n",
       "      <td>0.123974</td>\n",
       "      <td>0.232969</td>\n",
       "      <td>0.157501</td>\n",
       "      <td>0.122619</td>\n",
       "      <td>0.011416</td>\n",
       "      <td>0.030022</td>\n",
       "      <td>0.003392</td>\n",
       "      <td>...</td>\n",
       "      <td>0.610617</td>\n",
       "      <td>0.132032</td>\n",
       "      <td>0.105441</td>\n",
       "      <td>0.074554</td>\n",
       "      <td>0.191524</td>\n",
       "      <td>0.069195</td>\n",
       "      <td>0.678470</td>\n",
       "      <td>-0.027658</td>\n",
       "      <td>-0.030245</td>\n",
       "      <td>-0.349098</td>\n",
       "    </tr>\n",
       "    <tr>\n",
       "      <th>Inflight entertainment</th>\n",
       "      <td>-0.006064</td>\n",
       "      <td>0.110112</td>\n",
       "      <td>0.076384</td>\n",
       "      <td>0.147968</td>\n",
       "      <td>0.198940</td>\n",
       "      <td>0.128651</td>\n",
       "      <td>0.209508</td>\n",
       "      <td>-0.004692</td>\n",
       "      <td>0.047178</td>\n",
       "      <td>0.003562</td>\n",
       "      <td>...</td>\n",
       "      <td>NaN</td>\n",
       "      <td>0.420362</td>\n",
       "      <td>0.299863</td>\n",
       "      <td>0.378367</td>\n",
       "      <td>0.120808</td>\n",
       "      <td>0.405244</td>\n",
       "      <td>0.691742</td>\n",
       "      <td>-0.027579</td>\n",
       "      <td>-0.030623</td>\n",
       "      <td>-0.398204</td>\n",
       "    </tr>\n",
       "    <tr>\n",
       "      <th>On-board service</th>\n",
       "      <td>-0.008019</td>\n",
       "      <td>0.056369</td>\n",
       "      <td>0.057123</td>\n",
       "      <td>0.056473</td>\n",
       "      <td>0.220676</td>\n",
       "      <td>0.109534</td>\n",
       "      <td>0.121489</td>\n",
       "      <td>0.068611</td>\n",
       "      <td>0.038764</td>\n",
       "      <td>-0.028529</td>\n",
       "      <td>...</td>\n",
       "      <td>0.420362</td>\n",
       "      <td>NaN</td>\n",
       "      <td>0.355653</td>\n",
       "      <td>0.519251</td>\n",
       "      <td>0.243855</td>\n",
       "      <td>0.550733</td>\n",
       "      <td>0.123237</td>\n",
       "      <td>-0.032271</td>\n",
       "      <td>-0.036040</td>\n",
       "      <td>-0.322453</td>\n",
       "    </tr>\n",
       "    <tr>\n",
       "      <th>Leg room service</th>\n",
       "      <td>-0.031835</td>\n",
       "      <td>0.047801</td>\n",
       "      <td>0.040502</td>\n",
       "      <td>0.138682</td>\n",
       "      <td>0.213399</td>\n",
       "      <td>0.133822</td>\n",
       "      <td>0.160496</td>\n",
       "      <td>0.012473</td>\n",
       "      <td>0.107442</td>\n",
       "      <td>-0.005859</td>\n",
       "      <td>...</td>\n",
       "      <td>0.299863</td>\n",
       "      <td>0.355653</td>\n",
       "      <td>NaN</td>\n",
       "      <td>0.369672</td>\n",
       "      <td>0.153071</td>\n",
       "      <td>0.368939</td>\n",
       "      <td>0.096392</td>\n",
       "      <td>0.013923</td>\n",
       "      <td>0.011405</td>\n",
       "      <td>-0.313179</td>\n",
       "    </tr>\n",
       "    <tr>\n",
       "      <th>Baggage handling</th>\n",
       "      <td>-0.037333</td>\n",
       "      <td>-0.024893</td>\n",
       "      <td>-0.047619</td>\n",
       "      <td>0.031358</td>\n",
       "      <td>0.171112</td>\n",
       "      <td>0.063218</td>\n",
       "      <td>0.121064</td>\n",
       "      <td>0.071905</td>\n",
       "      <td>0.038855</td>\n",
       "      <td>0.002423</td>\n",
       "      <td>...</td>\n",
       "      <td>0.378367</td>\n",
       "      <td>0.519251</td>\n",
       "      <td>0.369672</td>\n",
       "      <td>NaN</td>\n",
       "      <td>0.233329</td>\n",
       "      <td>0.628950</td>\n",
       "      <td>0.095783</td>\n",
       "      <td>-0.005993</td>\n",
       "      <td>-0.008879</td>\n",
       "      <td>-0.247821</td>\n",
       "    </tr>\n",
       "    <tr>\n",
       "      <th>Checkin service</th>\n",
       "      <td>-0.010415</td>\n",
       "      <td>0.032064</td>\n",
       "      <td>0.035015</td>\n",
       "      <td>-0.017067</td>\n",
       "      <td>0.162364</td>\n",
       "      <td>0.073203</td>\n",
       "      <td>0.043181</td>\n",
       "      <td>0.093333</td>\n",
       "      <td>0.010959</td>\n",
       "      <td>-0.035441</td>\n",
       "      <td>...</td>\n",
       "      <td>0.120808</td>\n",
       "      <td>0.243855</td>\n",
       "      <td>0.153071</td>\n",
       "      <td>0.233329</td>\n",
       "      <td>NaN</td>\n",
       "      <td>0.237261</td>\n",
       "      <td>0.179409</td>\n",
       "      <td>-0.018347</td>\n",
       "      <td>-0.020661</td>\n",
       "      <td>-0.235897</td>\n",
       "    </tr>\n",
       "    <tr>\n",
       "      <th>Inflight service</th>\n",
       "      <td>-0.038937</td>\n",
       "      <td>-0.023051</td>\n",
       "      <td>-0.049900</td>\n",
       "      <td>0.022488</td>\n",
       "      <td>0.165850</td>\n",
       "      <td>0.057440</td>\n",
       "      <td>0.110621</td>\n",
       "      <td>0.073220</td>\n",
       "      <td>0.035325</td>\n",
       "      <td>0.001738</td>\n",
       "      <td>...</td>\n",
       "      <td>0.405244</td>\n",
       "      <td>0.550733</td>\n",
       "      <td>0.368939</td>\n",
       "      <td>0.628950</td>\n",
       "      <td>0.237261</td>\n",
       "      <td>NaN</td>\n",
       "      <td>0.088895</td>\n",
       "      <td>-0.054817</td>\n",
       "      <td>-0.059596</td>\n",
       "      <td>-0.244857</td>\n",
       "    </tr>\n",
       "    <tr>\n",
       "      <th>Cleanliness</th>\n",
       "      <td>-0.006417</td>\n",
       "      <td>0.083757</td>\n",
       "      <td>0.053505</td>\n",
       "      <td>0.078747</td>\n",
       "      <td>0.139341</td>\n",
       "      <td>0.093101</td>\n",
       "      <td>0.132656</td>\n",
       "      <td>0.014339</td>\n",
       "      <td>0.016194</td>\n",
       "      <td>-0.004005</td>\n",
       "      <td>...</td>\n",
       "      <td>0.691742</td>\n",
       "      <td>0.123237</td>\n",
       "      <td>0.096392</td>\n",
       "      <td>0.095783</td>\n",
       "      <td>0.179409</td>\n",
       "      <td>0.088895</td>\n",
       "      <td>NaN</td>\n",
       "      <td>-0.014066</td>\n",
       "      <td>-0.016013</td>\n",
       "      <td>-0.305034</td>\n",
       "    </tr>\n",
       "    <tr>\n",
       "      <th>Departure Delay in Minutes</th>\n",
       "      <td>-0.002632</td>\n",
       "      <td>-0.004738</td>\n",
       "      <td>-0.010336</td>\n",
       "      <td>0.006514</td>\n",
       "      <td>-0.010460</td>\n",
       "      <td>0.001387</td>\n",
       "      <td>-0.017292</td>\n",
       "      <td>0.001314</td>\n",
       "      <td>-0.005982</td>\n",
       "      <td>0.005857</td>\n",
       "      <td>...</td>\n",
       "      <td>-0.027579</td>\n",
       "      <td>-0.032271</td>\n",
       "      <td>0.013923</td>\n",
       "      <td>-0.005993</td>\n",
       "      <td>-0.018347</td>\n",
       "      <td>-0.054817</td>\n",
       "      <td>-0.014066</td>\n",
       "      <td>NaN</td>\n",
       "      <td>0.964538</td>\n",
       "      <td>0.051252</td>\n",
       "    </tr>\n",
       "    <tr>\n",
       "      <th>Arrival Delay in Minutes</th>\n",
       "      <td>-0.000467</td>\n",
       "      <td>-0.005150</td>\n",
       "      <td>-0.012353</td>\n",
       "      <td>0.006136</td>\n",
       "      <td>-0.015029</td>\n",
       "      <td>-0.002984</td>\n",
       "      <td>-0.018956</td>\n",
       "      <td>-0.000378</td>\n",
       "      <td>-0.007703</td>\n",
       "      <td>0.005449</td>\n",
       "      <td>...</td>\n",
       "      <td>-0.030623</td>\n",
       "      <td>-0.036040</td>\n",
       "      <td>0.011405</td>\n",
       "      <td>-0.008879</td>\n",
       "      <td>-0.020661</td>\n",
       "      <td>-0.059596</td>\n",
       "      <td>-0.016013</td>\n",
       "      <td>0.964538</td>\n",
       "      <td>NaN</td>\n",
       "      <td>0.058370</td>\n",
       "    </tr>\n",
       "    <tr>\n",
       "      <th>satisfaction</th>\n",
       "      <td>0.012337</td>\n",
       "      <td>-0.187559</td>\n",
       "      <td>-0.137051</td>\n",
       "      <td>-0.448985</td>\n",
       "      <td>-0.503934</td>\n",
       "      <td>-0.298903</td>\n",
       "      <td>-0.284168</td>\n",
       "      <td>0.051717</td>\n",
       "      <td>-0.171511</td>\n",
       "      <td>-0.000458</td>\n",
       "      <td>...</td>\n",
       "      <td>-0.398204</td>\n",
       "      <td>-0.322453</td>\n",
       "      <td>-0.313179</td>\n",
       "      <td>-0.247821</td>\n",
       "      <td>-0.235897</td>\n",
       "      <td>-0.244857</td>\n",
       "      <td>-0.305034</td>\n",
       "      <td>0.051252</td>\n",
       "      <td>0.058370</td>\n",
       "      <td>NaN</td>\n",
       "    </tr>\n",
       "  </tbody>\n",
       "</table>\n",
       "<p>23 rows × 23 columns</p>\n",
       "</div>"
      ],
      "text/plain": [
       "                                     Gender  Customer Type       Age  \\\n",
       "Gender                                  NaN      -0.031558 -0.008930   \n",
       "Customer Type                     -0.031558            NaN  0.281822   \n",
       "Age                               -0.008930       0.281822       NaN   \n",
       "Type of Travel                     0.006829      -0.308269  0.048604   \n",
       "Class                             -0.010455       0.085520  0.139029   \n",
       "Flight Distance                   -0.006062       0.225359  0.099848   \n",
       "Inflight wifi service             -0.008964       0.007711  0.017470   \n",
       "Departure/Arrival time convenient -0.008847       0.207015  0.038038   \n",
       "Ease of Online booking            -0.007166       0.019632  0.024462   \n",
       "Gate location                     -0.000221      -0.006290 -0.001562   \n",
       "Food and drink                    -0.005686       0.059553  0.022931   \n",
       "Online boarding                    0.042159       0.189471  0.208687   \n",
       "Seat comfort                       0.026666       0.159723  0.160315   \n",
       "Inflight entertainment            -0.006064       0.110112  0.076384   \n",
       "On-board service                  -0.008019       0.056369  0.057123   \n",
       "Leg room service                  -0.031835       0.047801  0.040502   \n",
       "Baggage handling                  -0.037333      -0.024893 -0.047619   \n",
       "Checkin service                   -0.010415       0.032064  0.035015   \n",
       "Inflight service                  -0.038937      -0.023051 -0.049900   \n",
       "Cleanliness                       -0.006417       0.083757  0.053505   \n",
       "Departure Delay in Minutes        -0.002632      -0.004738 -0.010336   \n",
       "Arrival Delay in Minutes          -0.000467      -0.005150 -0.012353   \n",
       "satisfaction                       0.012337      -0.187559 -0.137051   \n",
       "\n",
       "                                   Type of Travel     Class  Flight Distance  \\\n",
       "Gender                                   0.006829 -0.010455        -0.006062   \n",
       "Customer Type                           -0.308269  0.085520         0.225359   \n",
       "Age                                      0.048604  0.139029         0.099848   \n",
       "Type of Travel                                NaN  0.552022         0.267638   \n",
       "Class                                    0.552022       NaN         0.467181   \n",
       "Flight Distance                          0.267638  0.467181              NaN   \n",
       "Inflight wifi service                    0.104876  0.032777         0.007059   \n",
       "Departure/Arrival time convenient       -0.259839 -0.096812        -0.019898   \n",
       "Ease of Online booking                   0.133396  0.107492         0.065707   \n",
       "Gate location                            0.030808  0.004515         0.004745   \n",
       "Food and drink                           0.063104  0.086895         0.056935   \n",
       "Online boarding                          0.224625  0.330491         0.215174   \n",
       "Seat comfort                             0.123974  0.232969         0.157501   \n",
       "Inflight entertainment                   0.147968  0.198940         0.128651   \n",
       "On-board service                         0.056473  0.220676         0.109534   \n",
       "Leg room service                         0.138682  0.213399         0.133822   \n",
       "Baggage handling                         0.031358  0.171112         0.063218   \n",
       "Checkin service                         -0.017067  0.162364         0.073203   \n",
       "Inflight service                         0.022488  0.165850         0.057440   \n",
       "Cleanliness                              0.078747  0.139341         0.093101   \n",
       "Departure Delay in Minutes               0.006514 -0.010460         0.001387   \n",
       "Arrival Delay in Minutes                 0.006136 -0.015029        -0.002984   \n",
       "satisfaction                            -0.448985 -0.503934        -0.298903   \n",
       "\n",
       "                                   Inflight wifi service  \\\n",
       "Gender                                         -0.008964   \n",
       "Customer Type                                   0.007711   \n",
       "Age                                             0.017470   \n",
       "Type of Travel                                  0.104876   \n",
       "Class                                           0.032777   \n",
       "Flight Distance                                 0.007059   \n",
       "Inflight wifi service                                NaN   \n",
       "Departure/Arrival time convenient               0.343753   \n",
       "Ease of Online booking                          0.715846   \n",
       "Gate location                                   0.336125   \n",
       "Food and drink                                  0.134607   \n",
       "Online boarding                                 0.457018   \n",
       "Seat comfort                                    0.122619   \n",
       "Inflight entertainment                          0.209508   \n",
       "On-board service                                0.121489   \n",
       "Leg room service                                0.160496   \n",
       "Baggage handling                                0.121064   \n",
       "Checkin service                                 0.043181   \n",
       "Inflight service                                0.110621   \n",
       "Cleanliness                                     0.132656   \n",
       "Departure Delay in Minutes                     -0.017292   \n",
       "Arrival Delay in Minutes                       -0.018956   \n",
       "satisfaction                                   -0.284168   \n",
       "\n",
       "                                   Departure/Arrival time convenient  \\\n",
       "Gender                                                     -0.008847   \n",
       "Customer Type                                               0.207015   \n",
       "Age                                                         0.038038   \n",
       "Type of Travel                                             -0.259839   \n",
       "Class                                                      -0.096812   \n",
       "Flight Distance                                            -0.019898   \n",
       "Inflight wifi service                                       0.343753   \n",
       "Departure/Arrival time convenient                                NaN   \n",
       "Ease of Online booking                                      0.437017   \n",
       "Gate location                                               0.444599   \n",
       "Food and drink                                              0.005192   \n",
       "Online boarding                                             0.070003   \n",
       "Seat comfort                                                0.011416   \n",
       "Inflight entertainment                                     -0.004692   \n",
       "On-board service                                            0.068611   \n",
       "Leg room service                                            0.012473   \n",
       "Baggage handling                                            0.071905   \n",
       "Checkin service                                             0.093333   \n",
       "Inflight service                                            0.073220   \n",
       "Cleanliness                                                 0.014339   \n",
       "Departure Delay in Minutes                                  0.001314   \n",
       "Arrival Delay in Minutes                                   -0.000378   \n",
       "satisfaction                                                0.051717   \n",
       "\n",
       "                                   Ease of Online booking  Gate location  ...  \\\n",
       "Gender                                          -0.007166      -0.000221  ...   \n",
       "Customer Type                                    0.019632      -0.006290  ...   \n",
       "Age                                              0.024462      -0.001562  ...   \n",
       "Type of Travel                                   0.133396       0.030808  ...   \n",
       "Class                                            0.107492       0.004515  ...   \n",
       "Flight Distance                                  0.065707       0.004745  ...   \n",
       "Inflight wifi service                            0.715846       0.336125  ...   \n",
       "Departure/Arrival time convenient                0.437017       0.444599  ...   \n",
       "Ease of Online booking                                NaN       0.458744  ...   \n",
       "Gate location                                    0.458744            NaN  ...   \n",
       "Food and drink                                   0.031943      -0.001160  ...   \n",
       "Online boarding                                  0.404108       0.001461  ...   \n",
       "Seat comfort                                     0.030022       0.003392  ...   \n",
       "Inflight entertainment                           0.047178       0.003562  ...   \n",
       "On-board service                                 0.038764      -0.028529  ...   \n",
       "Leg room service                                 0.107442      -0.005859  ...   \n",
       "Baggage handling                                 0.038855       0.002423  ...   \n",
       "Checkin service                                  0.010959      -0.035441  ...   \n",
       "Inflight service                                 0.035325       0.001738  ...   \n",
       "Cleanliness                                      0.016194      -0.004005  ...   \n",
       "Departure Delay in Minutes                      -0.005982       0.005857  ...   \n",
       "Arrival Delay in Minutes                        -0.007703       0.005449  ...   \n",
       "satisfaction                                    -0.171511      -0.000458  ...   \n",
       "\n",
       "                                   Inflight entertainment  On-board service  \\\n",
       "Gender                                          -0.006064         -0.008019   \n",
       "Customer Type                                    0.110112          0.056369   \n",
       "Age                                              0.076384          0.057123   \n",
       "Type of Travel                                   0.147968          0.056473   \n",
       "Class                                            0.198940          0.220676   \n",
       "Flight Distance                                  0.128651          0.109534   \n",
       "Inflight wifi service                            0.209508          0.121489   \n",
       "Departure/Arrival time convenient               -0.004692          0.068611   \n",
       "Ease of Online booking                           0.047178          0.038764   \n",
       "Gate location                                    0.003562         -0.028529   \n",
       "Food and drink                                   0.622380          0.058998   \n",
       "Online boarding                                  0.285208          0.155338   \n",
       "Seat comfort                                     0.610617          0.132032   \n",
       "Inflight entertainment                                NaN          0.420362   \n",
       "On-board service                                 0.420362               NaN   \n",
       "Leg room service                                 0.299863          0.355653   \n",
       "Baggage handling                                 0.378367          0.519251   \n",
       "Checkin service                                  0.120808          0.243855   \n",
       "Inflight service                                 0.405244          0.550733   \n",
       "Cleanliness                                      0.691742          0.123237   \n",
       "Departure Delay in Minutes                      -0.027579         -0.032271   \n",
       "Arrival Delay in Minutes                        -0.030623         -0.036040   \n",
       "satisfaction                                    -0.398204         -0.322453   \n",
       "\n",
       "                                   Leg room service  Baggage handling  \\\n",
       "Gender                                    -0.031835         -0.037333   \n",
       "Customer Type                              0.047801         -0.024893   \n",
       "Age                                        0.040502         -0.047619   \n",
       "Type of Travel                             0.138682          0.031358   \n",
       "Class                                      0.213399          0.171112   \n",
       "Flight Distance                            0.133822          0.063218   \n",
       "Inflight wifi service                      0.160496          0.121064   \n",
       "Departure/Arrival time convenient          0.012473          0.071905   \n",
       "Ease of Online booking                     0.107442          0.038855   \n",
       "Gate location                             -0.005859          0.002423   \n",
       "Food and drink                             0.032403          0.034811   \n",
       "Online boarding                            0.123764          0.083294   \n",
       "Seat comfort                               0.105441          0.074554   \n",
       "Inflight entertainment                     0.299863          0.378367   \n",
       "On-board service                           0.355653          0.519251   \n",
       "Leg room service                                NaN          0.369672   \n",
       "Baggage handling                           0.369672               NaN   \n",
       "Checkin service                            0.153071          0.233329   \n",
       "Inflight service                           0.368939          0.628950   \n",
       "Cleanliness                                0.096392          0.095783   \n",
       "Departure Delay in Minutes                 0.013923         -0.005993   \n",
       "Arrival Delay in Minutes                   0.011405         -0.008879   \n",
       "satisfaction                              -0.313179         -0.247821   \n",
       "\n",
       "                                   Checkin service  Inflight service  \\\n",
       "Gender                                   -0.010415         -0.038937   \n",
       "Customer Type                             0.032064         -0.023051   \n",
       "Age                                       0.035015         -0.049900   \n",
       "Type of Travel                           -0.017067          0.022488   \n",
       "Class                                     0.162364          0.165850   \n",
       "Flight Distance                           0.073203          0.057440   \n",
       "Inflight wifi service                     0.043181          0.110621   \n",
       "Departure/Arrival time convenient         0.093333          0.073220   \n",
       "Ease of Online booking                    0.010959          0.035325   \n",
       "Gate location                            -0.035441          0.001738   \n",
       "Food and drink                            0.087031          0.034080   \n",
       "Online boarding                           0.204202          0.074401   \n",
       "Seat comfort                              0.191524          0.069195   \n",
       "Inflight entertainment                    0.120808          0.405244   \n",
       "On-board service                          0.243855          0.550733   \n",
       "Leg room service                          0.153071          0.368939   \n",
       "Baggage handling                          0.233329          0.628950   \n",
       "Checkin service                                NaN          0.237261   \n",
       "Inflight service                          0.237261               NaN   \n",
       "Cleanliness                               0.179409          0.088895   \n",
       "Departure Delay in Minutes               -0.018347         -0.054817   \n",
       "Arrival Delay in Minutes                 -0.020661         -0.059596   \n",
       "satisfaction                             -0.235897         -0.244857   \n",
       "\n",
       "                                   Cleanliness  Departure Delay in Minutes  \\\n",
       "Gender                               -0.006417                   -0.002632   \n",
       "Customer Type                         0.083757                   -0.004738   \n",
       "Age                                   0.053505                   -0.010336   \n",
       "Type of Travel                        0.078747                    0.006514   \n",
       "Class                                 0.139341                   -0.010460   \n",
       "Flight Distance                       0.093101                    0.001387   \n",
       "Inflight wifi service                 0.132656                   -0.017292   \n",
       "Departure/Arrival time convenient     0.014339                    0.001314   \n",
       "Ease of Online booking                0.016194                   -0.005982   \n",
       "Gate location                        -0.004005                    0.005857   \n",
       "Food and drink                        0.657639                   -0.030487   \n",
       "Online boarding                       0.331494                   -0.019431   \n",
       "Seat comfort                          0.678470                   -0.027658   \n",
       "Inflight entertainment                0.691742                   -0.027579   \n",
       "On-board service                      0.123237                   -0.032271   \n",
       "Leg room service                      0.096392                    0.013923   \n",
       "Baggage handling                      0.095783                   -0.005993   \n",
       "Checkin service                       0.179409                   -0.018347   \n",
       "Inflight service                      0.088895                   -0.054817   \n",
       "Cleanliness                                NaN                   -0.014066   \n",
       "Departure Delay in Minutes           -0.014066                         NaN   \n",
       "Arrival Delay in Minutes             -0.016013                    0.964538   \n",
       "satisfaction                         -0.305034                    0.051252   \n",
       "\n",
       "                                   Arrival Delay in Minutes  satisfaction  \n",
       "Gender                                            -0.000467      0.012337  \n",
       "Customer Type                                     -0.005150     -0.187559  \n",
       "Age                                               -0.012353     -0.137051  \n",
       "Type of Travel                                     0.006136     -0.448985  \n",
       "Class                                             -0.015029     -0.503934  \n",
       "Flight Distance                                   -0.002984     -0.298903  \n",
       "Inflight wifi service                             -0.018956     -0.284168  \n",
       "Departure/Arrival time convenient                 -0.000378      0.051717  \n",
       "Ease of Online booking                            -0.007703     -0.171511  \n",
       "Gate location                                      0.005449     -0.000458  \n",
       "Food and drink                                    -0.033033     -0.209641  \n",
       "Online boarding                                   -0.022877     -0.503447  \n",
       "Seat comfort                                      -0.030245     -0.349098  \n",
       "Inflight entertainment                            -0.030623     -0.398204  \n",
       "On-board service                                  -0.036040     -0.322453  \n",
       "Leg room service                                   0.011405     -0.313179  \n",
       "Baggage handling                                  -0.008879     -0.247821  \n",
       "Checkin service                                   -0.020661     -0.235897  \n",
       "Inflight service                                  -0.059596     -0.244857  \n",
       "Cleanliness                                       -0.016013     -0.305034  \n",
       "Departure Delay in Minutes                         0.964538      0.051252  \n",
       "Arrival Delay in Minutes                                NaN      0.058370  \n",
       "satisfaction                                       0.058370           NaN  \n",
       "\n",
       "[23 rows x 23 columns]"
      ]
     },
     "execution_count": 29,
     "metadata": {},
     "output_type": "execute_result"
    }
   ],
   "source": [
    "corr = df_cross.corr()\n",
    "np.fill_diagonal(corr.values, 0)\n",
    "corr.replace(0, np.nan, inplace=True)\n",
    "\n",
    "corr"
   ]
  },
  {
   "cell_type": "code",
   "execution_count": 30,
   "id": "804b17fd",
   "metadata": {},
   "outputs": [
    {
     "data": {
      "image/png": "[encoded data removed]",
      "text/plain": [
       "<Figure size 1296x648 with 2 Axes>"
      ]
     },
     "metadata": {
      "needs_background": "light"
     },
     "output_type": "display_data"
    }
   ],
   "source": [
    "plt.figure(figsize=(18, 9))\n",
    "figure_sns = sns.heatmap(corr, annot=True)\n",
    "fig = figure_sns.get_figure()\n",
    "fig.savefig(\"corrematris.png\")"
   ]
  },
  {
   "cell_type": "code",
   "execution_count": 31,
   "id": "a7a27701",
   "metadata": {},
   "outputs": [
    {
     "data": {
      "text/plain": [
       "Gender                    Gender                             NaN\n",
       "satisfaction              Class                        -0.503934\n",
       "Online boarding           satisfaction                 -0.503447\n",
       "satisfaction              Type of Travel               -0.448985\n",
       "Inflight entertainment    satisfaction                 -0.398204\n",
       "                                                          ...   \n",
       "Food and drink            Cleanliness                   0.657639\n",
       "Seat comfort              Cleanliness                   0.678470\n",
       "Inflight entertainment    Cleanliness                   0.691742\n",
       "Ease of Online booking    Inflight wifi service         0.715846\n",
       "Arrival Delay in Minutes  Departure Delay in Minutes    0.964538\n",
       "Length: 254, dtype: float64"
      ]
     },
     "execution_count": 31,
     "metadata": {},
     "output_type": "execute_result"
    }
   ],
   "source": [
    "corr.unstack().sort_values(kind='quicksort', na_position='first').drop_duplicates(keep='first')"
   ]
  },
  {
   "cell_type": "code",
   "execution_count": 32,
   "id": "5a634756",
   "metadata": {},
   "outputs": [
    {
     "data": {
      "text/plain": [
       "satisfaction                         1.000000\n",
       "Class                                0.503934\n",
       "Online boarding                      0.503447\n",
       "Type of Travel                       0.448985\n",
       "Inflight entertainment               0.398204\n",
       "Seat comfort                         0.349098\n",
       "On-board service                     0.322453\n",
       "Leg room service                     0.313179\n",
       "Cleanliness                          0.305034\n",
       "Flight Distance                      0.298903\n",
       "Inflight wifi service                0.284168\n",
       "Baggage handling                     0.247821\n",
       "Inflight service                     0.244857\n",
       "Checkin service                      0.235897\n",
       "Food and drink                       0.209641\n",
       "Customer Type                        0.187559\n",
       "Ease of Online booking               0.171511\n",
       "Age                                  0.137051\n",
       "Arrival Delay in Minutes             0.058370\n",
       "Departure/Arrival time convenient    0.051717\n",
       "Departure Delay in Minutes           0.051252\n",
       "Gender                               0.012337\n",
       "Gate location                        0.000458\n",
       "Name: satisfaction, dtype: float64"
      ]
     },
     "execution_count": 32,
     "metadata": {},
     "output_type": "execute_result"
    }
   ],
   "source": [
    "df_cross.corr().abs()[\"satisfaction\"].sort_values(ascending=False)"
   ]
  },
  {
   "cell_type": "code",
   "execution_count": 33,
   "id": "add982a9",
   "metadata": {},
   "outputs": [
    {
     "data": {
      "image/png": "[encoded data removed]",
      "text/plain": [
       "<Figure size 432x288 with 1 Axes>"
      ]
     },
     "metadata": {
      "needs_background": "light"
     },
     "output_type": "display_data"
    }
   ],
   "source": [
    "figure_sns = sns.boxplot(x=\"Food and drink\", y=\"Cleanliness\", data=df_cross)\n",
    "fig = figure_sns.get_figure()\n",
    "fig.savefig(\"fooddrink.png\")"
   ]
  },
  {
   "cell_type": "code",
   "execution_count": 34,
   "id": "0de08356",
   "metadata": {},
   "outputs": [
    {
     "data": {
      "image/png": "[encoded data removed]",
      "text/plain": [
       "<Figure size 432x288 with 1 Axes>"
      ]
     },
     "metadata": {
      "needs_background": "light"
     },
     "output_type": "display_data"
    }
   ],
   "source": [
    "figure_sns = sns.boxplot(x='satisfaction', y='Cleanliness', data=df_cross)\n",
    "fig = figure_sns.get_figure()\n",
    "fig.savefig(\"cleansatis.png\")"
   ]
  },
  {
   "cell_type": "code",
   "execution_count": 35,
   "id": "214a3fe0",
   "metadata": {},
   "outputs": [
    {
     "data": {
      "image/png": "[encoded data removed]",
      "text/plain": [
       "<Figure size 432x288 with 1 Axes>"
      ]
     },
     "metadata": {
      "needs_background": "light"
     },
     "output_type": "display_data"
    }
   ],
   "source": [
    "figure_sns = sns.boxplot(x='satisfaction', y='Food and drink', data=df_cross)\n",
    "fig = figure_sns.get_figure()\n",
    "fig.savefig(\"foodsatis.png\")"
   ]
  },
  {
   "cell_type": "code",
   "execution_count": 36,
   "id": "70c01788",
   "metadata": {},
   "outputs": [
    {
     "data": {
      "image/png": "[encoded data removed]",
      "text/plain": [
       "<Figure size 432x288 with 1 Axes>"
      ]
     },
     "metadata": {
      "needs_background": "light"
     },
     "output_type": "display_data"
    }
   ],
   "source": [
    "figure_sns = sns.boxplot(x='satisfaction', y='Flight Distance', data=df_cross)\n",
    "fig = figure_sns.get_figure()\n",
    "fig.savefig(\"class.png\")"
   ]
  },
  {
   "cell_type": "code",
   "execution_count": 37,
   "id": "c5408f49",
   "metadata": {},
   "outputs": [
    {
     "data": {
      "image/png": "[encoded data removed]",
      "text/plain": [
       "<Figure size 432x288 with 1 Axes>"
      ]
     },
     "metadata": {
      "needs_background": "light"
     },
     "output_type": "display_data"
    }
   ],
   "source": [
    "figure_sns = sns.scatterplot(x=\"Cleanliness\", y=\"Food and drink\", hue=\"satisfaction\", data=df_cross)\n",
    "fig = figure_sns.get_figure()\n",
    "fig.savefig(\"plotfood.png\")"
   ]
  },
  {
   "cell_type": "code",
   "execution_count": 38,
   "id": "46534045",
   "metadata": {},
   "outputs": [
    {
     "data": {
      "text/plain": [
       "<seaborn.axisgrid.FacetGrid at 0x1fe96fbd988>"
      ]
     },
     "execution_count": 38,
     "metadata": {},
     "output_type": "execute_result"
    },
    {
     "data": {
      "image/png": "[encoded data removed]",
      "text/plain": [
       "<Figure size 425.75x360 with 1 Axes>"
      ]
     },
     "metadata": {
      "needs_background": "light"
     },
     "output_type": "display_data"
    }
   ],
   "source": [
    "sns.lmplot(x='Flight Distance', y='Departure Delay in Minutes', hue='satisfaction', data=df_cross)"
   ]
  },
  {
   "cell_type": "code",
   "execution_count": 39,
   "id": "3bd1a8f3",
   "metadata": {},
   "outputs": [
    {
     "data": {
      "text/plain": [
       "(103592, 23)"
      ]
     },
     "execution_count": 39,
     "metadata": {},
     "output_type": "execute_result"
    }
   ],
   "source": [
    "#sns.lmplot(x='Flight Distance')\n",
    "df.head()\n",
    "df.shape"
   ]
  },
  {
   "cell_type": "code",
   "execution_count": 40,
   "id": "8ef4edef",
   "metadata": {},
   "outputs": [
    {
     "data": {
      "text/plain": [
       "neutral or dissatisfied    58696\n",
       "satisfied                  44896\n",
       "Name: satisfaction, dtype: int64"
      ]
     },
     "execution_count": 40,
     "metadata": {},
     "output_type": "execute_result"
    }
   ],
   "source": [
    "df[\"satisfaction\"].value_counts()"
   ]
  },
  {
   "cell_type": "code",
   "execution_count": 41,
   "id": "0b1abcef",
   "metadata": {},
   "outputs": [
    {
     "data": {
      "text/plain": [
       "Business    49532\n",
       "Eco         46592\n",
       "Eco Plus     7468\n",
       "Name: Class, dtype: int64"
      ]
     },
     "execution_count": 41,
     "metadata": {},
     "output_type": "execute_result"
    }
   ],
   "source": [
    "#Info(D) calculate \n",
    "df[\"Class\"].value_counts()"
   ]
  },
  {
   "cell_type": "code",
   "execution_count": 42,
   "id": "d58b7cb1",
   "metadata": {},
   "outputs": [
    {
     "name": "stdout",
     "output_type": "stream",
     "text": [
      "15143\n"
     ]
    }
   ],
   "source": [
    "#info for business \n",
    "print(df[(df[\"Class\"] == \"Business\") & (df[\"satisfaction\"] == \"neutral or dissatisfied\")].shape[0])"
   ]
  },
  {
   "cell_type": "code",
   "execution_count": 43,
   "id": "fcba7f3f",
   "metadata": {},
   "outputs": [
    {
     "name": "stdout",
     "output_type": "stream",
     "text": [
      "34389\n"
     ]
    }
   ],
   "source": [
    "print(df[(df[\"Class\"] == \"Business\") & (df[\"satisfaction\"] == \"satisfied\")].shape[0])"
   ]
  },
  {
   "cell_type": "code",
   "execution_count": 44,
   "id": "3683dd8e",
   "metadata": {},
   "outputs": [],
   "source": [
    "#print((df[df[\"Class\"]])"
   ]
  },
  {
   "cell_type": "code",
   "execution_count": 45,
   "id": "93de7a80",
   "metadata": {},
   "outputs": [],
   "source": [
    "def pandas_entropy(name, spike, number):\n",
    "    nega = df[(df[name] == spike) & (df[\"satisfaction\"] == \"neutral or dissatisfied\")].shape[0]\n",
    "    posi = df[(df[name] == spike) & (df[\"satisfaction\"] == \"satisfied\")].shape[0]\n",
    "    pnnega = (nega/number)\n",
    "    pposi = (posi/number)\n",
    "    lognega = pnnega*(math.log2(pnnega))\n",
    "    logpos = pposi*(math.log2(pposi))\n",
    "    entropy = lognega + logpos\n",
    "    return -(entropy)"
   ]
  },
  {
   "cell_type": "code",
   "execution_count": 46,
   "id": "9c9052b0",
   "metadata": {},
   "outputs": [],
   "source": [
    "def entropy_list(column):\n",
    "    for i in range(1, 6):\n",
    "        temp = df[df[column] == i].shape[0]\n",
    "        en = pandas_entropy(column, i, temp)\n",
    "        print(str(i) + \":\" + str(en))  "
   ]
  },
  {
   "cell_type": "code",
   "execution_count": 47,
   "id": "d9e49cf4",
   "metadata": {},
   "outputs": [
    {
     "name": "stdout",
     "output_type": "stream",
     "text": [
      "1:0.7089984285771682\n",
      "2:0.820250989439975\n",
      "3:0.8995709282944693\n",
      "4:0.996032560357984\n",
      "5:0.9406859150202522\n"
     ]
    }
   ],
   "source": [
    "entropy_list(\"On-board service\")"
   ]
  },
  {
   "cell_type": "code",
   "execution_count": 48,
   "id": "c28bde08",
   "metadata": {},
   "outputs": [
    {
     "name": "stdout",
     "output_type": "stream",
     "text": [
      "0.88817283818168\n"
     ]
    }
   ],
   "source": [
    "print(str(pandas_entropy(\"Class\", \"Business\", 49532)))"
   ]
  },
  {
   "cell_type": "code",
   "execution_count": 49,
   "id": "3e7da01a",
   "metadata": {},
   "outputs": [
    {
     "name": "stdout",
     "output_type": "stream",
     "text": [
      "0.6932517472668389\n"
     ]
    }
   ],
   "source": [
    "print(pandas_entropy(\"Class\", \"Eco\", 46592))"
   ]
  },
  {
   "cell_type": "code",
   "execution_count": 50,
   "id": "9b33193c",
   "metadata": {},
   "outputs": [
    {
     "name": "stdout",
     "output_type": "stream",
     "text": [
      "0.804632336131798\n"
     ]
    }
   ],
   "source": [
    "print(pandas_entropy(\"Class\", \"Eco Plus\", 7468))"
   ]
  },
  {
   "cell_type": "code",
   "execution_count": 51,
   "id": "f2f0bbd8",
   "metadata": {},
   "outputs": [
    {
     "name": "stdout",
     "output_type": "stream",
     "text": [
      "0.19251821843671524\n"
     ]
    }
   ],
   "source": [
    "nu = (49532/103592)\n",
    "nu_1 = nu*(pandas_entropy(\"Class\", \"Business\", 49532))\n",
    "\n",
    "nu_2 = (46592/103592)\n",
    "nu_3 = nu_2*(pandas_entropy(\"Class\",\"Eco\", 46592))\n",
    "\n",
    "nu_4 = (7468/103592)\n",
    "nu_5 = nu_4*(pandas_entropy(\"Class\", \"Eco Plus\", 7468))\n",
    "\n",
    "info_class = (nu_1 + nu_3 + nu_5)\n",
    "gain = (0.987 - info_class)\n",
    "\n",
    "print(str(gain))"
   ]
  },
  {
   "cell_type": "code",
   "execution_count": 52,
   "id": "975504d3",
   "metadata": {},
   "outputs": [
    {
     "data": {
      "text/plain": [
       "Business travel    71464\n",
       "Personal Travel    32128\n",
       "Name: Type of Travel, dtype: int64"
      ]
     },
     "execution_count": 52,
     "metadata": {},
     "output_type": "execute_result"
    }
   ],
   "source": [
    "df[\"Type of Travel\"].value_counts()"
   ]
  },
  {
   "cell_type": "code",
   "execution_count": 53,
   "id": "f2d4c9e2",
   "metadata": {},
   "outputs": [
    {
     "name": "stdout",
     "output_type": "stream",
     "text": [
      "0.4739291234809583\n"
     ]
    }
   ],
   "source": [
    "print(pandas_entropy(\"Type of Travel\", \"Personal Travel\", 32128))"
   ]
  },
  {
   "cell_type": "code",
   "execution_count": 54,
   "id": "9b8647f0",
   "metadata": {},
   "outputs": [
    {
     "name": "stdout",
     "output_type": "stream",
     "text": [
      "0.9802361063738505\n"
     ]
    }
   ],
   "source": [
    "print(pandas_entropy(\"Type of Travel\", \"Business travel\", 71464))"
   ]
  },
  {
   "cell_type": "code",
   "execution_count": 55,
   "id": "8812e362",
   "metadata": {},
   "outputs": [
    {
     "name": "stdout",
     "output_type": "stream",
     "text": [
      "0.16378982947431198\n"
     ]
    }
   ],
   "source": [
    "nu = (32128/103592)\n",
    "nu_1 = nu*(pandas_entropy(\"Type of Travel\", \"Personal Travel\", 32128))\n",
    "\n",
    "nu_2 = (71464/103592)\n",
    "nu_3 = nu_2*(pandas_entropy(\"Type of Travel\", \"Business travel\", 71464))\n",
    "\n",
    "info_class = (nu_1 + nu_3)\n",
    "gain = (0.987 - info_class)\n",
    "\n",
    "print(str(gain))"
   ]
  },
  {
   "cell_type": "code",
   "execution_count": 56,
   "id": "737a08d5",
   "metadata": {},
   "outputs": [
    {
     "data": {
      "text/plain": [
       "Loyal Customer       84660\n",
       "disloyal Customer    18932\n",
       "Name: Customer Type, dtype: int64"
      ]
     },
     "execution_count": 56,
     "metadata": {},
     "output_type": "execute_result"
    }
   ],
   "source": [
    "df[\"Customer Type\"].value_counts() "
   ]
  },
  {
   "cell_type": "code",
   "execution_count": 57,
   "id": "9a68e07f",
   "metadata": {},
   "outputs": [
    {
     "name": "stdout",
     "output_type": "stream",
     "text": [
      "0.026633475519677874\n"
     ]
    }
   ],
   "source": [
    "nu = (84660/103592)\n",
    "nu_1 = nu*(pandas_entropy(\"Customer Type\", \"Loyal Customer\", 84660))\n",
    "\n",
    "nu_2 = (18932/103592)\n",
    "nu_3 = nu_2*(pandas_entropy(\"Customer Type\", \"disloyal Customer\", 18932))\n",
    "\n",
    "info_class = (nu_1 + nu_3)\n",
    "gain = (0.987 - info_class)\n",
    "\n",
    "print(str(gain))"
   ]
  },
  {
   "cell_type": "code",
   "execution_count": 58,
   "id": "7f0c3942",
   "metadata": {},
   "outputs": [
    {
     "data": {
      "text/plain": [
       "Female    52575\n",
       "Male      51017\n",
       "Name: Gender, dtype: int64"
      ]
     },
     "execution_count": 58,
     "metadata": {},
     "output_type": "execute_result"
    }
   ],
   "source": [
    "df[\"Gender\"].value_counts()"
   ]
  },
  {
   "cell_type": "code",
   "execution_count": 59,
   "id": "f2c31692",
   "metadata": {},
   "outputs": [
    {
     "name": "stdout",
     "output_type": "stream",
     "text": [
      "-5.089394003621184e-05\n"
     ]
    }
   ],
   "source": [
    "nu_5 = (52575/103592)\n",
    "nu_5 = nu_5*(pandas_entropy(\"Gender\", \"Female\", 52575))\n",
    "\n",
    "nu_7 = (51017/103592)\n",
    "nu_8 = nu_7*(pandas_entropy(\"Gender\", \"Male\", 51017))\n",
    "\n",
    "info_class = (nu_5 + nu_8)\n",
    "gain = (0.987 - info_class)\n",
    "\n",
    "print(str(gain)) #negative ??"
   ]
  },
  {
   "cell_type": "code",
   "execution_count": 60,
   "id": "954234e3",
   "metadata": {
    "scrolled": true
   },
   "outputs": [
    {
     "data": {
      "text/plain": [
       "4    30771\n",
       "5    23584\n",
       "3    22770\n",
       "2    14632\n",
       "1    11832\n",
       "0        3\n",
       "Name: On-board service, dtype: int64"
      ]
     },
     "execution_count": 60,
     "metadata": {},
     "output_type": "execute_result"
    }
   ],
   "source": [
    "df[\"On-board service\"].value_counts()\n",
    "#df[df[\"On-board service\"] == 2].shape[0]"
   ]
  },
  {
   "cell_type": "code",
   "execution_count": 61,
   "id": "0b42ca6c",
   "metadata": {},
   "outputs": [],
   "source": [
    "def calculate_entropy(name_2):\n",
    "    total = 0\n",
    "    name = name_2\n",
    "    for i in range(1, 6):\n",
    "        temp = df[(df[name] == i)].shape[0]\n",
    "        nu = (temp/103592)\n",
    "        nu_2 = nu*(pandas_entropy(name, i, temp))\n",
    "        total += nu_2\n",
    "        \n",
    "    gain = (0.987 - total)\n",
    "    print(str(gain))"
   ]
  },
  {
   "cell_type": "code",
   "execution_count": 62,
   "id": "bdd84ef0",
   "metadata": {},
   "outputs": [
    {
     "name": "stdout",
     "output_type": "stream",
     "text": [
      "0.08241213166760952\n"
     ]
    }
   ],
   "source": [
    "calculate_entropy(\"On-board service\")"
   ]
  },
  {
   "cell_type": "code",
   "execution_count": 63,
   "id": "2f99141d",
   "metadata": {},
   "outputs": [
    {
     "name": "stdout",
     "output_type": "stream",
     "text": [
      "0.09176804426946983\n"
     ]
    }
   ],
   "source": [
    "calculate_entropy(\"Leg room service\")"
   ]
  },
  {
   "cell_type": "code",
   "execution_count": 64,
   "id": "4933d219",
   "metadata": {},
   "outputs": [
    {
     "name": "stdout",
     "output_type": "stream",
     "text": [
      "0.07452238205258077\n"
     ]
    }
   ],
   "source": [
    "calculate_entropy(\"Cleanliness\")"
   ]
  },
  {
   "cell_type": "code",
   "execution_count": 65,
   "id": "9c418fe4",
   "metadata": {},
   "outputs": [
    {
     "name": "stdout",
     "output_type": "stream",
     "text": [
      "0.13521682355489606\n"
     ]
    }
   ],
   "source": [
    "calculate_entropy(\"Inflight entertainment\")"
   ]
  },
  {
   "cell_type": "code",
   "execution_count": 66,
   "id": "fd44caa2",
   "metadata": {},
   "outputs": [
    {
     "name": "stdout",
     "output_type": "stream",
     "text": [
      "0.1134502894118361\n"
     ]
    }
   ],
   "source": [
    "calculate_entropy(\"Seat comfort\")"
   ]
  },
  {
   "cell_type": "code",
   "execution_count": 67,
   "id": "8da0ce00",
   "metadata": {},
   "outputs": [
    {
     "name": "stdout",
     "output_type": "stream",
     "text": [
      "0.11288356402516897\n"
     ]
    }
   ],
   "source": [
    "calculate_entropy(\"Ease of Online booking\")"
   ]
  },
  {
   "cell_type": "code",
   "execution_count": 68,
   "id": "2661b9af",
   "metadata": {},
   "outputs": [
    {
     "name": "stdout",
     "output_type": "stream",
     "text": [
      "0.3270811511378412\n"
     ]
    }
   ],
   "source": [
    "calculate_entropy(\"Online boarding\")"
   ]
  },
  {
   "cell_type": "code",
   "execution_count": 69,
   "id": "4ae120d5",
   "metadata": {},
   "outputs": [
    {
     "name": "stdout",
     "output_type": "stream",
     "text": [
      "0.23387993793944561\n"
     ]
    }
   ],
   "source": [
    "calculate_entropy(\"Inflight wifi service\")"
   ]
  },
  {
   "cell_type": "code",
   "execution_count": 70,
   "id": "07ab1d24",
   "metadata": {},
   "outputs": [
    {
     "name": "stdout",
     "output_type": "stream",
     "text": [
      "0.04580195464829073\n"
     ]
    }
   ],
   "source": [
    "calculate_entropy(\"Checkin service\")"
   ]
  },
  {
   "cell_type": "code",
   "execution_count": 71,
   "id": "3ba8a2d1",
   "metadata": {},
   "outputs": [
    {
     "name": "stdout",
     "output_type": "stream",
     "text": [
      "0.0172180228053167\n"
     ]
    }
   ],
   "source": [
    "calculate_entropy(\"Gate location\")"
   ]
  },
  {
   "cell_type": "code",
   "execution_count": 72,
   "id": "62b58d40",
   "metadata": {},
   "outputs": [
    {
     "name": "stdout",
     "output_type": "stream",
     "text": [
      "0.03861653134765164\n"
     ]
    }
   ],
   "source": [
    "calculate_entropy(\"Food and drink\")"
   ]
  },
  {
   "cell_type": "code",
   "execution_count": 73,
   "id": "6ffe1041",
   "metadata": {},
   "outputs": [
    {
     "name": "stdout",
     "output_type": "stream",
     "text": [
      "0.053956987654420474\n"
     ]
    }
   ],
   "source": [
    "calculate_entropy(\"Departure/Arrival time convenient\")"
   ]
  },
  {
   "cell_type": "code",
   "execution_count": 74,
   "id": "c097592f",
   "metadata": {},
   "outputs": [
    {
     "name": "stdout",
     "output_type": "stream",
     "text": [
      "51226\n",
      "52366\n"
     ]
    }
   ],
   "source": [
    "mean = df[\"Age\"].mean()\n",
    "number = df[(df[\"Age\"] < mean)].shape[0]\n",
    "print(number)\n",
    "number_2 = df[(df[\"Age\"] > mean)].shape[0]\n",
    "print(number_2)"
   ]
  },
  {
   "cell_type": "code",
   "execution_count": 75,
   "id": "9aec0efc",
   "metadata": {},
   "outputs": [],
   "source": [
    "def pandas_entropy_less(name, mean, number):\n",
    "    nega = df[(df[name] < mean) & (df[\"satisfaction\"] == \"neutral or dissatisfied\")].shape[0]\n",
    "    posi = df[(df[name] < mean) & (df[\"satisfaction\"] == \"satisfied\")].shape[0]\n",
    "    pnnega = (nega/number)\n",
    "    pposi = (posi/number)\n",
    "    lognega = pnnega*(math.log2(pnnega))\n",
    "    logpos = pposi*(math.log2(pposi))\n",
    "    entropy = lognega + logpos\n",
    "    return -(entropy)"
   ]
  },
  {
   "cell_type": "code",
   "execution_count": 76,
   "id": "e6da565d",
   "metadata": {},
   "outputs": [],
   "source": [
    "def pandas_entropy_more(name, mean, number):\n",
    "    nega = df[(df[name] > mean) & (df[\"satisfaction\"] == \"neutral or dissatisfied\")].shape[0]\n",
    "    posi = df[(df[name] > mean) & (df[\"satisfaction\"] == \"satisfied\")].shape[0]\n",
    "    pnnega = (nega/number)\n",
    "    pposi = (posi/number)\n",
    "    lognega = pnnega*(math.log2(pnnega))\n",
    "    logpos = pposi*(math.log2(pposi))\n",
    "    entropy = lognega + logpos\n",
    "    return -(entropy)"
   ]
  },
  {
   "cell_type": "code",
   "execution_count": 77,
   "id": "697363cf",
   "metadata": {},
   "outputs": [
    {
     "name": "stdout",
     "output_type": "stream",
     "text": [
      "0.022758199866133588\n"
     ]
    }
   ],
   "source": [
    "nu = (number/103592)\n",
    "nu_1 = nu*(pandas_entropy_less(\"Age\", df[\"Age\"].mean(), number))\n",
    "\n",
    "nu_2 = (number_2/103592)\n",
    "nu_3 = nu_2*(pandas_entropy_more(\"Age\", df[\"Age\"].mean(), number_2))\n",
    "\n",
    "info_class = (nu_1 + nu_3)\n",
    "gain = (0.987 - info_class)\n",
    "\n",
    "print(gain)"
   ]
  },
  {
   "cell_type": "code",
   "execution_count": 78,
   "id": "f15a4f3a",
   "metadata": {},
   "outputs": [
    {
     "data": {
      "text/plain": [
       "0         neutral or dissatisfied\n",
       "1         neutral or dissatisfied\n",
       "2                       satisfied\n",
       "3         neutral or dissatisfied\n",
       "4                       satisfied\n",
       "                   ...           \n",
       "103899    neutral or dissatisfied\n",
       "103900                  satisfied\n",
       "103901    neutral or dissatisfied\n",
       "103902    neutral or dissatisfied\n",
       "103903    neutral or dissatisfied\n",
       "Name: satisfaction, Length: 103592, dtype: object"
      ]
     },
     "execution_count": 78,
     "metadata": {},
     "output_type": "execute_result"
    }
   ],
   "source": [
    "df[\"satisfaction\"]"
   ]
  },
  {
   "cell_type": "code",
   "execution_count": 79,
   "id": "c9e9c9f3",
   "metadata": {},
   "outputs": [],
   "source": [
    "df_cross = df_cross.drop('Gate location', axis=1)\n",
    "df_cross = df_cross.drop('Gender', axis=1)\n",
    "df_cross = df_cross.drop('Food and drink', axis=1)\n",
    "#df_cross = df_cross.drop('Customer Type', axis=1)\n",
    "df_cross = df_cross.drop('Departure/Arrival time convenient', axis=1)\n",
    "df_cross = df_cross.drop('Age', axis=1)"
   ]
  },
  {
   "cell_type": "code",
   "execution_count": 80,
   "id": "fe2c4928",
   "metadata": {},
   "outputs": [
    {
     "data": {
      "text/plain": [
       "Customer Type                   uint8\n",
       "Type of Travel                  uint8\n",
       "Class                           uint8\n",
       "Flight Distance                 int64\n",
       "Inflight wifi service           int64\n",
       "Ease of Online booking          int64\n",
       "Online boarding                 int64\n",
       "Seat comfort                    int64\n",
       "Inflight entertainment          int64\n",
       "On-board service                int64\n",
       "Leg room service                int64\n",
       "Baggage handling                int64\n",
       "Checkin service                 int64\n",
       "Inflight service                int64\n",
       "Cleanliness                     int64\n",
       "Departure Delay in Minutes      int64\n",
       "Arrival Delay in Minutes      float64\n",
       "satisfaction                    uint8\n",
       "dtype: object"
      ]
     },
     "execution_count": 80,
     "metadata": {},
     "output_type": "execute_result"
    }
   ],
   "source": [
    "df_cross.dtypes"
   ]
  },
  {
   "cell_type": "code",
   "execution_count": 81,
   "id": "882299fc",
   "metadata": {},
   "outputs": [
    {
     "data": {
      "text/plain": [
       "0         1\n",
       "1         1\n",
       "2         0\n",
       "3         1\n",
       "4         0\n",
       "         ..\n",
       "103899    1\n",
       "103900    0\n",
       "103901    1\n",
       "103902    1\n",
       "103903    1\n",
       "Name: satisfaction, Length: 103592, dtype: uint8"
      ]
     },
     "execution_count": 81,
     "metadata": {},
     "output_type": "execute_result"
    }
   ],
   "source": [
    "df_cross[\"satisfaction\"] #WE HAVE TO RUN THIS LINE AGAIN FOR 0 0 beginning instead of 1 1 !!"
   ]
  },
  {
   "cell_type": "code",
   "execution_count": 82,
   "id": "921e86f1",
   "metadata": {},
   "outputs": [],
   "source": [
    "X = df_cross.drop('satisfaction', axis=1)\n",
    "y = df_cross['satisfaction']"
   ]
  },
  {
   "cell_type": "code",
   "execution_count": 83,
   "id": "50c57361",
   "metadata": {},
   "outputs": [],
   "source": [
    "X_train, X_test, y_train, y_test = train_test_split(X, y, test_size=0.3, random_state = 42)"
   ]
  },
  {
   "cell_type": "code",
   "execution_count": 84,
   "id": "49d3023b",
   "metadata": {},
   "outputs": [],
   "source": [
    "models = {'Decision Tree' : DecisionTreeClassifier(), 'Random Forest Classification': RandomForestClassifier()}\n",
    "\n",
    "def fit_and_score(models, X_train, X_test, y_train, y_test):\n",
    "    np.random.seed(42)\n",
    "    \n",
    "    model_scores = {}\n",
    "    \n",
    "    for name, model in models.items():\n",
    "        model.fit(X_train, y_train)\n",
    "    \n",
    "        model_scores[name] = model.score(X_test, y_test)\n",
    "    return model_scores"
   ]
  },
  {
   "cell_type": "code",
   "execution_count": 85,
   "id": "5e1c6348",
   "metadata": {},
   "outputs": [
    {
     "data": {
      "text/plain": [
       "{'Decision Tree': 0.944076195379368,\n",
       " 'Random Forest Classification': 0.9589420168608018}"
      ]
     },
     "execution_count": 85,
     "metadata": {},
     "output_type": "execute_result"
    }
   ],
   "source": [
    "model_scores = fit_and_score(models=models, \n",
    "                             X_train=X_train,\n",
    "                            X_test=X_test,\n",
    "                            y_train=y_train,\n",
    "                            y_test=y_test)\n",
    "model_scores #accuracy score"
   ]
  },
  {
   "cell_type": "code",
   "execution_count": 86,
   "id": "36b4dc49",
   "metadata": {},
   "outputs": [],
   "source": [
    "model = DecisionTreeClassifier()\n",
    "model.fit(X_train, y_train)\n",
    "y_pre = model.predict(X_test) #predictions"
   ]
  },
  {
   "cell_type": "code",
   "execution_count": 87,
   "id": "b1e883f3",
   "metadata": {},
   "outputs": [
    {
     "data": {
      "text/plain": [
       "<AxesSubplot:>"
      ]
     },
     "execution_count": 87,
     "metadata": {},
     "output_type": "execute_result"
    },
    {
     "data": {
      "image/png": "[encoded data removed]",
      "text/plain": [
       "<Figure size 432x288 with 2 Axes>"
      ]
     },
     "metadata": {
      "needs_background": "light"
     },
     "output_type": "display_data"
    }
   ],
   "source": [
    "conf2 = confusion_matrix(y_test, y_pre)\n",
    "sns.heatmap(conf2, annot=True)"
   ]
  },
  {
   "cell_type": "code",
   "execution_count": 88,
   "id": "26022912",
   "metadata": {},
   "outputs": [
    {
     "name": "stdout",
     "output_type": "stream",
     "text": [
      "0.9503658744114811\n"
     ]
    }
   ],
   "source": [
    "print(recall_score(y_test, y_pre)) #recall score predictions  "
   ]
  },
  {
   "cell_type": "code",
   "execution_count": 89,
   "id": "8e8be1e8",
   "metadata": {},
   "outputs": [
    {
     "name": "stdout",
     "output_type": "stream",
     "text": [
      "0.9530690027874168\n"
     ]
    }
   ],
   "source": [
    "print(precision_score(y_test, y_pre)) #precision score hatalı olabilir ???"
   ]
  },
  {
   "cell_type": "code",
   "execution_count": 90,
   "id": "bad73f2b",
   "metadata": {},
   "outputs": [
    {
     "name": "stdout",
     "output_type": "stream",
     "text": [
      "0.9517155192001818\n"
     ]
    }
   ],
   "source": [
    "print(f1_score(y_test, y_pre))"
   ]
  },
  {
   "cell_type": "code",
   "execution_count": 91,
   "id": "f8358a55",
   "metadata": {},
   "outputs": [
    {
     "name": "stdout",
     "output_type": "stream",
     "text": [
      "0.973055760394804\n"
     ]
    }
   ],
   "source": [
    "#random forest classifier \n",
    "model = RandomForestClassifier()\n",
    "\n",
    "model.fit(X_train, y_train)\n",
    "\n",
    "predictions = model.predict(X_test)\n",
    "\n",
    "#print(rec)\n",
    "\n",
    "print(recall_score(y_test, predictions))"
   ]
  },
  {
   "cell_type": "code",
   "execution_count": 92,
   "id": "26106cca",
   "metadata": {},
   "outputs": [
    {
     "data": {
      "text/plain": [
       "<AxesSubplot:>"
      ]
     },
     "execution_count": 92,
     "metadata": {},
     "output_type": "execute_result"
    },
    {
     "data": {
      "image/png": "[encoded data removed]",
      "text/plain": [
       "<Figure size 432x288 with 2 Axes>"
      ]
     },
     "metadata": {
      "needs_background": "light"
     },
     "output_type": "display_data"
    }
   ],
   "source": [
    "conf2 = confusion_matrix(y_test, predictions)\n",
    "sns.heatmap(conf2, annot=True)"
   ]
  },
  {
   "cell_type": "code",
   "execution_count": 93,
   "id": "a661fad5",
   "metadata": {},
   "outputs": [
    {
     "name": "stdout",
     "output_type": "stream",
     "text": [
      "0.9642766800640828\n"
     ]
    }
   ],
   "source": [
    "print(f1_score(y_test, predictions))"
   ]
  },
  {
   "cell_type": "code",
   "execution_count": 94,
   "id": "90e0fb3c",
   "metadata": {},
   "outputs": [
    {
     "name": "stdout",
     "output_type": "stream",
     "text": [
      "0.9556545961002786\n"
     ]
    }
   ],
   "source": [
    "print(precision_score(y_test, predictions))"
   ]
  },
  {
   "cell_type": "code",
   "execution_count": 95,
   "id": "37b4a7dd",
   "metadata": {},
   "outputs": [],
   "source": [
    "#logistic regression \n",
    "min_max_scaler = MinMaxScaler()\n",
    "X_train_min_max = min_max_scaler.fit_transform(X_train) #scale the data between [0,1] range\n",
    "#scaler = StandardScaler().fit(X_train)\n",
    "#X_scaled = scaler.transform(X_train)\n",
    "\n",
    "logreg  = LogisticRegression()\n",
    "logreg.fit(X_train_min_max, y_train)\n",
    "\n",
    "y_predictions = logreg.predict(X_test)"
   ]
  },
  {
   "cell_type": "code",
   "execution_count": 96,
   "id": "49bb7e79",
   "metadata": {},
   "outputs": [
    {
     "name": "stdout",
     "output_type": "stream",
     "text": [
      "Accuracy: 0.5706930947937447\n",
      "Precision: 0.576698751207643\n",
      "Recall: 0.9142322309830393\n",
      "f1 score: 0.707258206073372\n"
     ]
    }
   ],
   "source": [
    "print(\"Accuracy:\", accuracy_score(y_test, y_predictions))\n",
    "print(\"Precision:\", precision_score(y_test, y_predictions))\n",
    "print(\"Recall:\", recall_score(y_test, y_predictions))\n",
    "print(\"f1 score:\", f1_score(y_test, y_predictions))"
   ]
  },
  {
   "cell_type": "code",
   "execution_count": 97,
   "id": "0aa2c34f",
   "metadata": {},
   "outputs": [],
   "source": [
    "def gini_calculate(name, rate):\n",
    "        name_number = df[(df[name] == rate)].shape[0] #number of name\n",
    "        if(name_number != 0):\n",
    "            nega_number = df[(df[name] == rate) & (df[\"satisfaction\"] == \"neural or dissatisfied\")].shape[0]\n",
    "            posi_number = df[(df[name] == rate) & (df[\"satisfaction\"] == \"satisfied\")].shape[0]\n",
    "            \n",
    "            div_nega = (nega_number/name_number)\n",
    "            div_posi = (posi_number/name_number)\n",
    "            \n",
    "            total = (div_nega)**2 + (div_posi)**2\n",
    "            \n",
    "            gini = (1 - total)\n",
    "            \n",
    "            return gini \n",
    "        else:\n",
    "            return 0"
   ]
  },
  {
   "cell_type": "code",
   "execution_count": 98,
   "id": "95af879e",
   "metadata": {},
   "outputs": [],
   "source": [
    "def gini_Index(name):\n",
    "    total_number = df[name].shape[0]\n",
    "    total = 0\n",
    "    for i in range(1, 6):\n",
    "        number_of_rate = df[(df[name] == i)].shape[0]\n",
    "        div_total = (number_of_rate/total_number)\n",
    "        gini = gini_calculate(name, i)\n",
    "        mul = gini*div_total\n",
    "        total += mul\n",
    "    return total "
   ]
  },
  {
   "cell_type": "code",
   "execution_count": 99,
   "id": "9751bf59",
   "metadata": {},
   "outputs": [],
   "source": [
    "def gini_list(name):\n",
    "    print(name + \" \" + str(gini_Index(name)))"
   ]
  },
  {
   "cell_type": "code",
   "execution_count": 100,
   "id": "edc1106a",
   "metadata": {},
   "outputs": [
    {
     "name": "stdout",
     "output_type": "stream",
     "text": [
      "Inflight wifi service 0.744202863889014\n",
      "Ease of Online booking 0.7634802016767109\n",
      "Online boarding 0.7021316719070184\n",
      "Seat comfort 0.7749832890888309\n",
      "Inflight entertainment 0.7682384179509604\n",
      "On-board service 0.7849283923256223\n",
      "Leg room service 0.779178742825954\n",
      "Baggage handling 0.7918039733210566\n",
      "Checkin service 0.7970157383411784\n",
      "Inflight service 0.7925531122834595\n",
      "Cleanliness 0.787868274104458\n"
     ]
    }
   ],
   "source": [
    "array = [\"Inflight wifi service\", \"Ease of Online booking\", \"Online boarding\", \"Seat comfort\", \"Inflight entertainment\", \"On-board service\", \"Leg room service\", \"Baggage handling\", \"Checkin service\", \"Inflight service\", \"Cleanliness\"]\n",
    "\n",
    "for i in array:\n",
    "    gini_list(i)"
   ]
  },
  {
   "cell_type": "code",
   "execution_count": 101,
   "id": "d8887d6f",
   "metadata": {},
   "outputs": [],
   "source": [
    "#dropping checkin service and inflight service from top highest gini Index multiway splitting\n",
    "#cleanliness has good linear relationship with satisfaction we can not drop that \n",
    "#drop ease of online booking #just drop checkin service\n",
    "#df_cross = df_cross.drop(\"Checkin service\", axis=1)\n",
    "#df_cross = df_cross.drop(\"Inflight service\", axis=1)\n",
    "df_cross = df_cross.drop(\"Checkin service\", axis=1)"
   ]
  },
  {
   "cell_type": "code",
   "execution_count": 102,
   "id": "9d0b11b7",
   "metadata": {},
   "outputs": [
    {
     "data": {
      "text/plain": [
       "(103592, 17)"
      ]
     },
     "execution_count": 102,
     "metadata": {},
     "output_type": "execute_result"
    }
   ],
   "source": [
    "df_cross.shape"
   ]
  },
  {
   "cell_type": "code",
   "execution_count": 103,
   "id": "74f3c20b",
   "metadata": {},
   "outputs": [],
   "source": [
    "X = df_cross.drop('satisfaction', axis=1)\n",
    "y = df_cross['satisfaction']"
   ]
  },
  {
   "cell_type": "code",
   "execution_count": 104,
   "id": "08c7a8e3",
   "metadata": {},
   "outputs": [],
   "source": [
    "X_train, X_test, y_train, y_test = train_test_split(X, y, test_size=0.3, random_state = 42)"
   ]
  },
  {
   "cell_type": "code",
   "execution_count": 105,
   "id": "c2d46ed2",
   "metadata": {},
   "outputs": [],
   "source": [
    "def fit_and_score(models, X_train, X_test, y_train, y_test):\n",
    "    np.random.seed(42)\n",
    "    \n",
    "    model_scores = {}\n",
    "    \n",
    "    for name, model in models.items():\n",
    "        model.fit(X_train, y_train)\n",
    "    \n",
    "        model_scores[name] = model.score(X_test, y_test)\n",
    "    return model_scores"
   ]
  },
  {
   "cell_type": "code",
   "execution_count": 106,
   "id": "42ce436f",
   "metadata": {},
   "outputs": [
    {
     "data": {
      "text/plain": [
       "{'Random Forest Classification': 0.9576871098526288}"
      ]
     },
     "execution_count": 106,
     "metadata": {},
     "output_type": "execute_result"
    }
   ],
   "source": [
    "models = { 'Random Forest Classification': RandomForestClassifier() }\n",
    "model_scores = fit_and_score(models=models, \n",
    "                             X_train=X_train,\n",
    "                            X_test=X_test,\n",
    "                            y_train=y_train,\n",
    "                            y_test=y_test)\n",
    "model_scores"
   ]
  },
  {
   "cell_type": "code",
   "execution_count": 107,
   "id": "1b44224c",
   "metadata": {},
   "outputs": [
    {
     "name": "stdout",
     "output_type": "stream",
     "text": [
      "Accuracy: 0.9570113906943819\n",
      "Precision: 0.9536670936125188\n",
      "Recall: 0.9714107436610131\n",
      "f1 score: 0.9624571460686787\n"
     ]
    }
   ],
   "source": [
    "ran = RandomForestClassifier()\n",
    "ran.fit(X_train, y_train)\n",
    "y_pre = ran.predict(X_test)\n",
    "\n",
    "print(\"Accuracy:\", accuracy_score(y_test, y_pre))\n",
    "print(\"Precision:\", precision_score(y_test, y_pre))\n",
    "print(\"Recall:\", recall_score(y_test, y_pre))\n",
    "print(\"f1 score:\", f1_score(y_test, y_pre))"
   ]
  },
  {
   "cell_type": "code",
   "execution_count": 108,
   "id": "82167c74",
   "metadata": {},
   "outputs": [],
   "source": [
    "#this is additional experiment not classification method\n",
    "min_max_scaler = MinMaxScaler()\n",
    "X_train_min_max = min_max_scaler.fit_transform(X_train) #scale the data between [0,1] range\n",
    "scaler = StandardScaler().fit(X_train)\n",
    "X_scaled = scaler.transform(X_train)\n",
    "\n",
    "logreg  = LogisticRegression()\n",
    "logreg.fit(X_scaled, y_train)\n",
    "\n",
    "y_predictions = logreg.predict(X_test)\n",
    "#once we use X_train_min_max instead of X_scaled and results are different and report include these report \n",
    "#but one time X_train_min_max is broken we had to use X_scaled and results are different from X_train_min_max "
   ]
  },
  {
   "cell_type": "code",
   "execution_count": 109,
   "id": "13e56aa8",
   "metadata": {},
   "outputs": [
    {
     "name": "stdout",
     "output_type": "stream",
     "text": [
      "Accuracy: 0.5209472939056567\n",
      "Precision: 0.5633405740167307\n",
      "Recall: 0.6914175506268081\n",
      "f1 score: 0.6208424591249427\n"
     ]
    }
   ],
   "source": [
    "print(\"Accuracy:\", accuracy_score(y_test, y_predictions))\n",
    "print(\"Precision:\", precision_score(y_test, y_predictions))\n",
    "print(\"Recall:\", recall_score(y_test, y_predictions))\n",
    "print(\"f1 score:\", f1_score(y_test, y_predictions))"
   ]
  },
  {
   "cell_type": "code",
   "execution_count": 110,
   "id": "4b8572a4",
   "metadata": {},
   "outputs": [
    {
     "data": {
      "text/plain": [
       "<AxesSubplot:>"
      ]
     },
     "execution_count": 110,
     "metadata": {},
     "output_type": "execute_result"
    },
    {
     "data": {
      "image/png": "[encoded data removed]",
      "text/plain": [
       "<Figure size 432x288 with 2 Axes>"
      ]
     },
     "metadata": {
      "needs_background": "light"
     },
     "output_type": "display_data"
    }
   ],
   "source": [
    "conf2 = confusion_matrix(y_test, y_predictions)\n",
    "sns.heatmap(conf2, annot=True)"
   ]
  },
  {
   "cell_type": "code",
   "execution_count": 111,
   "id": "f3a811b3",
   "metadata": {},
   "outputs": [
    {
     "data": {
      "text/plain": [
       "{'GaussianNB': 0.8662076066670957}"
      ]
     },
     "execution_count": 111,
     "metadata": {},
     "output_type": "execute_result"
    }
   ],
   "source": [
    "models = { 'GaussianNB': GaussianNB() }\n",
    "model_scores = fit_and_score(models=models, \n",
    "                             X_train=X_train,\n",
    "                            X_test=X_test,\n",
    "                            y_train=y_train,\n",
    "                            y_test=y_test)\n",
    "model_scores"
   ]
  },
  {
   "cell_type": "code",
   "execution_count": 112,
   "id": "1f8acc17",
   "metadata": {},
   "outputs": [],
   "source": [
    "mean_fly = df_cross[\"Flight Distance\"].mean() #we binned our values according to mean value\n",
    "\n",
    "flight_distance=pd.cut(df_cross[\"Flight Distance\"],\n",
    "                            bins=[0, mean_fly, 5000],\n",
    "                            labels=[\"<=1189\", \">=1189\"])\n",
    "df_cross.insert(5, \"flight_distance\", flight_distance)"
   ]
  },
  {
   "cell_type": "code",
   "execution_count": 113,
   "id": "9ca6af92",
   "metadata": {},
   "outputs": [
    {
     "data": {
      "text/html": [
       "<div>\n",
       "<style scoped>\n",
       "    .dataframe tbody tr th:only-of-type {\n",
       "        vertical-align: middle;\n",
       "    }\n",
       "\n",
       "    .dataframe tbody tr th {\n",
       "        vertical-align: top;\n",
       "    }\n",
       "\n",
       "    .dataframe thead th {\n",
       "        text-align: right;\n",
       "    }\n",
       "</style>\n",
       "<table border=\"1\" class=\"dataframe\">\n",
       "  <thead>\n",
       "    <tr style=\"text-align: right;\">\n",
       "      <th></th>\n",
       "      <th>Customer Type</th>\n",
       "      <th>Type of Travel</th>\n",
       "      <th>Class</th>\n",
       "      <th>Flight Distance</th>\n",
       "      <th>Inflight wifi service</th>\n",
       "      <th>flight_distance</th>\n",
       "      <th>Ease of Online booking</th>\n",
       "      <th>Online boarding</th>\n",
       "      <th>Seat comfort</th>\n",
       "      <th>Inflight entertainment</th>\n",
       "      <th>On-board service</th>\n",
       "      <th>Leg room service</th>\n",
       "      <th>Baggage handling</th>\n",
       "      <th>Inflight service</th>\n",
       "      <th>Cleanliness</th>\n",
       "      <th>Departure Delay in Minutes</th>\n",
       "      <th>Arrival Delay in Minutes</th>\n",
       "      <th>satisfaction</th>\n",
       "    </tr>\n",
       "  </thead>\n",
       "  <tbody>\n",
       "    <tr>\n",
       "      <th>0</th>\n",
       "      <td>1</td>\n",
       "      <td>0</td>\n",
       "      <td>0</td>\n",
       "      <td>460</td>\n",
       "      <td>3</td>\n",
       "      <td>&lt;=1189</td>\n",
       "      <td>3</td>\n",
       "      <td>3</td>\n",
       "      <td>5</td>\n",
       "      <td>5</td>\n",
       "      <td>4</td>\n",
       "      <td>3</td>\n",
       "      <td>4</td>\n",
       "      <td>5</td>\n",
       "      <td>5</td>\n",
       "      <td>25</td>\n",
       "      <td>18.0</td>\n",
       "      <td>1</td>\n",
       "    </tr>\n",
       "    <tr>\n",
       "      <th>1</th>\n",
       "      <td>0</td>\n",
       "      <td>1</td>\n",
       "      <td>1</td>\n",
       "      <td>235</td>\n",
       "      <td>3</td>\n",
       "      <td>&lt;=1189</td>\n",
       "      <td>3</td>\n",
       "      <td>3</td>\n",
       "      <td>1</td>\n",
       "      <td>1</td>\n",
       "      <td>1</td>\n",
       "      <td>5</td>\n",
       "      <td>3</td>\n",
       "      <td>4</td>\n",
       "      <td>1</td>\n",
       "      <td>1</td>\n",
       "      <td>6.0</td>\n",
       "      <td>1</td>\n",
       "    </tr>\n",
       "    <tr>\n",
       "      <th>2</th>\n",
       "      <td>1</td>\n",
       "      <td>1</td>\n",
       "      <td>1</td>\n",
       "      <td>1142</td>\n",
       "      <td>2</td>\n",
       "      <td>&lt;=1189</td>\n",
       "      <td>2</td>\n",
       "      <td>5</td>\n",
       "      <td>5</td>\n",
       "      <td>5</td>\n",
       "      <td>4</td>\n",
       "      <td>3</td>\n",
       "      <td>4</td>\n",
       "      <td>4</td>\n",
       "      <td>5</td>\n",
       "      <td>0</td>\n",
       "      <td>0.0</td>\n",
       "      <td>0</td>\n",
       "    </tr>\n",
       "    <tr>\n",
       "      <th>3</th>\n",
       "      <td>1</td>\n",
       "      <td>1</td>\n",
       "      <td>1</td>\n",
       "      <td>562</td>\n",
       "      <td>2</td>\n",
       "      <td>&lt;=1189</td>\n",
       "      <td>5</td>\n",
       "      <td>2</td>\n",
       "      <td>2</td>\n",
       "      <td>2</td>\n",
       "      <td>2</td>\n",
       "      <td>5</td>\n",
       "      <td>3</td>\n",
       "      <td>4</td>\n",
       "      <td>2</td>\n",
       "      <td>11</td>\n",
       "      <td>9.0</td>\n",
       "      <td>1</td>\n",
       "    </tr>\n",
       "    <tr>\n",
       "      <th>4</th>\n",
       "      <td>1</td>\n",
       "      <td>1</td>\n",
       "      <td>1</td>\n",
       "      <td>214</td>\n",
       "      <td>3</td>\n",
       "      <td>&lt;=1189</td>\n",
       "      <td>3</td>\n",
       "      <td>5</td>\n",
       "      <td>5</td>\n",
       "      <td>3</td>\n",
       "      <td>3</td>\n",
       "      <td>4</td>\n",
       "      <td>4</td>\n",
       "      <td>3</td>\n",
       "      <td>3</td>\n",
       "      <td>0</td>\n",
       "      <td>0.0</td>\n",
       "      <td>0</td>\n",
       "    </tr>\n",
       "  </tbody>\n",
       "</table>\n",
       "</div>"
      ],
      "text/plain": [
       "   Customer Type  Type of Travel  Class  Flight Distance  \\\n",
       "0              1               0      0              460   \n",
       "1              0               1      1              235   \n",
       "2              1               1      1             1142   \n",
       "3              1               1      1              562   \n",
       "4              1               1      1              214   \n",
       "\n",
       "   Inflight wifi service flight_distance  Ease of Online booking  \\\n",
       "0                      3          <=1189                       3   \n",
       "1                      3          <=1189                       3   \n",
       "2                      2          <=1189                       2   \n",
       "3                      2          <=1189                       5   \n",
       "4                      3          <=1189                       3   \n",
       "\n",
       "   Online boarding  Seat comfort  Inflight entertainment  On-board service  \\\n",
       "0                3             5                       5                 4   \n",
       "1                3             1                       1                 1   \n",
       "2                5             5                       5                 4   \n",
       "3                2             2                       2                 2   \n",
       "4                5             5                       3                 3   \n",
       "\n",
       "   Leg room service  Baggage handling  Inflight service  Cleanliness  \\\n",
       "0                 3                 4                 5            5   \n",
       "1                 5                 3                 4            1   \n",
       "2                 3                 4                 4            5   \n",
       "3                 5                 3                 4            2   \n",
       "4                 4                 4                 3            3   \n",
       "\n",
       "   Departure Delay in Minutes  Arrival Delay in Minutes  satisfaction  \n",
       "0                          25                      18.0             1  \n",
       "1                           1                       6.0             1  \n",
       "2                           0                       0.0             0  \n",
       "3                          11                       9.0             1  \n",
       "4                           0                       0.0             0  "
      ]
     },
     "execution_count": 113,
     "metadata": {},
     "output_type": "execute_result"
    }
   ],
   "source": [
    "df_cross.head()"
   ]
  },
  {
   "cell_type": "code",
   "execution_count": 114,
   "id": "82f36fb3",
   "metadata": {},
   "outputs": [],
   "source": [
    "df_cross = df_cross.drop(\"Flight Distance\", axis=1)"
   ]
  },
  {
   "cell_type": "code",
   "execution_count": 115,
   "id": "29627caa",
   "metadata": {},
   "outputs": [
    {
     "data": {
      "text/html": [
       "<div>\n",
       "<style scoped>\n",
       "    .dataframe tbody tr th:only-of-type {\n",
       "        vertical-align: middle;\n",
       "    }\n",
       "\n",
       "    .dataframe tbody tr th {\n",
       "        vertical-align: top;\n",
       "    }\n",
       "\n",
       "    .dataframe thead th {\n",
       "        text-align: right;\n",
       "    }\n",
       "</style>\n",
       "<table border=\"1\" class=\"dataframe\">\n",
       "  <thead>\n",
       "    <tr style=\"text-align: right;\">\n",
       "      <th></th>\n",
       "      <th>Customer Type</th>\n",
       "      <th>Type of Travel</th>\n",
       "      <th>Class</th>\n",
       "      <th>Inflight wifi service</th>\n",
       "      <th>flight_distance</th>\n",
       "      <th>Ease of Online booking</th>\n",
       "      <th>Online boarding</th>\n",
       "      <th>Seat comfort</th>\n",
       "      <th>Inflight entertainment</th>\n",
       "      <th>On-board service</th>\n",
       "      <th>Leg room service</th>\n",
       "      <th>Baggage handling</th>\n",
       "      <th>Inflight service</th>\n",
       "      <th>Cleanliness</th>\n",
       "      <th>Departure Delay in Minutes</th>\n",
       "      <th>Arrival Delay in Minutes</th>\n",
       "      <th>satisfaction</th>\n",
       "    </tr>\n",
       "  </thead>\n",
       "  <tbody>\n",
       "    <tr>\n",
       "      <th>0</th>\n",
       "      <td>1</td>\n",
       "      <td>0</td>\n",
       "      <td>0</td>\n",
       "      <td>3</td>\n",
       "      <td>&lt;=1189</td>\n",
       "      <td>3</td>\n",
       "      <td>3</td>\n",
       "      <td>5</td>\n",
       "      <td>5</td>\n",
       "      <td>4</td>\n",
       "      <td>3</td>\n",
       "      <td>4</td>\n",
       "      <td>5</td>\n",
       "      <td>5</td>\n",
       "      <td>25</td>\n",
       "      <td>18.0</td>\n",
       "      <td>1</td>\n",
       "    </tr>\n",
       "    <tr>\n",
       "      <th>1</th>\n",
       "      <td>0</td>\n",
       "      <td>1</td>\n",
       "      <td>1</td>\n",
       "      <td>3</td>\n",
       "      <td>&lt;=1189</td>\n",
       "      <td>3</td>\n",
       "      <td>3</td>\n",
       "      <td>1</td>\n",
       "      <td>1</td>\n",
       "      <td>1</td>\n",
       "      <td>5</td>\n",
       "      <td>3</td>\n",
       "      <td>4</td>\n",
       "      <td>1</td>\n",
       "      <td>1</td>\n",
       "      <td>6.0</td>\n",
       "      <td>1</td>\n",
       "    </tr>\n",
       "    <tr>\n",
       "      <th>2</th>\n",
       "      <td>1</td>\n",
       "      <td>1</td>\n",
       "      <td>1</td>\n",
       "      <td>2</td>\n",
       "      <td>&lt;=1189</td>\n",
       "      <td>2</td>\n",
       "      <td>5</td>\n",
       "      <td>5</td>\n",
       "      <td>5</td>\n",
       "      <td>4</td>\n",
       "      <td>3</td>\n",
       "      <td>4</td>\n",
       "      <td>4</td>\n",
       "      <td>5</td>\n",
       "      <td>0</td>\n",
       "      <td>0.0</td>\n",
       "      <td>0</td>\n",
       "    </tr>\n",
       "    <tr>\n",
       "      <th>3</th>\n",
       "      <td>1</td>\n",
       "      <td>1</td>\n",
       "      <td>1</td>\n",
       "      <td>2</td>\n",
       "      <td>&lt;=1189</td>\n",
       "      <td>5</td>\n",
       "      <td>2</td>\n",
       "      <td>2</td>\n",
       "      <td>2</td>\n",
       "      <td>2</td>\n",
       "      <td>5</td>\n",
       "      <td>3</td>\n",
       "      <td>4</td>\n",
       "      <td>2</td>\n",
       "      <td>11</td>\n",
       "      <td>9.0</td>\n",
       "      <td>1</td>\n",
       "    </tr>\n",
       "    <tr>\n",
       "      <th>4</th>\n",
       "      <td>1</td>\n",
       "      <td>1</td>\n",
       "      <td>1</td>\n",
       "      <td>3</td>\n",
       "      <td>&lt;=1189</td>\n",
       "      <td>3</td>\n",
       "      <td>5</td>\n",
       "      <td>5</td>\n",
       "      <td>3</td>\n",
       "      <td>3</td>\n",
       "      <td>4</td>\n",
       "      <td>4</td>\n",
       "      <td>3</td>\n",
       "      <td>3</td>\n",
       "      <td>0</td>\n",
       "      <td>0.0</td>\n",
       "      <td>0</td>\n",
       "    </tr>\n",
       "  </tbody>\n",
       "</table>\n",
       "</div>"
      ],
      "text/plain": [
       "   Customer Type  Type of Travel  Class  Inflight wifi service  \\\n",
       "0              1               0      0                      3   \n",
       "1              0               1      1                      3   \n",
       "2              1               1      1                      2   \n",
       "3              1               1      1                      2   \n",
       "4              1               1      1                      3   \n",
       "\n",
       "  flight_distance  Ease of Online booking  Online boarding  Seat comfort  \\\n",
       "0          <=1189                       3                3             5   \n",
       "1          <=1189                       3                3             1   \n",
       "2          <=1189                       2                5             5   \n",
       "3          <=1189                       5                2             2   \n",
       "4          <=1189                       3                5             5   \n",
       "\n",
       "   Inflight entertainment  On-board service  Leg room service  \\\n",
       "0                       5                 4                 3   \n",
       "1                       1                 1                 5   \n",
       "2                       5                 4                 3   \n",
       "3                       2                 2                 5   \n",
       "4                       3                 3                 4   \n",
       "\n",
       "   Baggage handling  Inflight service  Cleanliness  \\\n",
       "0                 4                 5            5   \n",
       "1                 3                 4            1   \n",
       "2                 4                 4            5   \n",
       "3                 3                 4            2   \n",
       "4                 4                 3            3   \n",
       "\n",
       "   Departure Delay in Minutes  Arrival Delay in Minutes  satisfaction  \n",
       "0                          25                      18.0             1  \n",
       "1                           1                       6.0             1  \n",
       "2                           0                       0.0             0  \n",
       "3                          11                       9.0             1  \n",
       "4                           0                       0.0             0  "
      ]
     },
     "execution_count": 115,
     "metadata": {},
     "output_type": "execute_result"
    }
   ],
   "source": [
    "df_cross.head() #dissatisfaction is zero "
   ]
  },
  {
   "cell_type": "code",
   "execution_count": 116,
   "id": "59ba1f6f",
   "metadata": {},
   "outputs": [],
   "source": [
    "df_cross[\"flight_distance\"] = pd.get_dummies(df_cross[\"flight_distance\"])"
   ]
  },
  {
   "cell_type": "code",
   "execution_count": 117,
   "id": "3d9f2510",
   "metadata": {},
   "outputs": [],
   "source": [
    "X = df_cross.drop('satisfaction', axis=1)\n",
    "y = df_cross['satisfaction']"
   ]
  },
  {
   "cell_type": "code",
   "execution_count": 118,
   "id": "285c3945",
   "metadata": {},
   "outputs": [],
   "source": [
    "X_train, X_test, y_train, y_test = train_test_split(X, y, test_size=0.3, random_state = 42)"
   ]
  },
  {
   "cell_type": "code",
   "execution_count": 119,
   "id": "faee7f08",
   "metadata": {},
   "outputs": [
    {
     "data": {
      "text/plain": [
       "{'GaussianNB': 0.8676555762919107}"
      ]
     },
     "execution_count": 119,
     "metadata": {},
     "output_type": "execute_result"
    }
   ],
   "source": [
    "models = { 'GaussianNB': GaussianNB() }\n",
    "model_scores = fit_and_score(models=models, \n",
    "                             X_train=X_train,\n",
    "                            X_test=X_test,\n",
    "                            y_train=y_train,\n",
    "                            y_test=y_test)\n",
    "model_scores"
   ]
  },
  {
   "cell_type": "code",
   "execution_count": 120,
   "id": "718ed3ae",
   "metadata": {},
   "outputs": [],
   "source": [
    "gnb = GaussianNB()\n",
    "gnb.fit(X_train, y_train)\n",
    "\n",
    "gnb_pre = gnb.predict(X_test)"
   ]
  },
  {
   "cell_type": "code",
   "execution_count": 121,
   "id": "66c6ccf7",
   "metadata": {},
   "outputs": [
    {
     "data": {
      "text/plain": [
       "<AxesSubplot:>"
      ]
     },
     "execution_count": 121,
     "metadata": {},
     "output_type": "execute_result"
    },
    {
     "data": {
      "image/png": "[encoded data removed]",
      "text/plain": [
       "<Figure size 432x288 with 2 Axes>"
      ]
     },
     "metadata": {
      "needs_background": "light"
     },
     "output_type": "display_data"
    }
   ],
   "source": [
    "conf2 = confusion_matrix(y_test, gnb_pre)\n",
    "sns.heatmap(conf2, annot=True)"
   ]
  },
  {
   "cell_type": "code",
   "execution_count": 122,
   "id": "10341bc4",
   "metadata": {},
   "outputs": [
    {
     "name": "stdout",
     "output_type": "stream",
     "text": [
      "Accuracy: 0.8676555762919107\n",
      "Precision: 0.8704231528173646\n",
      "Recall: 0.9007884735379205\n",
      "f1 score: 0.8853455244891701\n"
     ]
    }
   ],
   "source": [
    "print(\"Accuracy:\", accuracy_score(y_test, gnb_pre))\n",
    "print(\"Precision:\", precision_score(y_test, gnb_pre))\n",
    "print(\"Recall:\", recall_score(y_test, gnb_pre))\n",
    "print(\"f1 score:\", f1_score(y_test, gnb_pre))"
   ]
  },
  {
   "cell_type": "code",
   "execution_count": null,
   "id": "2a562746",
   "metadata": {},
   "outputs": [],
   "source": []
  }
 ],
 "metadata": {
  "kernelspec": {
   "display_name": "Python 3.6 (tensorflow)",
   "language": "python",
   "name": "tensorflow"
  },
  "language_info": {
   "codemirror_mode": {
    "name": "ipython",
    "version": 3
   },
   "file_extension": ".py",
   "mimetype": "text/x-python",
   "name": "python",
   "nbconvert_exporter": "python",
   "pygments_lexer": "ipython3",
   "version": "3.7.11"
  }
 },
 "nbformat": 4,
 "nbformat_minor": 5
}
