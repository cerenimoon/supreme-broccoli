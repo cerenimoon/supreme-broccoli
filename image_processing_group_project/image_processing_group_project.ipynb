{
 "cells": [
  {
   "cell_type": "markdown",
   "id": "576babb8",
   "metadata": {},
   "source": [
    "#                         BM471 GÖRÜNTÜ İŞLEMEYE GİRİŞ\n",
    "##        Araç Görüntüsünden Plakayı ve Plaka Numarasını Ayrıştırma Projesi\n"
   ]
  },
  {
   "cell_type": "markdown",
   "id": "faf3e46b",
   "metadata": {},
   "source": [
    "###  Gerekli Kütüphanelrin Import Edilmesi"
   ]
  },
  {
   "cell_type": "code",
   "execution_count": null,
   "id": "cd86a1a6",
   "metadata": {
    "scrolled": true
   },
   "outputs": [],
   "source": [
    "import cv2\n",
    "import matplotlib.pyplot as plt \n",
    "import os\n",
    "import glob\n",
    "import numpy as np\n",
    "import imutils\n",
    "import easyocr\n",
    "import pandas as pd"
   ]
  },
  {
   "cell_type": "markdown",
   "id": "72690e55",
   "metadata": {},
   "source": [
    "### Araç Plaka Veri Setinin Okunması ve Görüntü İşleme"
   ]
  },
  {
   "cell_type": "code",
   "execution_count": null,
   "id": "3b856b40",
   "metadata": {},
   "outputs": [],
   "source": [
    "path = glob.glob(\"C:/Users/usta_/Desktop/Untitled Folder/images/*.png\")\n",
    "        \n",
    "img_array = []\n",
    "\n",
    "for file in path:\n",
    "    img = cv2.imread(file) \n",
    "    gray= cv2.cvtColor(img, cv2.COLOR_BGR2GRAY)\n",
    "    img_array.append(gray) #resmi img_array dizisine eklenir "
   ]
  },
  {
   "cell_type": "code",
   "execution_count": null,
   "id": "1ecf750f",
   "metadata": {
    "scrolled": true
   },
   "outputs": [],
   "source": [
    "print(len(img_array)) #433 adet resim vardır"
   ]
  },
  {
   "cell_type": "code",
   "execution_count": null,
   "id": "81ef7eb5",
   "metadata": {},
   "outputs": [],
   "source": [
    "for i in range(0, len(img_array)):\n",
    "    temp = img_array[i]\n",
    "    plt.imshow(cv2.cvtColor(temp,cv2.COLOR_BGR2RGB))\n",
    "    plt.show()\n",
    "    "
   ]
  },
  {
   "cell_type": "markdown",
   "id": "1c4fbc49",
   "metadata": {},
   "source": [
    "### 1- Filtreleme ve Kenarların Bulunması Adımı"
   ]
  },
  {
   "cell_type": "code",
   "execution_count": null,
   "id": "0dc8c575",
   "metadata": {},
   "outputs": [],
   "source": [
    "edged_array = [] #edged array\n",
    "\n",
    "for i in range(0, len(img_array)):\n",
    "    temp = img_array[i]\n",
    "    dfilter = cv2.bilateralFilter(temp, 11, 17, 17) #bilateral filtre uygulanıyor\n",
    "    edged = cv2.Canny(dfilter, 30, 200) #canny algoritmasıyla çizgiler çıkarılıyor\n",
    "    edged_array.append(edged)"
   ]
  },
  {
   "cell_type": "code",
   "execution_count": null,
   "id": "695716b7",
   "metadata": {},
   "outputs": [],
   "source": [
    "for i in range(0, len(edged_array)):\n",
    "    temp = edged_array[i]\n",
    "    plt.imshow(cv2.cvtColor(temp, cv2.COLOR_BGR2RGB))\n",
    "   # plt.imshow(temp, cmap=\"gray\")\n",
    "    plt.show()"
   ]
  },
  {
   "cell_type": "markdown",
   "id": "1348ffb3",
   "metadata": {},
   "source": [
    "### 2- Görüntünün Kontor Yapısının Çıkarılması"
   ]
  },
  {
   "cell_type": "code",
   "execution_count": null,
   "id": "2ef247ca",
   "metadata": {},
   "outputs": [],
   "source": [
    "contour_array = []\n",
    "\n",
    "for i in range(0, len(edged_array)):\n",
    "    temp = edged_array[i]\n",
    "    keypoints = cv2.findContours(temp.copy(), cv2.RETR_TREE, cv2.CHAIN_APPROX_SIMPLE)\n",
    "    contours = imutils.grab_contours(keypoints)\n",
    "    contours = sorted(contours, key=cv2.contourArea, reverse=True)[:10]\n",
    "    contour_array.append(contours)\n",
    "    "
   ]
  },
  {
   "cell_type": "code",
   "execution_count": null,
   "id": "abf21728",
   "metadata": {},
   "outputs": [],
   "source": [
    "loc_array = []\n",
    "\n",
    "for i in range(0, len(contour_array)):\n",
    "    location = None\n",
    "    for con in contour_array[i]:\n",
    "        approx = cv2.approxPolyDP(con, 10, True)\n",
    "        if len(approx) == 4:\n",
    "            location = approx\n",
    "            break\n",
    "    loc_array.append(location)"
   ]
  },
  {
   "cell_type": "code",
   "execution_count": null,
   "id": "ab14bfd0",
   "metadata": {
    "scrolled": true
   },
   "outputs": [],
   "source": [
    "len(loc_array)"
   ]
  },
  {
   "cell_type": "markdown",
   "id": "e6bee1cd",
   "metadata": {},
   "source": [
    "### 3- Maskeleme"
   ]
  },
  {
   "cell_type": "code",
   "execution_count": null,
   "id": "20956d25",
   "metadata": {},
   "outputs": [],
   "source": [
    "mask_array = []\n",
    "mask_array_2 = []\n",
    "\n",
    "for i in range(0, len(img_array)):\n",
    "    if np.any(loc_array[i] == None) == False:      \n",
    "        mask = np.zeros(img_array[i].shape, np.uint8)\n",
    "        new_image = cv2.drawContours(mask, [loc_array[i]], 0, 255, -1)\n",
    "        new_image = cv2.bitwise_and(img_array[i], img_array[i], mask=mask)\n",
    "        mask_array.append(new_image)\n",
    "        mask_array_2.append(mask)"
   ]
  },
  {
   "cell_type": "code",
   "execution_count": null,
   "id": "c6c8a2e1",
   "metadata": {
    "scrolled": true
   },
   "outputs": [],
   "source": [
    "for i in range(0, len(mask_array)):\n",
    "    temp = mask_array[i]\n",
    "    plt.imshow(temp, cmap=\"gray\")\n",
    "    plt.show()"
   ]
  },
  {
   "cell_type": "code",
   "execution_count": null,
   "id": "493a1988",
   "metadata": {
    "scrolled": true
   },
   "outputs": [],
   "source": [
    "print(len(mask_array))"
   ]
  },
  {
   "cell_type": "markdown",
   "id": "178ad148",
   "metadata": {},
   "source": [
    "### 4- Görüntüden Kırpılmış Plaka Görüntüsünün Elde Edilmesi"
   ]
  },
  {
   "cell_type": "code",
   "execution_count": null,
   "id": "9521cfe7",
   "metadata": {},
   "outputs": [],
   "source": [
    "cropped_array = []                         #coordinates of mask section include plate\n",
    "\n",
    "for i in range(0, len(mask_array)):\n",
    "    temp = img_array[i]\n",
    "    (x, y) = np.where(mask_array_2[i]==255) \n",
    "    (x1, y1) = (np.min(x), np.min(y))\n",
    "    (x2, y2) = (np.max(x), np.max(y))\n",
    "    cropped_image = temp[x1:x2 + 1, y1:y2 + 1]\n",
    "    cropped_array.append(cropped_image)"
   ]
  },
  {
   "cell_type": "code",
   "execution_count": null,
   "id": "c90ecd59",
   "metadata": {},
   "outputs": [],
   "source": [
    "for i in range(0, len(cropped_array)):\n",
    "    temp = cropped_array[i]\n",
    "    plt.imshow(temp, cmap=\"gray\")\n",
    "    plt.show()"
   ]
  },
  {
   "cell_type": "code",
   "execution_count": null,
   "id": "36e97eea",
   "metadata": {},
   "outputs": [],
   "source": [
    "len(cropped_array)"
   ]
  },
  {
   "cell_type": "code",
   "execution_count": null,
   "id": "27289911",
   "metadata": {
    "scrolled": true
   },
   "outputs": [],
   "source": [
    "import torch\n",
    "torch.cuda.empty_cache()"
   ]
  },
  {
   "cell_type": "markdown",
   "id": "7f443729",
   "metadata": {},
   "source": [
    "### 5- EasyOCR Kullanımı"
   ]
  },
  {
   "cell_type": "code",
   "execution_count": null,
   "id": "e7669f0d",
   "metadata": {},
   "outputs": [],
   "source": [
    "text_array = []\n",
    "\n",
    "for i in range(0,14):\n",
    "    reader = easyocr.Reader(['en'])\n",
    "    result = reader.readtext(cropped_array[i])\n",
    "    text_array.append(result)\n",
    "    "
   ]
  },
  {
   "cell_type": "code",
   "execution_count": null,
   "id": "f2c99803",
   "metadata": {
    "scrolled": true
   },
   "outputs": [],
   "source": [
    "new_array=[]\n",
    "\n",
    "for i in range(0, len(text_array)):\n",
    "    result=text_array[i]\n",
    "    \n",
    "    if len(result)==0:\n",
    "        text='null'\n",
    "    else:\n",
    "        text = result[0][-2]\n",
    "        \n",
    "    new_array.append(text)\n",
    "    print(\"Detected lisance plate number is: \",text )\n",
    "    "
   ]
  },
  {
   "cell_type": "code",
   "execution_count": null,
   "id": "cdd2ff74",
   "metadata": {
    "scrolled": false
   },
   "outputs": [],
   "source": [
    "text_array"
   ]
  },
  {
   "cell_type": "markdown",
   "id": "da026266",
   "metadata": {},
   "source": [
    "### 6- Plaka Yazılarının Excel Dosyasına Aktarımı"
   ]
  },
  {
   "cell_type": "code",
   "execution_count": null,
   "id": "e4b36d36",
   "metadata": {},
   "outputs": [],
   "source": [
    "listOfPlates = pd.DataFrame()\n",
    "for i in range(0, len(new_array)):\n",
    "    temp = pd.DataFrame({'Plates':[new_array[i]]})\n",
    "    listOfPlates=listOfPlates.append(temp)"
   ]
  },
  {
   "cell_type": "code",
   "execution_count": null,
   "id": "5b628d9a",
   "metadata": {},
   "outputs": [],
   "source": [
    "writer = pd.ExcelWriter('plates.xlsx')\n",
    "listOfPlates.to_csv('plates.csv',sep=',',index=False)\n",
    "writer.save()\n"
   ]
  },
  {
   "cell_type": "markdown",
   "id": "b5a056f1",
   "metadata": {},
   "source": [
    "######    Talha Yusuf İnan 181180040       \n",
    "######    Şeyma Usta 1811800073               \n",
    "######    Ceren Umay Özten 181180060\n"
   ]
  },
  {
   "cell_type": "code",
   "execution_count": null,
   "id": "6beaa846",
   "metadata": {},
   "outputs": [],
   "source": []
  }
 ],
 "metadata": {
  "kernelspec": {
   "display_name": "Python 3 (ipykernel)",
   "language": "python",
   "name": "python3"
  },
  "language_info": {
   "codemirror_mode": {
    "name": "ipython",
    "version": 3
   },
   "file_extension": ".py",
   "mimetype": "text/x-python",
   "name": "python",
   "nbconvert_exporter": "python",
   "pygments_lexer": "ipython3",
   "version": "3.7.11"
  }
 },
 "nbformat": 4,
 "nbformat_minor": 5
}
