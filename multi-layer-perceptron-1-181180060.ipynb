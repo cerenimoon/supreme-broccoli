{
 "cells": [
  {
   "cell_type": "code",
   "execution_count": 1,
   "id": "73ac0ce0",
   "metadata": {},
   "outputs": [],
   "source": [
    "#ceren umay ozten -181180060 - assignment - 1\n",
    "import numpy as np "
   ]
  },
  {
   "cell_type": "code",
   "execution_count": 2,
   "id": "eef32458",
   "metadata": {},
   "outputs": [],
   "source": [
    "def sigmoid(sum):\n",
    "    return 1/(1 + np.exp(-sum)) #sigmoid formula for more flexibility\n",
    "\n",
    "def sigmoid_derivative(sigmoid): #sigmoid derivative for backpropagation adjusting weights\n",
    "    return sigmoid*(1 - sigmoid)"
   ]
  },
  {
   "cell_type": "code",
   "execution_count": 3,
   "id": "0df4fa69",
   "metadata": {},
   "outputs": [
    {
     "data": {
      "text/plain": [
       "array([[ 0.20137489, -0.988298  , -0.8350174 ],\n",
       "       [-0.04527924,  0.9616224 , -0.96123865],\n",
       "       [ 0.98564658,  0.85816569,  0.71886479],\n",
       "       [ 0.51725858,  0.45792614, -0.70644273]])"
      ]
     },
     "execution_count": 3,
     "metadata": {},
     "output_type": "execute_result"
    }
   ],
   "source": [
    "W0 = 2*np.random.random((4,3)) - 1 #random W0 values and multiply it by 2 and substract 1 for negative and positive rows\n",
    "W0 #weights for four columns of iris data set with 3 numerals for hidden layer"
   ]
  },
  {
   "cell_type": "code",
   "execution_count": 4,
   "id": "f55c70e3",
   "metadata": {},
   "outputs": [
    {
     "data": {
      "text/plain": [
       "array([[ 0.36905519],\n",
       "       [-0.44896844],\n",
       "       [-0.94003666]])"
      ]
     },
     "execution_count": 4,
     "metadata": {},
     "output_type": "execute_result"
    }
   ],
   "source": [
    "W1 = 2*np.random.random((3, 1)) - 1 #random W1 values and multiply it by 2 and substract 1 for negative and positive rows\n",
    "W1 #three neuron one output"
   ]
  },
  {
   "cell_type": "code",
   "execution_count": 5,
   "id": "1132d1c1",
   "metadata": {},
   "outputs": [],
   "source": [
    "from sklearn import datasets #import datasets\n",
    "iris = datasets.load_iris() #load iris dataset"
   ]
  },
  {
   "cell_type": "code",
   "execution_count": 6,
   "id": "e926f9f1",
   "metadata": {},
   "outputs": [
    {
     "data": {
      "text/plain": [
       "array([[5.1, 3.5, 1.4, 0.2],\n",
       "       [4.9, 3. , 1.4, 0.2],\n",
       "       [4.7, 3.2, 1.3, 0.2],\n",
       "       [4.6, 3.1, 1.5, 0.2],\n",
       "       [5. , 3.6, 1.4, 0.2],\n",
       "       [5.4, 3.9, 1.7, 0.4],\n",
       "       [4.6, 3.4, 1.4, 0.3],\n",
       "       [5. , 3.4, 1.5, 0.2],\n",
       "       [4.4, 2.9, 1.4, 0.2],\n",
       "       [4.9, 3.1, 1.5, 0.1],\n",
       "       [5.4, 3.7, 1.5, 0.2],\n",
       "       [4.8, 3.4, 1.6, 0.2],\n",
       "       [4.8, 3. , 1.4, 0.1],\n",
       "       [4.3, 3. , 1.1, 0.1],\n",
       "       [5.8, 4. , 1.2, 0.2],\n",
       "       [5.7, 4.4, 1.5, 0.4],\n",
       "       [5.4, 3.9, 1.3, 0.4],\n",
       "       [5.1, 3.5, 1.4, 0.3],\n",
       "       [5.7, 3.8, 1.7, 0.3],\n",
       "       [5.1, 3.8, 1.5, 0.3],\n",
       "       [5.4, 3.4, 1.7, 0.2],\n",
       "       [5.1, 3.7, 1.5, 0.4],\n",
       "       [4.6, 3.6, 1. , 0.2],\n",
       "       [5.1, 3.3, 1.7, 0.5],\n",
       "       [4.8, 3.4, 1.9, 0.2],\n",
       "       [5. , 3. , 1.6, 0.2],\n",
       "       [5. , 3.4, 1.6, 0.4],\n",
       "       [5.2, 3.5, 1.5, 0.2],\n",
       "       [5.2, 3.4, 1.4, 0.2],\n",
       "       [4.7, 3.2, 1.6, 0.2],\n",
       "       [4.8, 3.1, 1.6, 0.2],\n",
       "       [5.4, 3.4, 1.5, 0.4],\n",
       "       [5.2, 4.1, 1.5, 0.1],\n",
       "       [5.5, 4.2, 1.4, 0.2],\n",
       "       [4.9, 3.1, 1.5, 0.2],\n",
       "       [5. , 3.2, 1.2, 0.2],\n",
       "       [5.5, 3.5, 1.3, 0.2],\n",
       "       [4.9, 3.6, 1.4, 0.1],\n",
       "       [4.4, 3. , 1.3, 0.2],\n",
       "       [5.1, 3.4, 1.5, 0.2],\n",
       "       [5. , 3.5, 1.3, 0.3],\n",
       "       [4.5, 2.3, 1.3, 0.3],\n",
       "       [4.4, 3.2, 1.3, 0.2],\n",
       "       [5. , 3.5, 1.6, 0.6],\n",
       "       [5.1, 3.8, 1.9, 0.4],\n",
       "       [4.8, 3. , 1.4, 0.3],\n",
       "       [5.1, 3.8, 1.6, 0.2],\n",
       "       [4.6, 3.2, 1.4, 0.2],\n",
       "       [5.3, 3.7, 1.5, 0.2],\n",
       "       [5. , 3.3, 1.4, 0.2],\n",
       "       [7. , 3.2, 4.7, 1.4],\n",
       "       [6.4, 3.2, 4.5, 1.5],\n",
       "       [6.9, 3.1, 4.9, 1.5],\n",
       "       [5.5, 2.3, 4. , 1.3],\n",
       "       [6.5, 2.8, 4.6, 1.5],\n",
       "       [5.7, 2.8, 4.5, 1.3],\n",
       "       [6.3, 3.3, 4.7, 1.6],\n",
       "       [4.9, 2.4, 3.3, 1. ],\n",
       "       [6.6, 2.9, 4.6, 1.3],\n",
       "       [5.2, 2.7, 3.9, 1.4],\n",
       "       [5. , 2. , 3.5, 1. ],\n",
       "       [5.9, 3. , 4.2, 1.5],\n",
       "       [6. , 2.2, 4. , 1. ],\n",
       "       [6.1, 2.9, 4.7, 1.4],\n",
       "       [5.6, 2.9, 3.6, 1.3],\n",
       "       [6.7, 3.1, 4.4, 1.4],\n",
       "       [5.6, 3. , 4.5, 1.5],\n",
       "       [5.8, 2.7, 4.1, 1. ],\n",
       "       [6.2, 2.2, 4.5, 1.5],\n",
       "       [5.6, 2.5, 3.9, 1.1],\n",
       "       [5.9, 3.2, 4.8, 1.8],\n",
       "       [6.1, 2.8, 4. , 1.3],\n",
       "       [6.3, 2.5, 4.9, 1.5],\n",
       "       [6.1, 2.8, 4.7, 1.2],\n",
       "       [6.4, 2.9, 4.3, 1.3],\n",
       "       [6.6, 3. , 4.4, 1.4],\n",
       "       [6.8, 2.8, 4.8, 1.4],\n",
       "       [6.7, 3. , 5. , 1.7],\n",
       "       [6. , 2.9, 4.5, 1.5],\n",
       "       [5.7, 2.6, 3.5, 1. ],\n",
       "       [5.5, 2.4, 3.8, 1.1],\n",
       "       [5.5, 2.4, 3.7, 1. ],\n",
       "       [5.8, 2.7, 3.9, 1.2],\n",
       "       [6. , 2.7, 5.1, 1.6],\n",
       "       [5.4, 3. , 4.5, 1.5],\n",
       "       [6. , 3.4, 4.5, 1.6],\n",
       "       [6.7, 3.1, 4.7, 1.5],\n",
       "       [6.3, 2.3, 4.4, 1.3],\n",
       "       [5.6, 3. , 4.1, 1.3],\n",
       "       [5.5, 2.5, 4. , 1.3],\n",
       "       [5.5, 2.6, 4.4, 1.2],\n",
       "       [6.1, 3. , 4.6, 1.4],\n",
       "       [5.8, 2.6, 4. , 1.2],\n",
       "       [5. , 2.3, 3.3, 1. ],\n",
       "       [5.6, 2.7, 4.2, 1.3],\n",
       "       [5.7, 3. , 4.2, 1.2],\n",
       "       [5.7, 2.9, 4.2, 1.3],\n",
       "       [6.2, 2.9, 4.3, 1.3],\n",
       "       [5.1, 2.5, 3. , 1.1],\n",
       "       [5.7, 2.8, 4.1, 1.3],\n",
       "       [6.3, 3.3, 6. , 2.5],\n",
       "       [5.8, 2.7, 5.1, 1.9],\n",
       "       [7.1, 3. , 5.9, 2.1],\n",
       "       [6.3, 2.9, 5.6, 1.8],\n",
       "       [6.5, 3. , 5.8, 2.2],\n",
       "       [7.6, 3. , 6.6, 2.1],\n",
       "       [4.9, 2.5, 4.5, 1.7],\n",
       "       [7.3, 2.9, 6.3, 1.8],\n",
       "       [6.7, 2.5, 5.8, 1.8],\n",
       "       [7.2, 3.6, 6.1, 2.5],\n",
       "       [6.5, 3.2, 5.1, 2. ],\n",
       "       [6.4, 2.7, 5.3, 1.9],\n",
       "       [6.8, 3. , 5.5, 2.1],\n",
       "       [5.7, 2.5, 5. , 2. ],\n",
       "       [5.8, 2.8, 5.1, 2.4],\n",
       "       [6.4, 3.2, 5.3, 2.3],\n",
       "       [6.5, 3. , 5.5, 1.8],\n",
       "       [7.7, 3.8, 6.7, 2.2],\n",
       "       [7.7, 2.6, 6.9, 2.3],\n",
       "       [6. , 2.2, 5. , 1.5],\n",
       "       [6.9, 3.2, 5.7, 2.3],\n",
       "       [5.6, 2.8, 4.9, 2. ],\n",
       "       [7.7, 2.8, 6.7, 2. ],\n",
       "       [6.3, 2.7, 4.9, 1.8],\n",
       "       [6.7, 3.3, 5.7, 2.1],\n",
       "       [7.2, 3.2, 6. , 1.8],\n",
       "       [6.2, 2.8, 4.8, 1.8],\n",
       "       [6.1, 3. , 4.9, 1.8],\n",
       "       [6.4, 2.8, 5.6, 2.1],\n",
       "       [7.2, 3. , 5.8, 1.6],\n",
       "       [7.4, 2.8, 6.1, 1.9],\n",
       "       [7.9, 3.8, 6.4, 2. ],\n",
       "       [6.4, 2.8, 5.6, 2.2],\n",
       "       [6.3, 2.8, 5.1, 1.5],\n",
       "       [6.1, 2.6, 5.6, 1.4],\n",
       "       [7.7, 3. , 6.1, 2.3],\n",
       "       [6.3, 3.4, 5.6, 2.4],\n",
       "       [6.4, 3.1, 5.5, 1.8],\n",
       "       [6. , 3. , 4.8, 1.8],\n",
       "       [6.9, 3.1, 5.4, 2.1],\n",
       "       [6.7, 3.1, 5.6, 2.4],\n",
       "       [6.9, 3.1, 5.1, 2.3],\n",
       "       [5.8, 2.7, 5.1, 1.9],\n",
       "       [6.8, 3.2, 5.9, 2.3],\n",
       "       [6.7, 3.3, 5.7, 2.5],\n",
       "       [6.7, 3. , 5.2, 2.3],\n",
       "       [6.3, 2.5, 5. , 1.9],\n",
       "       [6.5, 3. , 5.2, 2. ],\n",
       "       [6.2, 3.4, 5.4, 2.3],\n",
       "       [5.9, 3. , 5.1, 1.8]])"
      ]
     },
     "execution_count": 6,
     "metadata": {},
     "output_type": "execute_result"
    }
   ],
   "source": [
    "iris.data #show iris data features"
   ]
  },
  {
   "cell_type": "code",
   "execution_count": 7,
   "id": "01f525d2",
   "metadata": {},
   "outputs": [
    {
     "data": {
      "text/plain": [
       "['sepal length (cm)',\n",
       " 'sepal width (cm)',\n",
       " 'petal length (cm)',\n",
       " 'petal width (cm)']"
      ]
     },
     "execution_count": 7,
     "metadata": {},
     "output_type": "execute_result"
    }
   ],
   "source": [
    "iris.feature_names #columns of iris data sets -inputs-"
   ]
  },
  {
   "cell_type": "code",
   "execution_count": 8,
   "id": "8c9cfbc3",
   "metadata": {},
   "outputs": [
    {
     "data": {
      "text/plain": [
       "array([0, 0, 0, 0, 0, 0, 0, 0, 0, 0, 0, 0, 0, 0, 0, 0, 0, 0, 0, 0, 0, 0,\n",
       "       0, 0, 0, 0, 0, 0, 0, 0, 0, 0, 0, 0, 0, 0, 0, 0, 0, 0, 0, 0, 0, 0,\n",
       "       0, 0, 0, 0, 0, 0, 1, 1, 1, 1, 1, 1, 1, 1, 1, 1, 1, 1, 1, 1, 1, 1,\n",
       "       1, 1, 1, 1, 1, 1, 1, 1, 1, 1, 1, 1, 1, 1, 1, 1, 1, 1, 1, 1, 1, 1,\n",
       "       1, 1, 1, 1, 1, 1, 1, 1, 1, 1, 1, 1, 2, 2, 2, 2, 2, 2, 2, 2, 2, 2,\n",
       "       2, 2, 2, 2, 2, 2, 2, 2, 2, 2, 2, 2, 2, 2, 2, 2, 2, 2, 2, 2, 2, 2,\n",
       "       2, 2, 2, 2, 2, 2, 2, 2, 2, 2, 2, 2, 2, 2, 2, 2, 2, 2])"
      ]
     },
     "execution_count": 8,
     "metadata": {},
     "output_type": "execute_result"
    }
   ],
   "source": [
    "iris.target #output target 0 -> setosa 1 -> versicolor 2 -> virginica"
   ]
  },
  {
   "cell_type": "code",
   "execution_count": 9,
   "id": "e3c349be",
   "metadata": {},
   "outputs": [],
   "source": [
    "#we have only one neuron output layer because of this reason we use only 0 and 1 targets \n",
    "inputs = iris.data[0:100] #we grap first 100 instances including 0 and 1 target"
   ]
  },
  {
   "cell_type": "code",
   "execution_count": 10,
   "id": "c53e9f99",
   "metadata": {},
   "outputs": [
    {
     "data": {
      "text/plain": [
       "100"
      ]
     },
     "execution_count": 10,
     "metadata": {},
     "output_type": "execute_result"
    }
   ],
   "source": [
    "len(inputs) #shows length of the data set"
   ]
  },
  {
   "cell_type": "code",
   "execution_count": 11,
   "id": "1e4e3c60",
   "metadata": {},
   "outputs": [
    {
     "data": {
      "text/plain": [
       "(100, 4)"
      ]
     },
     "execution_count": 11,
     "metadata": {},
     "output_type": "execute_result"
    }
   ],
   "source": [
    "inputs.shape #shows dimensions of inputs"
   ]
  },
  {
   "cell_type": "code",
   "execution_count": 12,
   "id": "6f844620",
   "metadata": {},
   "outputs": [
    {
     "data": {
      "text/plain": [
       "array([0, 0, 0, 0, 0, 0, 0, 0, 0, 0, 0, 0, 0, 0, 0, 0, 0, 0, 0, 0, 0, 0,\n",
       "       0, 0, 0, 0, 0, 0, 0, 0, 0, 0, 0, 0, 0, 0, 0, 0, 0, 0, 0, 0, 0, 0,\n",
       "       0, 0, 0, 0, 0, 0, 1, 1, 1, 1, 1, 1, 1, 1, 1, 1, 1, 1, 1, 1, 1, 1,\n",
       "       1, 1, 1, 1, 1, 1, 1, 1, 1, 1, 1, 1, 1, 1, 1, 1, 1, 1, 1, 1, 1, 1,\n",
       "       1, 1, 1, 1, 1, 1, 1, 1, 1, 1, 1, 1])"
      ]
     },
     "execution_count": 12,
     "metadata": {},
     "output_type": "execute_result"
    }
   ],
   "source": [
    "outputs = iris.target[0:100] #we create target outputs\n",
    "outputs #just 0 and 1 instances "
   ]
  },
  {
   "cell_type": "code",
   "execution_count": 13,
   "id": "a03d8935",
   "metadata": {},
   "outputs": [
    {
     "data": {
      "text/plain": [
       "100"
      ]
     },
     "execution_count": 13,
     "metadata": {},
     "output_type": "execute_result"
    }
   ],
   "source": [
    "len(outputs) #length of the outputs"
   ]
  },
  {
   "cell_type": "code",
   "execution_count": 14,
   "id": "524d6534",
   "metadata": {},
   "outputs": [
    {
     "data": {
      "text/plain": [
       "(100,)"
      ]
     },
     "execution_count": 14,
     "metadata": {},
     "output_type": "execute_result"
    }
   ],
   "source": [
    "outputs.shape #dimensions of output data"
   ]
  },
  {
   "cell_type": "code",
   "execution_count": 15,
   "id": "6f620208",
   "metadata": {},
   "outputs": [
    {
     "data": {
      "text/plain": [
       "(100, 1)"
      ]
     },
     "execution_count": 15,
     "metadata": {},
     "output_type": "execute_result"
    }
   ],
   "source": [
    "outputs = outputs.reshape(-1, 1) #we reshape the outputs from vector type to matrix type same as outputs\n",
    "outputs.shape #100 rows 1 column matrix shape"
   ]
  },
  {
   "cell_type": "code",
   "execution_count": 16,
   "id": "beae93f0",
   "metadata": {},
   "outputs": [],
   "source": [
    "epochs = 10000 #epoch number 10000 and 3500\n",
    "learning_rate = 0.01 #learning_rate in homework example we choose learning_rate for small value 0.001 then relatively big value 0.3 and lastly 0.01\n",
    "error = [] #error array that takes average error values "
   ]
  },
  {
   "cell_type": "code",
   "execution_count": 17,
   "id": "a0485c69",
   "metadata": {},
   "outputs": [
    {
     "name": "stdout",
     "output_type": "stream",
     "text": [
      "Epoch: 1 Error: 0.5135677909741987\n",
      "Epoch: 1001 Error: 0.05726801970319144\n",
      "Epoch: 2001 Error: 0.038618557442763636\n",
      "Epoch: 3001 Error: 0.03091517037912328\n",
      "Epoch: 4001 Error: 0.026470684630094287\n",
      "Epoch: 5001 Error: 0.02349745581821209\n",
      "Epoch: 6001 Error: 0.02133267196549617\n",
      "Epoch: 7001 Error: 0.01966727843214793\n",
      "Epoch: 8001 Error: 0.018335469660698402\n",
      "Epoch: 9001 Error: 0.01723936247409856\n"
     ]
    }
   ],
   "source": [
    "#for epoch in epochs:\n",
    "\n",
    "for epoch in range(epochs):\n",
    "    input_layer = inputs #take input values\n",
    "    sum_syn0 = np.dot(input_layer, W0) #multiply input values with weights and sum\n",
    "    hidden_layer = sigmoid(sum_syn0) #activate the summation\n",
    "    \n",
    "    sum_syn1 = np.dot(hidden_layer, W1) #multiply hidden layer activations with weights and sum\n",
    "    output_layer = sigmoid(sum_syn1) #activate the summation\n",
    "    \n",
    "    error_output_layer = (outputs - output_layer) #average error between outputs -predictions- and real outputs\n",
    "    average = np.mean(abs(error_output_layer)) #take the average of error\n",
    "    if epoch%1000 == 0: #shows the epoch according to mod value and epoch number\n",
    "        print('Epoch: ' + str(epoch + 1) + ' Error: ' + str(average)) #print the average error\n",
    "        error.append(average) #add to the error list\n",
    "    \n",
    "    \n",
    "    derivative_output = sigmoid_derivative(output_layer) #derivative of output layer for delta_output\n",
    "    delta_output = error_output_layer*derivative_output #delta_output for gradient \n",
    "    \n",
    "    W1T = W1.T #transpoze of W1 \n",
    "    delta_output_weight = delta_output.dot(W1T) #multiply weights from hidden layer to output layer with delta_output\n",
    "    delta_hidden_layer = delta_output_weight*sigmoid_derivative(hidden_layer) #delta of hidden layer for gradient operation\n",
    "    \n",
    "    hidden_layerT = hidden_layer.T #transpoze of hidden_layer matris\n",
    "    input_x_delta1 = hidden_layerT.dot(delta_output) #multiply hiddenlayer variables with delta_output (gradient)\n",
    "    W1 = W1 + (input_x_delta1*learning_rate) #adjust weights with gradient for hidden layer to output layer\n",
    "    \n",
    "    input_layerT = input_layer.T #transpoze of hidden_layer matris\n",
    "    input_x_delta0 = input_layerT.dot(delta_hidden_layer) #multiply inputlayer variables with delta_hidden_layer (gradient)\n",
    "    W0 = W0 + (input_x_delta0*learning_rate) #adjust weigthts for from hidden_layer to input layer\n",
    "    #we apply backpropagation to adjust weights and calculate derivatives of neuron layer outputs \n",
    "    #when we apply 10000 epochs error decreasement is huge from 0.496462 to 0.0605625 learning_rate = 0.001 and accuracy \n",
    "    #rate is 0.9394374279\n",
    "    #0.001 leerning rate is default learning rate for must applications although low learning rate is slow to converge with\n",
    "    #gradient descent process, low learning rate prevents long distances from global minimum and stuck in local minimum\n",
    "    #This example works well with 10000 epoch value and low learning rate 0.001 \n",
    "    #high learning rate convergence is fast but lose global minimum target\n",
    "    #low learning rate will be slower but more likely to reach the global minimum\n",
    "    #but when we apply 0.3 instead of 0.001 learning rate and 10000 epoch error decreasement is nearly not exist \n",
    "    #from 0.5051860339828742 to 0.4999998406305917 error rate \n",
    "    #Therefore we choose 0.01 learning rate between 0.001 and 0.3 epoch 10000 an optimum value and get huge decreasement from 0.511908 to\n",
    "    #0.010766966 0.98923303 accuracy rate\n",
    "    #On 0.01 learning rate and 10000 epoch we get 0.01076696696658 error rate and 0.01727066"
   ]
  },
  {
   "cell_type": "code",
   "execution_count": 18,
   "id": "73ecc77e",
   "metadata": {},
   "outputs": [
    {
     "data": {
      "text/plain": [
       "0.9892330330334141"
      ]
     },
     "execution_count": 18,
     "metadata": {},
     "output_type": "execute_result"
    }
   ],
   "source": [
    "(1-0.010766966966585823) #accuracy rate of our neural network great accuracy rate on 0.01"
   ]
  },
  {
   "cell_type": "code",
   "execution_count": 19,
   "id": "984b0558",
   "metadata": {},
   "outputs": [
    {
     "data": {
      "text/plain": [
       "[<matplotlib.lines.Line2D at 0x28bf59b4348>]"
      ]
     },
     "execution_count": 19,
     "metadata": {},
     "output_type": "execute_result"
    },
    {
     "data": {
      "image/png": "[encoded data removed]",
      "text/plain": [
       "<Figure size 432x288 with 1 Axes>"
      ]
     },
     "metadata": {
      "needs_background": "light"
     },
     "output_type": "display_data"
    }
   ],
   "source": [
    "import matplotlib.pyplot as plt\n",
    "plt.xlabel('Epochs') #plot epoch x - axis line\n",
    "plt.ylabel('Error') #plot error y - axis line\n",
    "plt.plot(error) #plot error array\n",
    "#we see that error graphic follows a smooth path from 0.5 accuracy rate to below 0.0 accuracy rate in 0.01 \n",
    "#but epochs are too much for 0.01 because of this reason we decrease epochs from 10000 to approximately 3500\n",
    "#but this decrasement causing much lower accuracy performance and no change in graphic \n",
    "#therefore we remain in 10000"
   ]
  },
  {
   "cell_type": "code",
   "execution_count": 20,
   "id": "97f5b0e5",
   "metadata": {},
   "outputs": [],
   "source": [
    "def softmax_calculate_pred(instance):\n",
    "    hidden_layer = sigmoid(np.dot(instance, W0)) #create hidden layer with new W0 values\n",
    "    output_layer = sigmoid(np.dot(hidden_layer, W1)) #create output layer with new W1 values\n",
    "    return output_layer[0] #return output value as plain number version for rounding "
   ]
  },
  {
   "cell_type": "code",
   "execution_count": 21,
   "id": "e90bc202",
   "metadata": {},
   "outputs": [
    {
     "data": {
      "text/plain": [
       "(array([5.1, 3.5, 1.4, 0.2]), array([0]))"
      ]
     },
     "execution_count": 21,
     "metadata": {},
     "output_type": "execute_result"
    }
   ],
   "source": [
    "inputs[0], outputs[0] #shows first sample (iris) input and outputs"
   ]
  },
  {
   "cell_type": "code",
   "execution_count": 22,
   "id": "d66f6e6d",
   "metadata": {},
   "outputs": [],
   "source": [
    "pred_value = softmax_calculate_pred(inputs[0]) #calculate output for input values since we have one neuron output layer we can predict\n",
    "                                  #0 and 1 target values only !!"
   ]
  },
  {
   "cell_type": "code",
   "execution_count": 23,
   "id": "8c971a39",
   "metadata": {},
   "outputs": [],
   "source": [
    "round_value = round(pred_value) #round the value to get actual target label"
   ]
  },
  {
   "cell_type": "code",
   "execution_count": 24,
   "id": "9a89200f",
   "metadata": {},
   "outputs": [
    {
     "data": {
      "text/plain": [
       "'setosa'"
      ]
     },
     "execution_count": 24,
     "metadata": {},
     "output_type": "execute_result"
    }
   ],
   "source": [
    "iris.target_names[round_value] #we get setosa target name"
   ]
  },
  {
   "cell_type": "code",
   "execution_count": 25,
   "id": "8e52e48d",
   "metadata": {},
   "outputs": [],
   "source": [
    "def predict_method(instance): #we create predict method for easiness \n",
    "    pred_value = softmax_calculate_pred(instance)\n",
    "    round_value = round(pred_value)\n",
    "    return iris.target_names[round_value]"
   ]
  },
  {
   "cell_type": "code",
   "execution_count": 26,
   "id": "e2fc1d91",
   "metadata": {},
   "outputs": [
    {
     "data": {
      "text/plain": [
       "'versicolor'"
      ]
     },
     "execution_count": 26,
     "metadata": {},
     "output_type": "execute_result"
    }
   ],
   "source": [
    "predict_method(inputs[99]) #find versicolor"
   ]
  },
  {
   "cell_type": "code",
   "execution_count": 27,
   "id": "44b4beb3",
   "metadata": {},
   "outputs": [],
   "source": [
    "#Our neural network has 4 input neurons, 3 hidden_layer neurons and one output neuron\n",
    "#Our neural network performs well on 0.001 and 0.01 learning_rate values bu not on 0.3 value \n",
    "#Our neural network we use sigmoid activation function and most basic error rate calculation that output - real output\n",
    "#backpropagation process uses gradients with delta outputs with derivatives and error multiplication "
   ]
  },
  {
   "cell_type": "code",
   "execution_count": null,
   "id": "786502a7",
   "metadata": {},
   "outputs": [],
   "source": []
  }
 ],
 "metadata": {
  "kernelspec": {
   "display_name": "Python 3.6 (tensorflow)",
   "language": "python",
   "name": "tensorflow"
  },
  "language_info": {
   "codemirror_mode": {
    "name": "ipython",
    "version": 3
   },
   "file_extension": ".py",
   "mimetype": "text/x-python",
   "name": "python",
   "nbconvert_exporter": "python",
   "pygments_lexer": "ipython3",
   "version": "3.7.11"
  }
 },
 "nbformat": 4,
 "nbformat_minor": 5
}
