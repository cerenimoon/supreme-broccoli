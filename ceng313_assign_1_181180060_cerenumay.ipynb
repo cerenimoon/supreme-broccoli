{
 "cells": [
  {
   "cell_type": "code",
   "execution_count": 1,
   "metadata": {},
   "outputs": [],
   "source": [
    "import pandas as pd\n",
    "import numpy as np\n",
    "from matplotlib import pyplot as plt\n",
    "import sklearn\n",
    "titanik = pd.read_csv(r\"C:\\Users\\user\\Desktop\\train.csv\");"
   ]
  },
  {
   "cell_type": "code",
   "execution_count": 2,
   "metadata": {},
   "outputs": [
    {
     "data": {
      "text/html": [
       "<div>\n",
       "<style scoped>\n",
       "    .dataframe tbody tr th:only-of-type {\n",
       "        vertical-align: middle;\n",
       "    }\n",
       "\n",
       "    .dataframe tbody tr th {\n",
       "        vertical-align: top;\n",
       "    }\n",
       "\n",
       "    .dataframe thead th {\n",
       "        text-align: right;\n",
       "    }\n",
       "</style>\n",
       "<table border=\"1\" class=\"dataframe\">\n",
       "  <thead>\n",
       "    <tr style=\"text-align: right;\">\n",
       "      <th></th>\n",
       "      <th>PassengerId</th>\n",
       "      <th>Survived</th>\n",
       "      <th>Pclass</th>\n",
       "      <th>Name</th>\n",
       "      <th>Sex</th>\n",
       "      <th>Age</th>\n",
       "      <th>SibSp</th>\n",
       "      <th>Parch</th>\n",
       "      <th>Ticket</th>\n",
       "      <th>Fare</th>\n",
       "      <th>Cabin</th>\n",
       "      <th>Embarked</th>\n",
       "    </tr>\n",
       "  </thead>\n",
       "  <tbody>\n",
       "    <tr>\n",
       "      <th>0</th>\n",
       "      <td>1</td>\n",
       "      <td>0</td>\n",
       "      <td>3</td>\n",
       "      <td>Braund, Mr. Owen Harris</td>\n",
       "      <td>male</td>\n",
       "      <td>22.0</td>\n",
       "      <td>1</td>\n",
       "      <td>0</td>\n",
       "      <td>A/5 21171</td>\n",
       "      <td>7.2500</td>\n",
       "      <td>NaN</td>\n",
       "      <td>S</td>\n",
       "    </tr>\n",
       "    <tr>\n",
       "      <th>1</th>\n",
       "      <td>2</td>\n",
       "      <td>1</td>\n",
       "      <td>1</td>\n",
       "      <td>Cumings, Mrs. John Bradley (Florence Briggs Th...</td>\n",
       "      <td>female</td>\n",
       "      <td>38.0</td>\n",
       "      <td>1</td>\n",
       "      <td>0</td>\n",
       "      <td>PC 17599</td>\n",
       "      <td>71.2833</td>\n",
       "      <td>C85</td>\n",
       "      <td>C</td>\n",
       "    </tr>\n",
       "    <tr>\n",
       "      <th>2</th>\n",
       "      <td>3</td>\n",
       "      <td>1</td>\n",
       "      <td>3</td>\n",
       "      <td>Heikkinen, Miss. Laina</td>\n",
       "      <td>female</td>\n",
       "      <td>26.0</td>\n",
       "      <td>0</td>\n",
       "      <td>0</td>\n",
       "      <td>STON/O2. 3101282</td>\n",
       "      <td>7.9250</td>\n",
       "      <td>NaN</td>\n",
       "      <td>S</td>\n",
       "    </tr>\n",
       "    <tr>\n",
       "      <th>3</th>\n",
       "      <td>4</td>\n",
       "      <td>1</td>\n",
       "      <td>1</td>\n",
       "      <td>Futrelle, Mrs. Jacques Heath (Lily May Peel)</td>\n",
       "      <td>female</td>\n",
       "      <td>35.0</td>\n",
       "      <td>1</td>\n",
       "      <td>0</td>\n",
       "      <td>113803</td>\n",
       "      <td>53.1000</td>\n",
       "      <td>C123</td>\n",
       "      <td>S</td>\n",
       "    </tr>\n",
       "    <tr>\n",
       "      <th>4</th>\n",
       "      <td>5</td>\n",
       "      <td>0</td>\n",
       "      <td>3</td>\n",
       "      <td>Allen, Mr. William Henry</td>\n",
       "      <td>male</td>\n",
       "      <td>35.0</td>\n",
       "      <td>0</td>\n",
       "      <td>0</td>\n",
       "      <td>373450</td>\n",
       "      <td>8.0500</td>\n",
       "      <td>NaN</td>\n",
       "      <td>S</td>\n",
       "    </tr>\n",
       "  </tbody>\n",
       "</table>\n",
       "</div>"
      ],
      "text/plain": [
       "   PassengerId  Survived  Pclass  \\\n",
       "0            1         0       3   \n",
       "1            2         1       1   \n",
       "2            3         1       3   \n",
       "3            4         1       1   \n",
       "4            5         0       3   \n",
       "\n",
       "                                                Name     Sex   Age  SibSp  \\\n",
       "0                            Braund, Mr. Owen Harris    male  22.0      1   \n",
       "1  Cumings, Mrs. John Bradley (Florence Briggs Th...  female  38.0      1   \n",
       "2                             Heikkinen, Miss. Laina  female  26.0      0   \n",
       "3       Futrelle, Mrs. Jacques Heath (Lily May Peel)  female  35.0      1   \n",
       "4                           Allen, Mr. William Henry    male  35.0      0   \n",
       "\n",
       "   Parch            Ticket     Fare Cabin Embarked  \n",
       "0      0         A/5 21171   7.2500   NaN        S  \n",
       "1      0          PC 17599  71.2833   C85        C  \n",
       "2      0  STON/O2. 3101282   7.9250   NaN        S  \n",
       "3      0            113803  53.1000  C123        S  \n",
       "4      0            373450   8.0500   NaN        S  "
      ]
     },
     "execution_count": 2,
     "metadata": {},
     "output_type": "execute_result"
    }
   ],
   "source": [
    "#Q1\n",
    "titanik.head() #head() function shows us first 5 rows of dataset"
   ]
  },
  {
   "cell_type": "code",
   "execution_count": 3,
   "metadata": {},
   "outputs": [
    {
     "data": {
      "text/plain": [
       "(891,)"
      ]
     },
     "execution_count": 3,
     "metadata": {},
     "output_type": "execute_result"
    }
   ],
   "source": [
    "#Q2\n",
    "titanik[\"PassengerId\"].shape #titatik table dataset has 891 passengers "
   ]
  },
  {
   "cell_type": "code",
   "execution_count": 4,
   "metadata": {},
   "outputs": [
    {
     "data": {
      "text/plain": [
       "(891, 12)"
      ]
     },
     "execution_count": 4,
     "metadata": {},
     "output_type": "execute_result"
    }
   ],
   "source": [
    "titanik.shape #titanik dataset has 891 rows and 12 columns -featues-"
   ]
  },
  {
   "cell_type": "code",
   "execution_count": 5,
   "metadata": {},
   "outputs": [
    {
     "data": {
      "text/plain": [
       "10692"
      ]
     },
     "execution_count": 5,
     "metadata": {},
     "output_type": "execute_result"
    }
   ],
   "source": [
    "titanik.size #size method returns size of titanik"
   ]
  },
  {
   "cell_type": "code",
   "execution_count": 6,
   "metadata": {},
   "outputs": [
    {
     "data": {
      "text/plain": [
       "(891, 12)"
      ]
     },
     "execution_count": 6,
     "metadata": {},
     "output_type": "execute_result"
    }
   ],
   "source": [
    "#Q3 \n",
    "#dataset that does not include null passenger id\n",
    "#with notna() function we can return rows that does not include null values about that feature return true for not null rows\n",
    "passenger_id_not_null = titanik[titanik[\"PassengerId\"].notna()]\n",
    "passenger_id_not_null.shape #891 rows has passenger_id value (without null)"
   ]
  },
  {
   "cell_type": "code",
   "execution_count": 7,
   "metadata": {},
   "outputs": [
    {
     "data": {
      "text/plain": [
       "(891, 12)"
      ]
     },
     "execution_count": 7,
     "metadata": {},
     "output_type": "execute_result"
    }
   ],
   "source": [
    "p_class_not_null = titanik[titanik[\"Pclass\"].notna()] #dataset that does not include null passenger class\n",
    "p_class_not_null.shape #891 rows have passenger_class value (without null)"
   ]
  },
  {
   "cell_type": "code",
   "execution_count": 8,
   "metadata": {},
   "outputs": [
    {
     "data": {
      "text/plain": [
       "(891, 12)"
      ]
     },
     "execution_count": 8,
     "metadata": {},
     "output_type": "execute_result"
    }
   ],
   "source": [
    "survived_not_null = titanik[titanik[\"Survived\"].notna()] #dataset that does not include null survived \n",
    "survived_not_null.shape #891 rows have Survived feature value (without null)"
   ]
  },
  {
   "cell_type": "code",
   "execution_count": 9,
   "metadata": {},
   "outputs": [
    {
     "data": {
      "text/plain": [
       "(891, 12)"
      ]
     },
     "execution_count": 9,
     "metadata": {},
     "output_type": "execute_result"
    }
   ],
   "source": [
    "name_not_null = titanik[titanik[\"Name\"].notna()] #dataset that does not include null name\n",
    "name_not_null.shape #891 rows have name feature value (without null)"
   ]
  },
  {
   "cell_type": "code",
   "execution_count": 10,
   "metadata": {},
   "outputs": [
    {
     "data": {
      "text/plain": [
       "(891, 12)"
      ]
     },
     "execution_count": 10,
     "metadata": {},
     "output_type": "execute_result"
    }
   ],
   "source": [
    "sex_not_null = titanik[titanik[\"Sex\"].notna()] #dataset that does not include null sex\n",
    "sex_not_null.shape #891 rows have sex feature value (without null)"
   ]
  },
  {
   "cell_type": "code",
   "execution_count": 11,
   "metadata": {},
   "outputs": [
    {
     "data": {
      "text/plain": [
       "(714, 12)"
      ]
     },
     "execution_count": 11,
     "metadata": {},
     "output_type": "execute_result"
    }
   ],
   "source": [
    "age_not_null = titanik[titanik[\"Age\"].notna()] #dataset that does not include null age\n",
    "age_not_null.shape #714 rows have age feature value (without null)"
   ]
  },
  {
   "cell_type": "code",
   "execution_count": 12,
   "metadata": {},
   "outputs": [
    {
     "data": {
      "text/plain": [
       "(891, 12)"
      ]
     },
     "execution_count": 12,
     "metadata": {},
     "output_type": "execute_result"
    }
   ],
   "source": [
    "sibsp_not_null = titanik[titanik[\"SibSp\"].notna()] #dataset that does not include null sibsp\n",
    "sibsp_not_null.shape #891 rows have SiBSp feature value (without null)"
   ]
  },
  {
   "cell_type": "code",
   "execution_count": 13,
   "metadata": {},
   "outputs": [
    {
     "data": {
      "text/plain": [
       "(891, 12)"
      ]
     },
     "execution_count": 13,
     "metadata": {},
     "output_type": "execute_result"
    }
   ],
   "source": [
    "parch_not_null = titanik[titanik[\"Parch\"].notna()] #dataset that does not include null parch\n",
    "parch_not_null.shape #891 rows have Parch feature value (without null)"
   ]
  },
  {
   "cell_type": "code",
   "execution_count": 14,
   "metadata": {},
   "outputs": [
    {
     "data": {
      "text/plain": [
       "(891, 12)"
      ]
     },
     "execution_count": 14,
     "metadata": {},
     "output_type": "execute_result"
    }
   ],
   "source": [
    "ticket_not_null = titanik[titanik[\"Ticket\"].notna()] #dataset that does not include null ticket\n",
    "ticket_not_null.shape #891 rows have Ticket feature value (without null)"
   ]
  },
  {
   "cell_type": "code",
   "execution_count": 15,
   "metadata": {},
   "outputs": [
    {
     "data": {
      "text/plain": [
       "(891, 12)"
      ]
     },
     "execution_count": 15,
     "metadata": {},
     "output_type": "execute_result"
    }
   ],
   "source": [
    "fare_not_null = titanik[titanik[\"Fare\"].notna()] #dataset that does not include null fare\n",
    "fare_not_null.shape #891 rows have Fare feature value (without null)"
   ]
  },
  {
   "cell_type": "code",
   "execution_count": 16,
   "metadata": {},
   "outputs": [
    {
     "data": {
      "text/plain": [
       "(204, 12)"
      ]
     },
     "execution_count": 16,
     "metadata": {},
     "output_type": "execute_result"
    }
   ],
   "source": [
    "cabin_not_null = titanik[titanik[\"Cabin\"].notna()] #dataset that does not include null cabin\n",
    "cabin_not_null.shape #just 204 rows have Cabin feature value (without null)                             "
   ]
  },
  {
   "cell_type": "code",
   "execution_count": 17,
   "metadata": {},
   "outputs": [
    {
     "data": {
      "text/plain": [
       "(889, 12)"
      ]
     },
     "execution_count": 17,
     "metadata": {},
     "output_type": "execute_result"
    }
   ],
   "source": [
    "embarked_not_null = titanik[titanik[\"Embarked\"].notna()] #dataset that does not include null embarked\n",
    "embarked_not_null.shape #889 rows have Cabin feature value (without null)\n",
    "#embarked cabin and age features have missing values"
   ]
  },
  {
   "cell_type": "code",
   "execution_count": 18,
   "metadata": {},
   "outputs": [
    {
     "data": {
      "text/plain": [
       "(-1.110527902841568,\n",
       " 1.1005013287067413,\n",
       " -1.1137575634667558,\n",
       " 1.1211356814041649)"
      ]
     },
     "execution_count": 18,
     "metadata": {},
     "output_type": "execute_result"
    },
    {
     "data": {
      "image/png": "[encoded data removed]",
      "text/plain": [
       "<Figure size 432x288 with 1 Axes>"
      ]
     },
     "metadata": {},
     "output_type": "display_data"
    }
   ],
   "source": [
    "#Q4\n",
    "survived = titanik.loc[titanik[\"Survived\"] == 1, \"Name\"].shape  #we take datagram column which survival value is 1\n",
    "not_survived = titanik.loc[titanik[\"Survived\"] == 0, \"Name\"].shape  #we take datagram column which survival value is 0\n",
    "df = [survived, not_survived] #we store the values\n",
    "survival_labels = [\"Survived\", \"Not Survived\"] #we include the labels\n",
    "plt.pie(df, labels = survival_labels, autopct='%1.1f%%') #autopct include percentage to pie values \n",
    "plt.axis('equal') #This line makes pie chart cirle shape\n",
    "#unfortunately more people dont survive "
   ]
  },
  {
   "cell_type": "code",
   "execution_count": 19,
   "metadata": {
    "scrolled": true
   },
   "outputs": [
    {
     "data": {
      "text/plain": [
       "Text(0,0.5,'Number of Passengers')"
      ]
     },
     "execution_count": 19,
     "metadata": {},
     "output_type": "execute_result"
    },
    {
     "data": {
      "image/png": "[encoded data removed]",
      "text/plain": [
       "<Figure size 432x288 with 1 Axes>"
      ]
     },
     "metadata": {},
     "output_type": "display_data"
    }
   ],
   "source": [
    "#Q5\n",
    "Female_passengers = titanik.loc[titanik[\"Sex\"] == \"female\", \"Name\"].shape[0] #this line takes number of female with name column\n",
    "Male_passengers = titanik.loc[titanik[\"Sex\"] == \"male\", \"Name\"].shape[0] #this line takes number of male with name column\n",
    "index = ['Genders'] #this line depict x line index \n",
    "df = pd.DataFrame({'Male': Male_passengers, 'Female': Female_passengers}, index=index) #pandas dataframe \n",
    "ax = df.plot.bar(rot=0) #This line plot bar graphic according to df dataframe rot=0 rotate x -axis\n",
    "ax.set_ylabel('Number of Passengers')"
   ]
  },
  {
   "cell_type": "code",
   "execution_count": 20,
   "metadata": {},
   "outputs": [
    {
     "data": {
      "image/png": "[encoded data removed]",
      "text/plain": [
       "<Figure size 576x288 with 1 Axes>"
      ]
     },
     "metadata": {},
     "output_type": "display_data"
    }
   ],
   "source": [
    "#Q6  \n",
    "female_survived = titanik[(titanik[\"Sex\"] == \"female\") & (titanik[\"Survived\"] == 1)].shape[0] #this line takes female survived\n",
    "female_not_sur = titanik[(titanik[\"Sex\"] == \"female\") & (titanik[\"Survived\"] == 0)].shape[0] #this line takes female not survived\n",
    "male_survived = titanik[(titanik[\"Sex\"] == \"male\") & (titanik[\"Survived\"] == 1)].shape[0] #this line takes male survived \n",
    "male_not_sur = titanik[(titanik[\"Sex\"] == \"male\") & (titanik[\"Survived\"] == 0)].shape[0] #this line takes male not survived\n",
    "plt.figure(figsize = [8, 4])\n",
    "survival = [female_survived, female_not_sur, male_survived, male_not_sur]\n",
    "labels = ['female survived', 'female not survived', 'male survived', 'male not survived']\n",
    "plt.bar(labels, survival, width = 0.75, align = 'center', color = 'red')\n",
    "plt.show()"
   ]
  },
  {
   "cell_type": "code",
   "execution_count": 21,
   "metadata": {},
   "outputs": [
    {
     "data": {
      "text/plain": [
       "Text(0,0.5,'Survival rate %')"
      ]
     },
     "execution_count": 21,
     "metadata": {},
     "output_type": "execute_result"
    },
    {
     "data": {
      "image/png": "[encoded data removed]",
      "text/plain": [
       "<Figure size 432x288 with 1 Axes>"
      ]
     },
     "metadata": {},
     "output_type": "display_data"
    }
   ],
   "source": [
    "#Q7\n",
    "female_sur = titanik[(titanik[\"Sex\"] == \"female\") & (titanik[\"Survived\"] == 1)].shape[0] #This line takes female survived\n",
    "female_total = titanik[titanik[\"Sex\"] == \"female\"].shape[0] #this line takes total number of females\n",
    "male_sur = titanik[(titanik[\"Sex\"] == \"male\") & (titanik[\"Survived\"] == 1)].shape[0] #This line takes male survived\n",
    "male_total = titanik[titanik[\"Sex\"] == \"male\"].shape[0] #This line takes total number of males\n",
    "female_sur_rate = (female_sur)/(female_total) #This line calculates female survival rate\n",
    "female_sur_rate *= 100 # takes 100 percentage\n",
    "male_sur_rate = (male_sur)/(male_total) #This line calculates male survival rate\n",
    "male_sur_rate *= 100 # takes 100 percentage\n",
    "index = ['Survival rates by gender']\n",
    "df = pd.DataFrame({'Female Survival rate': female_sur_rate, 'Male Survival rate': male_sur_rate}, index = index) #This line create bar garphic with dataframe\n",
    "ax = df.plot.bar(rot=0) #This line plots bar graphic with zero x axis rotation\n",
    "ax.set_ylabel('Survival rate %') #write y label of bar graphic\n",
    "#in total there are more male passengers\n",
    "#female survival rate is greater than male survival rate More females survived\n",
    "#The reason might be priority of women for safeguarding when titanic were drowing safebots etc. "
   ]
  },
  {
   "cell_type": "code",
   "execution_count": 22,
   "metadata": {},
   "outputs": [
    {
     "data": {
      "text/html": [
       "<div>\n",
       "<style scoped>\n",
       "    .dataframe tbody tr th:only-of-type {\n",
       "        vertical-align: middle;\n",
       "    }\n",
       "\n",
       "    .dataframe tbody tr th {\n",
       "        vertical-align: top;\n",
       "    }\n",
       "\n",
       "    .dataframe thead th {\n",
       "        text-align: right;\n",
       "    }\n",
       "</style>\n",
       "<table border=\"1\" class=\"dataframe\">\n",
       "  <thead>\n",
       "    <tr style=\"text-align: right;\">\n",
       "      <th>Survived</th>\n",
       "      <th>0</th>\n",
       "      <th>1</th>\n",
       "      <th>All</th>\n",
       "    </tr>\n",
       "    <tr>\n",
       "      <th>Pclass</th>\n",
       "      <th></th>\n",
       "      <th></th>\n",
       "      <th></th>\n",
       "    </tr>\n",
       "  </thead>\n",
       "  <tbody>\n",
       "    <tr>\n",
       "      <th>1</th>\n",
       "      <td>80</td>\n",
       "      <td>136</td>\n",
       "      <td>216</td>\n",
       "    </tr>\n",
       "    <tr>\n",
       "      <th>2</th>\n",
       "      <td>97</td>\n",
       "      <td>87</td>\n",
       "      <td>184</td>\n",
       "    </tr>\n",
       "    <tr>\n",
       "      <th>3</th>\n",
       "      <td>372</td>\n",
       "      <td>119</td>\n",
       "      <td>491</td>\n",
       "    </tr>\n",
       "    <tr>\n",
       "      <th>All</th>\n",
       "      <td>549</td>\n",
       "      <td>342</td>\n",
       "      <td>891</td>\n",
       "    </tr>\n",
       "  </tbody>\n",
       "</table>\n",
       "</div>"
      ],
      "text/plain": [
       "Survived    0    1  All\n",
       "Pclass                 \n",
       "1          80  136  216\n",
       "2          97   87  184\n",
       "3         372  119  491\n",
       "All       549  342  891"
      ]
     },
     "execution_count": 22,
     "metadata": {},
     "output_type": "execute_result"
    }
   ],
   "source": [
    "#Q8\n",
    "pd.crosstab(index=titanik['Pclass'], columns = titanik['Survived'], margins=True) #margins=True add all columns and rows \n",
    "                                                                                  #information\n",
    "#class 1 is the most survived group\n",
    "#class 3 is the least survived group                                              "
   ]
  },
  {
   "cell_type": "code",
   "execution_count": 23,
   "metadata": {},
   "outputs": [
    {
     "name": "stdout",
     "output_type": "stream",
     "text": [
      "62.96296296296296\n",
      "47.28260869565217\n",
      "24.236252545824847\n"
     ]
    }
   ],
   "source": [
    "class_1_rate = (136/216)*100 #This lane calculates survival rate od class 1\n",
    "print(class_1_rate)\n",
    "class_2_rate = (87/184)*100 #This line calculates survival rate of class 2\n",
    "print(class_2_rate)\n",
    "class_3_rate = (119/491)*100 #This line calculates survival rate of class 3\n",
    "print(class_3_rate)"
   ]
  },
  {
   "cell_type": "code",
   "execution_count": 24,
   "metadata": {},
   "outputs": [
    {
     "data": {
      "text/plain": [
       "Text(0,0.5,'Number of passengers')"
      ]
     },
     "execution_count": 24,
     "metadata": {},
     "output_type": "execute_result"
    },
    {
     "data": {
      "image/png": "[encoded data removed]",
      "text/plain": [
       "<Figure size 432x288 with 1 Axes>"
      ]
     },
     "metadata": {},
     "output_type": "display_data"
    },
    {
     "data": {
      "image/png": "[encoded data removed]",
      "text/plain": [
       "<Figure size 432x288 with 1 Axes>"
      ]
     },
     "metadata": {},
     "output_type": "display_data"
    },
    {
     "data": {
      "image/png": "[encoded data removed]",
      "text/plain": [
       "<Figure size 432x288 with 1 Axes>"
      ]
     },
     "metadata": {},
     "output_type": "display_data"
    }
   ],
   "source": [
    "#Q9\n",
    "class_1_1 = titanik[(titanik[\"Pclass\"] == 1) & (titanik[\"Survived\"] == 1)].shape[0] #this line takes class 1 survived\n",
    "class_1_0 = titanik[(titanik[\"Pclass\"] == 1) & (titanik[\"Survived\"] == 0)].shape[0] #this line takes class 1 not survived\n",
    "class_2_1 = titanik[(titanik[\"Pclass\"] == 2) & (titanik[\"Survived\"] == 1)].shape[0] #this line takes class 2 survived\n",
    "class_2_0 = titanik[(titanik[\"Pclass\"] == 2) & (titanik[\"Survived\"] == 0)].shape[0] #this line takes class 2 not survived\n",
    "class_3_1 = titanik[(titanik[\"Pclass\"] == 3) & (titanik[\"Survived\"] == 1)].shape[0] #this line takes class 3 survived\n",
    "class_3_0 = titanik[(titanik[\"Pclass\"] == 3) & (titanik[\"Survived\"] == 0)].shape[0] #this line takes class 3 not survived\n",
    "index = ['Class 1']\n",
    "df1 = pd.DataFrame({'Class 1 survived': class_1_1, 'Class 1 not survived': class_1_0}, index=index)\n",
    "ax1 = df1.plot.bar(rot=0)\n",
    "ax1.set_ylabel('Number of passengers')\n",
    "index2 = ['Class 2']\n",
    "df2 = pd.DataFrame({'Class 2 survived': class_2_1, 'Class 2 not survived': class_2_0}, index=index2)\n",
    "ax2 = df2.plot.bar(rot=0)\n",
    "ax2.set_ylabel('Number of passengers')\n",
    "index3 = ['Class 3']\n",
    "df3 = pd.DataFrame({'Class 3 survived': class_3_1, 'Class 3 not survived': class_3_0}, index=index3)\n",
    "ax3 = df3.plot.bar(rot=0)\n",
    "ax3.set_ylabel('Number of passengers')"
   ]
  },
  {
   "cell_type": "code",
   "execution_count": 25,
   "metadata": {},
   "outputs": [
    {
     "data": {
      "text/html": [
       "<div>\n",
       "<style scoped>\n",
       "    .dataframe tbody tr th:only-of-type {\n",
       "        vertical-align: middle;\n",
       "    }\n",
       "\n",
       "    .dataframe tbody tr th {\n",
       "        vertical-align: top;\n",
       "    }\n",
       "\n",
       "    .dataframe thead th {\n",
       "        text-align: right;\n",
       "    }\n",
       "</style>\n",
       "<table border=\"1\" class=\"dataframe\">\n",
       "  <thead>\n",
       "    <tr style=\"text-align: right;\">\n",
       "      <th></th>\n",
       "      <th>Pclass</th>\n",
       "      <th>1</th>\n",
       "      <th>2</th>\n",
       "      <th>3</th>\n",
       "      <th>All</th>\n",
       "    </tr>\n",
       "    <tr>\n",
       "      <th>Sex</th>\n",
       "      <th>Survived</th>\n",
       "      <th></th>\n",
       "      <th></th>\n",
       "      <th></th>\n",
       "      <th></th>\n",
       "    </tr>\n",
       "  </thead>\n",
       "  <tbody>\n",
       "    <tr>\n",
       "      <th rowspan=\"2\" valign=\"top\">female</th>\n",
       "      <th>0</th>\n",
       "      <td>3</td>\n",
       "      <td>6</td>\n",
       "      <td>72</td>\n",
       "      <td>81</td>\n",
       "    </tr>\n",
       "    <tr>\n",
       "      <th>1</th>\n",
       "      <td>91</td>\n",
       "      <td>70</td>\n",
       "      <td>72</td>\n",
       "      <td>233</td>\n",
       "    </tr>\n",
       "    <tr>\n",
       "      <th rowspan=\"2\" valign=\"top\">male</th>\n",
       "      <th>0</th>\n",
       "      <td>77</td>\n",
       "      <td>91</td>\n",
       "      <td>300</td>\n",
       "      <td>468</td>\n",
       "    </tr>\n",
       "    <tr>\n",
       "      <th>1</th>\n",
       "      <td>45</td>\n",
       "      <td>17</td>\n",
       "      <td>47</td>\n",
       "      <td>109</td>\n",
       "    </tr>\n",
       "    <tr>\n",
       "      <th>All</th>\n",
       "      <th></th>\n",
       "      <td>216</td>\n",
       "      <td>184</td>\n",
       "      <td>491</td>\n",
       "      <td>891</td>\n",
       "    </tr>\n",
       "  </tbody>\n",
       "</table>\n",
       "</div>"
      ],
      "text/plain": [
       "Pclass             1    2    3  All\n",
       "Sex    Survived                    \n",
       "female 0           3    6   72   81\n",
       "       1          91   70   72  233\n",
       "male   0          77   91  300  468\n",
       "       1          45   17   47  109\n",
       "All              216  184  491  891"
      ]
     },
     "execution_count": 25,
     "metadata": {},
     "output_type": "execute_result"
    }
   ],
   "source": [
    "#Q10\n",
    "pd.crosstab(index=[titanik['Sex'], titanik['Survived']], columns=titanik['Pclass'], margins=True) #margins=True add all column and row information\n",
    "#in all classes female passengers is more survived than male passengers (female had higher survival rate)\n",
    "#Female passengers have priority over male passengers about safeguarding issue (safeboats etc.)\n",
    "#Also female passengers have child care priority in family "
   ]
  },
  {
   "cell_type": "code",
   "execution_count": 26,
   "metadata": {},
   "outputs": [
    {
     "data": {
      "text/html": [
       "<div>\n",
       "<style scoped>\n",
       "    .dataframe tbody tr th:only-of-type {\n",
       "        vertical-align: middle;\n",
       "    }\n",
       "\n",
       "    .dataframe tbody tr th {\n",
       "        vertical-align: top;\n",
       "    }\n",
       "\n",
       "    .dataframe thead th {\n",
       "        text-align: right;\n",
       "    }\n",
       "</style>\n",
       "<table border=\"1\" class=\"dataframe\">\n",
       "  <thead>\n",
       "    <tr style=\"text-align: right;\">\n",
       "      <th></th>\n",
       "      <th>Age</th>\n",
       "    </tr>\n",
       "  </thead>\n",
       "  <tbody>\n",
       "    <tr>\n",
       "      <th>min</th>\n",
       "      <td>0.42</td>\n",
       "    </tr>\n",
       "    <tr>\n",
       "      <th>max</th>\n",
       "      <td>80.00</td>\n",
       "    </tr>\n",
       "  </tbody>\n",
       "</table>\n",
       "</div>"
      ],
      "text/plain": [
       "       Age\n",
       "min   0.42\n",
       "max  80.00"
      ]
     },
     "execution_count": 26,
     "metadata": {},
     "output_type": "execute_result"
    }
   ],
   "source": [
    "#Q11 and Q12\n",
    "titanik.agg({'Age': ['min', 'max']}) #agg method of pandas can make statistical information about different categories\n",
    "                                     #max age is 80 min age is 0.42"
   ]
  },
  {
   "cell_type": "code",
   "execution_count": 27,
   "metadata": {},
   "outputs": [
    {
     "data": {
      "text/plain": [
       "29.69911764705882"
      ]
     },
     "execution_count": 27,
     "metadata": {},
     "output_type": "execute_result"
    }
   ],
   "source": [
    "#Q13\n",
    "titanik[\"Age\"].mean() #mean method in pandas show us average of Age feature dataset information "
   ]
  },
  {
   "cell_type": "code",
   "execution_count": 28,
   "metadata": {},
   "outputs": [
    {
     "data": {
      "image/png": "[encoded data removed]",
      "text/plain": [
       "<Figure size 432x288 with 1 Axes>"
      ]
     },
     "metadata": {},
     "output_type": "display_data"
    }
   ],
   "source": [
    "#Q14\n",
    "#histogram based on age distribution of passengers who survive\n",
    "age_not_null = titanik[titanik[\"Age\"].notna()] #This line takes \"Ages\" dataframe that not include Nan values\n",
    "val = age_not_null.loc[age_not_null[\"Survived\"] == 1, \"Age\"].values #We initialize val with array version of ages of survived passengers dataframe \n",
    "plt.hist(val, bins=10) #This line plots histogram with 10 bins\n",
    "plt.title(\"Distribution of Age of Survived Passengers\") #histogram title\n",
    "plt.ylabel(\"Frequency of passenger numbers\", labelpad=12) #caption of y axis of histogram \n",
    "plt.xlabel(\"Ages\", labelpad=12) #caption of x axis of histogram\n",
    "plt.show() #shows histogram\n",
    "#the most survived age distribution is 20-30 range of ages\n",
    "#the least survived age distribution is 70-80 range of ages "
   ]
  },
  {
   "cell_type": "code",
   "execution_count": 29,
   "metadata": {},
   "outputs": [
    {
     "data": {
      "image/png": "[encoded data removed]",
      "text/plain": [
       "<Figure size 432x288 with 1 Axes>"
      ]
     },
     "metadata": {},
     "output_type": "display_data"
    }
   ],
   "source": [
    "#Q15\n",
    "ages_not_null = titanik[titanik[\"Age\"].notna()] #This lines takes \"Ages\" dataframe that not include Nan values\n",
    "val2 = ages_not_null.loc[ages_not_null[\"Survived\"] == 0, \"Age\"].values #We initialize val2 with array version of ages of not survived passengers  \n",
    "plt.hist(val2, bins=10) #This line plots histogram with 10 bins\n",
    "plt.title(\"Distribution of Age of not Survived Passengers\") #histogram title\n",
    "plt.ylabel(\"Frequency of passenger numbers\", labelpad=12) #caption of y axis of histogram\n",
    "plt.xlabel(\"Ages\", labelpad=12) #caption of x axis of histogram\n",
    "plt.show() #show the histogram\n",
    "#frequency of number of survived and not survived passengers is low in old ages 60-80 range ~\n",
    "#frequency of number of survived and not survived passengers is high in relatively young ages 15~ and 20-30 range"
   ]
  },
  {
   "cell_type": "code",
   "execution_count": 30,
   "metadata": {},
   "outputs": [
    {
     "data": {
      "text/html": [
       "<div>\n",
       "<style scoped>\n",
       "    .dataframe tbody tr th:only-of-type {\n",
       "        vertical-align: middle;\n",
       "    }\n",
       "\n",
       "    .dataframe tbody tr th {\n",
       "        vertical-align: top;\n",
       "    }\n",
       "\n",
       "    .dataframe thead th {\n",
       "        text-align: right;\n",
       "    }\n",
       "</style>\n",
       "<table border=\"1\" class=\"dataframe\">\n",
       "  <thead>\n",
       "    <tr style=\"text-align: right;\">\n",
       "      <th></th>\n",
       "      <th>Fare</th>\n",
       "    </tr>\n",
       "  </thead>\n",
       "  <tbody>\n",
       "    <tr>\n",
       "      <th>min</th>\n",
       "      <td>0.0000</td>\n",
       "    </tr>\n",
       "    <tr>\n",
       "      <th>max</th>\n",
       "      <td>512.3292</td>\n",
       "    </tr>\n",
       "  </tbody>\n",
       "</table>\n",
       "</div>"
      ],
      "text/plain": [
       "         Fare\n",
       "min    0.0000\n",
       "max  512.3292"
      ]
     },
     "execution_count": 30,
     "metadata": {},
     "output_type": "execute_result"
    }
   ],
   "source": [
    "#Q16 and Q17\n",
    "titanik.agg({'Fare': ['min', 'max']}) #This .agg method shows statistic information about min and max \n",
    "                                      #min fare 0.0000 max fare 512.3292"
   ]
  },
  {
   "cell_type": "code",
   "execution_count": 31,
   "metadata": {},
   "outputs": [
    {
     "data": {
      "text/plain": [
       "32.2042079685746"
      ]
     },
     "execution_count": 31,
     "metadata": {},
     "output_type": "execute_result"
    }
   ],
   "source": [
    "#Q18\n",
    "titanik[\"Fare\"].mean() #This mean method take the average of included column dataframe"
   ]
  },
  {
   "cell_type": "code",
   "execution_count": 32,
   "metadata": {},
   "outputs": [
    {
     "data": {
      "text/plain": [
       "Text(0,0.5,'Frequency of Passenger Numbers')"
      ]
     },
     "execution_count": 32,
     "metadata": {},
     "output_type": "execute_result"
    },
    {
     "data": {
      "image/png": "[encoded data removed]",
      "text/plain": [
       "<Figure size 432x288 with 1 Axes>"
      ]
     },
     "metadata": {},
     "output_type": "display_data"
    }
   ],
   "source": [
    "#Q19\n",
    "fares = titanik[\"Fare\"] #This lane takes \"Fare\" column information of dataframe\n",
    "fares.plot(kind='hist') #This line plot histogram according to faresthat  passengers pay\n",
    "plt.title(\"Distribution of Passengers According to Fare\")  #histogram title\n",
    "plt.xlabel(\"Amount of Fare Bill\") #histogram x axis caption\n",
    "plt.ylabel(\"Frequency of Passenger Numbers\") #histogram y axis caption"
   ]
  },
  {
   "cell_type": "code",
   "execution_count": 33,
   "metadata": {},
   "outputs": [
    {
     "name": "stdout",
     "output_type": "stream",
     "text": [
      "Number of children under ten with no parent:1\n"
     ]
    }
   ],
   "source": [
    "#Q20 \n",
    "children_under_10 = titanik[titanik[\"Age\"] < 10] #This line takes dataframe include ages that under 10\n",
    "children_under_10_has_no_parent = children_under_10[children_under_10[\"Parch\"] == 0].shape[0] #this line takes number of children -under ten- that has no parent\n",
    "print(\"Number of children under ten with no parent:\" + str(children_under_10_has_no_parent))        #shape[0] takes row number of dataframe"
   ]
  },
  {
   "cell_type": "code",
   "execution_count": 34,
   "metadata": {},
   "outputs": [
    {
     "data": {
      "text/html": [
       "<div>\n",
       "<style scoped>\n",
       "    .dataframe tbody tr th:only-of-type {\n",
       "        vertical-align: middle;\n",
       "    }\n",
       "\n",
       "    .dataframe tbody tr th {\n",
       "        vertical-align: top;\n",
       "    }\n",
       "\n",
       "    .dataframe thead th {\n",
       "        text-align: right;\n",
       "    }\n",
       "</style>\n",
       "<table border=\"1\" class=\"dataframe\">\n",
       "  <thead>\n",
       "    <tr style=\"text-align: right;\">\n",
       "      <th></th>\n",
       "      <th>PassengerId</th>\n",
       "      <th>Survived</th>\n",
       "      <th>Pclass</th>\n",
       "      <th>Name</th>\n",
       "      <th>Sex</th>\n",
       "      <th>Age</th>\n",
       "      <th>SibSp</th>\n",
       "      <th>Parch</th>\n",
       "      <th>Ticket</th>\n",
       "      <th>Fare</th>\n",
       "      <th>Cabin</th>\n",
       "      <th>Embarked</th>\n",
       "    </tr>\n",
       "  </thead>\n",
       "  <tbody>\n",
       "    <tr>\n",
       "      <th>777</th>\n",
       "      <td>778</td>\n",
       "      <td>1</td>\n",
       "      <td>3</td>\n",
       "      <td>Emanuel, Miss. Virginia Ethel</td>\n",
       "      <td>female</td>\n",
       "      <td>5.0</td>\n",
       "      <td>0</td>\n",
       "      <td>0</td>\n",
       "      <td>364516</td>\n",
       "      <td>12.475</td>\n",
       "      <td>NaN</td>\n",
       "      <td>S</td>\n",
       "    </tr>\n",
       "  </tbody>\n",
       "</table>\n",
       "</div>"
      ],
      "text/plain": [
       "     PassengerId  Survived  Pclass                           Name     Sex  \\\n",
       "777          778         1       3  Emanuel, Miss. Virginia Ethel  female   \n",
       "\n",
       "     Age  SibSp  Parch  Ticket    Fare Cabin Embarked  \n",
       "777  5.0      0      0  364516  12.475   NaN        S  "
      ]
     },
     "execution_count": 34,
     "metadata": {},
     "output_type": "execute_result"
    }
   ],
   "source": [
    "children_under_10[children_under_10[\"Parch\"] == 0]\n",
    "#There is one children with no parent under 10\n",
    "#This might indicate that child was victim of family loss when world war series and need to reach nearest relatives "
   ]
  }
 ],
 "metadata": {
  "kernelspec": {
   "display_name": "Python 3",
   "language": "python",
   "name": "python3"
  },
  "language_info": {
   "codemirror_mode": {
    "name": "ipython",
    "version": 3
   },
   "file_extension": ".py",
   "mimetype": "text/x-python",
   "name": "python",
   "nbconvert_exporter": "python",
   "pygments_lexer": "ipython3",
   "version": "3.7.4"
  }
 },
 "nbformat": 4,
 "nbformat_minor": 2
}
