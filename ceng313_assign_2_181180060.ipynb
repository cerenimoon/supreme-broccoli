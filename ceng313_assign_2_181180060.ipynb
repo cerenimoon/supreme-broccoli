{
 "cells": [
  {
   "cell_type": "code",
   "execution_count": 1,
   "metadata": {},
   "outputs": [],
   "source": [
    "import pandas as pd\n",
    "import numpy as np\n",
    "from matplotlib import pyplot as plt\n",
    "import sklearn \n",
    "import math \n",
    "import random\n",
    "from sklearn import datasets\n",
    "from sklearn.model_selection import train_test_split"
   ]
  },
  {
   "cell_type": "code",
   "execution_count": 2,
   "metadata": {},
   "outputs": [
    {
     "name": "stdout",
     "output_type": "stream",
     "text": [
      "Keys of iris data set\n",
      "dict_keys(['data', 'target', 'target_names', 'DESCR', 'feature_names'])\n",
      "Classification labels\n",
      "['setosa' 'versicolor' 'virginica']\n",
      "Classification measurements\n",
      "['sepal length (cm)', 'sepal width (cm)', 'petal length (cm)', 'petal width (cm)']\n",
      "Shape of data\n",
      "(150, 4)\n",
      "Shape of targets\n",
      "(150,)\n",
      "Format of Classification labels\n",
      "[0 0 0 0 0 0 0 0 0 0 0 0 0 0 0 0 0 0 0 0 0 0 0 0 0 0 0 0 0 0 0 0 0 0 0 0 0\n",
      " 0 0 0 0 0 0 0 0 0 0 0 0 0 1 1 1 1 1 1 1 1 1 1 1 1 1 1 1 1 1 1 1 1 1 1 1 1\n",
      " 1 1 1 1 1 1 1 1 1 1 1 1 1 1 1 1 1 1 1 1 1 1 1 1 1 1 2 2 2 2 2 2 2 2 2 2 2\n",
      " 2 2 2 2 2 2 2 2 2 2 2 2 2 2 2 2 2 2 2 2 2 2 2 2 2 2 2 2 2 2 2 2 2 2 2 2 2\n",
      " 2 2]\n"
     ]
    }
   ],
   "source": [
    "iris = datasets.load_iris()\n",
    "#We load the data set\n",
    "print(\"Keys of iris data set\")\n",
    "print(iris.keys()) #keys of iris data set\n",
    "print(\"Classification labels\")\n",
    "print(iris['target_names']) #classification labels of target names\n",
    "print(\"Classification measurements\")\n",
    "print(iris['feature_names']) #classification measurements -they will use for knn algorithm\n",
    "print(\"Shape of data\")\n",
    "print(iris['data'].shape) #rows and colums of data set\n",
    "print(\"Shape of targets\")\n",
    "print(iris['target'].shape) #colums of data set\n",
    "print(\"Format of Classification labels\")\n",
    "print(iris['target']) #0 -> setosa 1 -> versicolor 2 -> virginica"
   ]
  },
  {
   "cell_type": "code",
   "execution_count": 3,
   "metadata": {},
   "outputs": [
    {
     "name": "stdout",
     "output_type": "stream",
     "text": [
      "X_train dataset shape\n",
      "(105, 4)\n",
      "X_test dataset shape\n",
      "(45, 4)\n",
      "y_train dataset shape\n",
      "(105,)\n",
      "y_test dataset shape\n",
      "(45,)\n"
     ]
    }
   ],
   "source": [
    "#KNN algorithm splitting data set into training and test \n",
    "#iris dataset split into training and test datasets by %70 %30 \n",
    "X_train, X_test, y_train, y_test = train_test_split(iris['data'], iris['target'], test_size = 0.3, random_state = 0)\n",
    "#with train_test_split function split iris data and iris target into X_train X_target y_train y_target data sets\n",
    "#according to test_size = 0.3 -0.7 train size\n",
    "print(\"X_train dataset shape\")\n",
    "print(X_train.shape)\n",
    "print(\"X_test dataset shape\")\n",
    "print(X_test.shape)\n",
    "print(\"y_train dataset shape\")\n",
    "print(y_train.shape)\n",
    "print(\"y_test dataset shape\")\n",
    "print(y_test.shape)"
   ]
  },
  {
   "cell_type": "code",
   "execution_count": 4,
   "metadata": {},
   "outputs": [
    {
     "name": "stdout",
     "output_type": "stream",
     "text": [
      "Label of iris flower is 1 versicolor\n",
      "Label of iris flower is 2 virginica\n",
      "Label of iris flower is 0 setosa\n",
      "Label of iris flower is  0 setosa\n"
     ]
    }
   ],
   "source": [
    "#KNN algorithm\n",
    "swap = True #swap True and False to creating alternative\n",
    "iris_label = {0 : 'setosa', 1 : 'versicolor', 2 : 'virginica'} #label dictionary\n",
    "def KNN(query, X_train, k, y_train):\n",
    "    neighbours_distances = [] #include neigbour distances\n",
    "    sorted_neighbours_distances = [] #includes neighbour distances sorted by distance value\n",
    "    K_array = [] #includes first k elements of sorted neighbour distances\n",
    "    K_labels = [] #includes first k elements of sorted distances's labels\n",
    "    for index1, index2 in enumerate(X_train): #index1 is row number index2 is each row's numpy array \n",
    "        distance = find_distance(index2, query) #initialize distance between index2 row points and query row points\n",
    "        neighbours_distances.append((distance, index1)) #add distance to neighbours_distances array\n",
    "        \n",
    "    sorted_neighbours_distances = sorted(neighbours_distances) #sorted metot sort neighbour distances ascending order\n",
    "    \n",
    "    K_array = sorted_neighbours_distances[:k] #First nearest K neighbours 0 to k exclude k\n",
    "    \n",
    "    for distance, i in K_array: #K_array has distance and i i is row number of each K_array row \n",
    "        #K_labels.append(X_train[i][1])\n",
    "        K_labels.append(y_train[i]) #we write k nearest row's index inside y_train y_train includes that row's label\n",
    "    \n",
    "    label_0 = 0 #label_0  includes label number has 0 \n",
    "    label_1 = 0 #label_1 includes label number has 1\n",
    "    label_2 = 0 #label_2 includes label number has 2\n",
    "\n",
    "    for n in range(len(K_labels)):\n",
    "        if  K_labels[n] == 0: #if label in K_labels has 0 increase label_0\n",
    "            label_0 += 1\n",
    "        elif K_labels[n] == 1: #if label in K_labels has 1 increase label_1\n",
    "            label_1 += 1\n",
    "        elif K_labels[n] == 2: #if label in K_labels has 2 increse label_2\n",
    "            label_2 += 1\n",
    "    \n",
    "    result_label = -1 #result label that would return as result predict\n",
    "    \n",
    "    if (label_0 > label_1) & (label_0 > label_2): #if label_0 is the max result_label = 0\n",
    "        result_label = 0\n",
    "    elif (label_1 > label_2) & (label_1 > label_0): #if label_1 is the max result_label = 1\n",
    "        result_label = 1\n",
    "    elif (label_2 > label_1) & (label_2 > label_0): #if label_2 is the max result_label = 2 \n",
    "        result_label = 2\n",
    "    elif (label_2 == label_1) & (label_1 == label_0): #if label_2 and label_1 and label_2 are equals return_label = 0, 1 and 2\n",
    "        result_label = random.randint(0, 2) #return int number between 0 and 1 both of them included\n",
    "    elif (label_0 == label_1) & (label_1 > label_2): #if label_0 and label_1 are equals and bigger than label_2 return_label = 1 or 0\n",
    "        result_label = random.randint(0,1) #return int number between 0 and 1 both of them included\n",
    "    elif (label_0 == label_2) & (label_2 > label_1): #if label_0 and label_2 are equals and bigger than label_1 return_label = 0 or 2\n",
    "        if swap == True: #swap between 0 and 2\n",
    "            result_label = 2\n",
    "            swap = False\n",
    "        elif swap == False:\n",
    "            result_label = 0\n",
    "            swap = True\n",
    "    elif (label_1 == label_2) & (label_2 > label_0): #if label_1 and label_2 are equals and bigger than 0 result_label = 1 or 2\n",
    "        result_label = random.randint(1,2) #return int number between 1 and 2 both of them included\n",
    "    \n",
    "    \n",
    "    return result_label\n",
    "\n",
    "#Find Euclidian distance between train array row points and query array row points\n",
    "def find_distance(train_array, array):\n",
    "    total = 0\n",
    "    for i in range(len(train_array)):\n",
    "        total += np.square(train_array[i] - array[i]) #np.square take two power of train_array - array\n",
    "    return np.sqrt(total) #np.sqrt take root of total\n",
    "                     \n",
    "    \n",
    "#First predictions about iris species\n",
    "print(\"Label of iris flower is\" + \" \" + str(KNN([3.2,3.0,5.5,1.0], X_train, 5, y_train)) + \" \" + iris_label[KNN([3.2, 3.0, 5.5, 1.0], X_train,5, y_train)])\n",
    "print(\"Label of iris flower is\" + \" \" + str(KNN([5.2,3.2,5.5,5.0], X_train, 3, y_train)) + \" \" + iris_label[KNN([5.2,3.2,5.5,5.0], X_train, 3, y_train)])\n",
    "print(\"Label of iris flower is\" + \" \" + str(KNN([5.4,3.7,1.5,0.2], X_train, 3, y_train)) + \" \" + iris_label[KNN([5.4, 3.7,1.5,0.2], X_train, 1, y_train)])\n",
    "print(\"Label of iris flower is\" + \"  \" + str(KNN([5.4,3.7,1.5,0.2], X_train, 7, y_train)) + \" \" + iris_label[KNN([5.4, 3.7, 1.5, 0.2], X_train, 7, y_train)])"
   ]
  },
  {
   "cell_type": "code",
   "execution_count": 5,
   "metadata": {},
   "outputs": [
    {
     "name": "stdout",
     "output_type": "stream",
     "text": [
      "Prediction performance for k=5 0.9777777777777777\n",
      "Prediction performance for k=3 0.9777777777777777\n",
      "Prediction performance for k=1 0.9777777777777777\n"
     ]
    }
   ],
   "source": [
    "#Prediction\n",
    "prediction_array_5 = [] #prediction array for k = 5\n",
    "prediction_array_3 = [] #prediction array for k= 3\n",
    "prediction_array_1 = [] #prediction array for k= 1\n",
    "for index1, index2 in enumerate(X_test): #index 1 is X_test row number and index2 that number's row\n",
    "    prediction = KNN(index2, X_train, 5, y_train) #initialize KNN prediction for first index2 row (query row)\n",
    "    prediction_array_5.append(prediction) #add prediction to prediction_array_5\n",
    "\n",
    "for inde1, inde2 in enumerate(X_test): #inde1 is X_test row number and inde2 that number's row  \n",
    "    prediction = KNN(inde2, X_train, 3, y_train) #initialize KNN prediction for first inde2 row (query row)\n",
    "    prediction_array_3.append(prediction) #add prediction to prediction_array_3\n",
    "    \n",
    "for inde1, inde2 in enumerate(X_test): #inde1 is X_test row number and inde2 that number's row\n",
    "    prediction = KNN(inde2, X_train, 1, y_train) #initialize KNN prediction for first inde2 row (query row) \n",
    "    prediction_array_1.append(prediction) #add prediction to prediction_array_1\n",
    "\n",
    "#each prediction array compared to y_test -real labels of X_test's row- in np.mean metot\n",
    "#each np.mean return accurate of KNN metot's prediction array with real y_test labels\n",
    "print(\"Prediction performance for k=5\" + \" \" + str(np.mean(prediction_array_5 == y_test)))\n",
    "print(\"Prediction performance for k=3\" + \" \" + str(np.mean(prediction_array_3 == y_test)))\n",
    "print(\"Prediction performance for k=1\" + \" \" + str(np.mean(prediction_array_1 == y_test)))"
   ]
  },
  {
   "cell_type": "code",
   "execution_count": 6,
   "metadata": {},
   "outputs": [],
   "source": [
    "#prediction accurate rate is 0.97 for k=5 , k=3 and k=1"
   ]
  }
 ],
 "metadata": {
  "kernelspec": {
   "display_name": "Python 3",
   "language": "python",
   "name": "python3"
  },
  "language_info": {
   "codemirror_mode": {
    "name": "ipython",
    "version": 3
   },
   "file_extension": ".py",
   "mimetype": "text/x-python",
   "name": "python",
   "nbconvert_exporter": "python",
   "pygments_lexer": "ipython3",
   "version": "3.6.5"
  }
 },
 "nbformat": 4,
 "nbformat_minor": 2
}
